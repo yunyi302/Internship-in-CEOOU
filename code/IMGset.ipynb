{
 "cells": [
  {
   "cell_type": "code",
   "execution_count": 81,
   "id": "08513f2c",
   "metadata": {},
   "outputs": [],
   "source": [
    "def select_refim():\n",
    "    #\tSelect good images for reference image\n",
    "    #\tNeed *.fits files with some headers\n",
    "    #\t\tseeing : 'SEEING'\n",
    "    #\t\tdepth  : 'UL5_1'\n",
    "    #\tGregory S.H. Paek\n",
    "    #\t21.08.05\n",
    "    import glob\n",
    "    imkey = input('Image key (./Calib*.fits):')\n",
    "    if imkey == '':\n",
    "        imkey = './Calib*.fits'\n",
    "    imlist = sorted(glob.glob(f'{imkey}'))\n",
    "\n",
    "    key_seeing = 'SEEING'\n",
    "    key_depth = 'UL5_2'\n",
    "\n",
    "    #\tSummary\n",
    "    print('='*60)\n",
    "    print(f'IMAGE KEY : {imkey}')\n",
    "    print('-'*60)\n",
    "    print(f'Images ({len(imlist)})')\n",
    "    print('-'*60)\n",
    "    print(f'Investigate Two Keys')\n",
    "    print(f'SEEING\\t:{key_seeing}')\n",
    "    print(f'DEPTH\\t:{key_depth}')\n",
    "    print('-'*60)\n",
    "\n",
    "    #\tTable\n",
    "    from astropy.table import Table\n",
    "    outbl = Table()\n",
    "    outbl['image'] = imlist\n",
    "    outbl['seeing'] = 0.0\n",
    "    outbl['depth'] = 0.0\n",
    "    n_all = len(outbl)\n",
    "\n",
    "    from astropy.io import fits\n",
    "    #\tFunction\n",
    "    def gethdrinfo(inim, key):\n",
    "        hdr = fits.getheader(inim)\n",
    "        if key in hdr.keys():\n",
    "            value = hdr[key]\n",
    "        else:\n",
    "            value = None\n",
    "        return value\n",
    "    print('Now Collecting Data...')\n",
    "    for i, inim in enumerate(imlist):\n",
    "        outbl['seeing'][i] = gethdrinfo(inim, key_seeing)\n",
    "        outbl['depth'][i] = gethdrinfo(inim, key_depth)\n",
    "\n",
    "    #\tPlot\n",
    "    import matplotlib.pyplot as plt\n",
    "    plt.close('all')\n",
    "    plt.xlim([0, 5])\n",
    "    plt.plot(outbl['seeing'], outbl['depth'], marker='o', mec='k', mfc='none', ls='none', label=f'Data ({n_all})', alpha=0.25)\n",
    "    plt.xlabel('Seeing [arcsec]', fontsize=20)\n",
    "    plt.ylabel('Depth [AB]', fontsize=20)\n",
    "    plt.grid('both', ls='--', c='grey', alpha=0.5)\n",
    "    plt.tight_layout()\n",
    "    plt.minorticks_on()\n",
    "    plt.show()\n",
    "\n",
    "    #\tSelect cutlines\n",
    "    print('-'*60)\n",
    "    print('Cutlines')\n",
    "    print('-'*60)\n",
    "    cut_seeing = float(input('Seeing cut\\t(2.5):'))\n",
    "    cut_depth = float(input('Depth cut\\t(19):'))\n",
    "    # cut_seeing = 2.3\n",
    "    # cut_depth = 18.7\n",
    "    \n",
    "    #\tPlot Cutlines\n",
    "    plt.axvline(x=cut_seeing, c='tomato', ls='-', label=f'Seeing <= {cut_seeing}')\n",
    "    plt.axhline(y=cut_depth, c='tomato', ls='-', label=f'Depth >= {cut_depth}')\n",
    "    plt.legend(fontsize=14, framealpha=1.0)\n",
    "\n",
    "    #\tSelected Data\n",
    "    seltbl = outbl[\n",
    "        (outbl['seeing'] <= cut_seeing) &\n",
    "        (outbl['depth'] >= cut_depth) \n",
    "        ]\n",
    "    n_sel = len(seltbl)\n",
    "    print('-'*60)\n",
    "    print(f'Selected Images ({n_sel})')\n",
    "    print('-'*60)\n",
    "    for inim in seltbl['image']: print(inim)\n",
    "\n",
    "    #\tExpected magnitude\n",
    "    import numpy as np\n",
    "    med_seeing = np.median(seltbl['seeing'])\n",
    "    std_seeing = np.std(seltbl['seeing'])\n",
    "    med_depth = np.median(seltbl['depth'])\n",
    "    std_depth = np.std(seltbl['depth'])\n",
    "    exp_depth = med_depth+2.5*np.log10(np.sqrt(n_sel))\n",
    "    print('-'*60)\n",
    "    print(f'Median Seeing\\t:{round(med_seeing, 1)}')\n",
    "    print(f'Median Depth\\t:{round(med_depth, 1)}')\n",
    "    print('')\n",
    "    print(f'Expected Depth\\t:{round(exp_depth, 1)}')\n",
    "    #\tPlot\n",
    "    plt.plot(seltbl['seeing'], seltbl['depth'], marker='o', mec='tomato', mfc='none', ls='none', label=f'Filtered Data ({n_sel})', alpha=1.0)\n",
    "    plt.errorbar([med_seeing], [med_depth], xerr=std_seeing, yerr=std_depth, c='k', mec='dodgerblue', mfc='none', ls='none', ms=10, capsize=5, label=f'Expected Depth : {round(exp_depth, 1)}')\n",
    "    plt.legend(fontsize=14, framealpha=1.0)\n",
    "\n",
    "    #\tSave Result Plot\n",
    "    import os\n",
    "    outpng = f'{os.path.dirname(imkey)}/plot.png'\n",
    "    print('-'*60)\n",
    "    print(f'Save plot ({outpng})')\n",
    "    plt.savefig(outpng, dpi=500, overwrite=True)\n",
    "\n",
    "    #\tCopy files\n",
    "    path2copy = './select'\n",
    "    print('-'*60)\n",
    "    copy_or_not = input(f'Do you want to copy selected data to {path2copy}? (y/n):')\n",
    "    if copy_or_not == 'y':\n",
    "        print(f'Copy {n_sel} images to {path2copy}')\n",
    "        if not os.path.isdir(path2copy):\n",
    "            os.system(f'mkdir {path2copy}')\n",
    "        for inim in seltbl['image']: os.system(f'cp {inim} {path2copy}')\n",
    "    elif (copy_or_not == 'n') | (copy_or_not == ''):\n",
    "        print('Skip copy')\n",
    "    else:\n",
    "        print('Wrong input and skip copy')\n",
    "        print('='*60)\n",
    "        print('END')"
   ]
  },
  {
   "cell_type": "code",
   "execution_count": 15,
   "id": "7b650e22",
   "metadata": {},
   "outputs": [],
   "source": [
    "def cpIMG(location):\n",
    "    import os\n",
    "    \n",
    "    #reset directory temp \n",
    "    os.chdir('/data3/yunyi/SOAO/temp')\n",
    "    path = '/data3/yunyi/SOAO/temp'\n",
    "    os.system('rm -r select')\n",
    "    for root, directories, files in os.walk(path, topdown=False):  \n",
    "        for name in files:\n",
    "            extens = os.path.splitext(name)[-1]\n",
    "            if extens !='.py':\n",
    "                os.system(f'rm {name}')\n",
    "                \n",
    "\n",
    "    #image move            \n",
    "    os.chdir(location)\n",
    "    os.system('cp Cal* /data3/yunyi/SOAO/temp')\n",
    "    \n",
    "    os.chdir('/data3/yunyi/SOAO/temp')\n",
    "    print(os.listdir())\n",
    "    \n",
    "    "
   ]
  },
  {
   "cell_type": "code",
   "execution_count": 20,
   "id": "b1ba03de",
   "metadata": {},
   "outputs": [],
   "source": [
    "def IMGsetting(name):\n",
    "    import os\n",
    "    \n",
    "    os.chdir('/data3/yunyi/SOAO/select')\n",
    "    os.system(f'mkdir {name}')\n",
    "    os.chdir('/data3/yunyi/SOAO/temp/select')\n",
    "    os.system(f'cp Cal* /data3/yunyi/SOAO/select/{name}')"
   ]
  },
  {
   "cell_type": "code",
   "execution_count": 84,
   "id": "0002394d",
   "metadata": {},
   "outputs": [],
   "source": [
    "cpIMG('/data6/IMSNG/IMSNGgalaxies/NGC0628/SOAO/R')"
   ]
  },
  {
   "cell_type": "code",
   "execution_count": 87,
   "id": "dd9dd84a",
   "metadata": {
    "scrolled": true
   },
   "outputs": [
    {
     "name": "stdout",
     "output_type": "stream",
     "text": [
      "Image key (./Calib*.fits):\n",
      "============================================================\n",
      "IMAGE KEY : ./Calib*.fits\n",
      "------------------------------------------------------------\n",
      "Images (145)\n",
      "------------------------------------------------------------\n",
      "Investigate Two Keys\n",
      "SEEING\t:SEEING\n",
      "DEPTH\t:UL5_2\n",
      "------------------------------------------------------------\n",
      "Now Collecting Data...\n"
     ]
    },
    {
     "data": {
      "image/png": "[encoded data removed]",
      "text/plain": [
       "<Figure size 432x288 with 1 Axes>"
      ]
     },
     "metadata": {
      "needs_background": "light"
     },
     "output_type": "display_data"
    },
    {
     "name": "stdout",
     "output_type": "stream",
     "text": [
      "------------------------------------------------------------\n",
      "Cutlines\n",
      "------------------------------------------------------------\n",
      "Seeing cut\t(2.5):2\n",
      "Depth cut\t(19):19.5\n",
      "------------------------------------------------------------\n",
      "Selected Images (10)\n",
      "------------------------------------------------------------\n",
      "./Calib-SOAO-NGC0628-20191010-174319-R-60.fits\n",
      "./Calib-SOAO-NGC0628-20191010-174424-R-60.fits\n",
      "./Calib-SOAO-NGC0628-20191010-174529-R-60.fits\n",
      "./Calib-SOAO-NGC0628-20191010-174634-R-60.fits\n",
      "./Calib-SOAO-NGC0628-20191020-175426-R-60.fits\n",
      "./Calib-SOAO-NGC0628-20201111-105920-R-60.fits\n",
      "./Calib-SOAO-NGC0628-20201111-110235-R-60.fits\n",
      "./Calib-SOAO-NGC0628-20201111-110340-R-60.fits\n",
      "./Calib-SOAO-NGC0628-20201112-115818-R-60.fits\n",
      "./Calib-SOAO-NGC0628-20201112-120133-R-60.fits\n",
      "------------------------------------------------------------\n",
      "Median Seeing\t:1.9\n",
      "Median Depth\t:19.6\n",
      "\n",
      "Expected Depth\t:20.9\n",
      "------------------------------------------------------------\n",
      "Save plot (./plot.png)\n"
     ]
    },
    {
     "name": "stderr",
     "output_type": "stream",
     "text": [
      "<ipython-input-81-40e2cd8f2e14>:109: MatplotlibDeprecationWarning: savefig() got unexpected keyword argument \"overwrite\" which is no longer supported as of 3.3 and will become an error two minor releases later\n",
      "  plt.savefig(outpng, dpi=500, overwrite=True)\n"
     ]
    },
    {
     "name": "stdout",
     "output_type": "stream",
     "text": [
      "------------------------------------------------------------\n",
      "Do you want to copy selected data to ./select? (y/n):y\n",
      "Copy 10 images to ./select\n"
     ]
    },
    {
     "data": {
      "image/png": "[encoded data removed]",
      "text/plain": [
       "<Figure size 432x288 with 1 Axes>"
      ]
     },
     "metadata": {
      "needs_background": "light"
     },
     "output_type": "display_data"
    }
   ],
   "source": [
    "os.chdir('/data3/yunyi/SOAO/temp')\n",
    "select_refim()"
   ]
  },
  {
   "cell_type": "code",
   "execution_count": 88,
   "id": "d0ddc744",
   "metadata": {},
   "outputs": [],
   "source": [
    "IMGsetting('NGC0628')"
   ]
  },
  {
   "cell_type": "code",
   "execution_count": null,
   "id": "1d19ae0f",
   "metadata": {},
   "outputs": [],
   "source": []
  }
 ],
 "metadata": {
  "kernelspec": {
   "display_name": "Python 3",
   "language": "python",
   "name": "python3"
  },
  "language_info": {
   "codemirror_mode": {
    "name": "ipython",
    "version": 3
   },
   "file_extension": ".py",
   "mimetype": "text/x-python",
   "name": "python",
   "nbconvert_exporter": "python",
   "pygments_lexer": "ipython3",
   "version": "3.8.10"
  }
 },
 "nbformat": 4,
 "nbformat_minor": 5
}
