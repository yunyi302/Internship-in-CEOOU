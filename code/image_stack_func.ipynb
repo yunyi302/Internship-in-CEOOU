{
 "cells": [
  {
   "cell_type": "code",
   "execution_count": 51,
   "id": "414e1520",
   "metadata": {},
   "outputs": [],
   "source": [
    "###image stacking \n",
    "###author : Yunyi Choi\n",
    "###last edit : 20210720\n",
    "\n",
    "def image_stack(n, how):\n",
    "    import numpy as np\n",
    "    import matplotlib.pyplot as plt\n",
    "    import os \n",
    "    import glob\n",
    "    import astropy.units as u\n",
    "    from astropy.nddata import CCDData\n",
    "    from ccdproc import Combiner\n",
    "    from astropy.io import fits\n",
    "    from astropy.io import ascii\n",
    "    from astropy.coordinates import SkyCoord\n",
    "    from astropy.time import Time\n",
    "    #import show_image_func as sif\n",
    "\n",
    "\n",
    "    images=[]\n",
    "    for i in range(n):\n",
    "\n",
    "        x=input('file name /data3/yunyi/SOAO/Calib-SOAO-NGC3147-20201026-183146-R-60.fits: ')\n",
    "\n",
    "        image_data=fits.open(x)\n",
    "\n",
    "        data=image_data[0].data\n",
    "\n",
    "        image=np.array(data)\n",
    "\n",
    "        images.append(image)\n",
    "\n",
    "    final_image=[]\n",
    "    if how == 'sum':\n",
    "\n",
    "        final_image=np.sum(images, axis=0)\n",
    "    \n",
    "    elif how == 'mean':\n",
    "\n",
    "        final_image=np.mean(images, axis=0)\n",
    "    \n",
    "    elif how == 'median':\n",
    "\n",
    "        final_image = np.median(images, axis=0)\n",
    "    \n",
    "    \n",
    "    outfile = input('outfile name (stacked_NGC3147_20201026_r_mean.fits): ')\n",
    "\n",
    "    hdu = fits.PrimaryHDU(final_image) \n",
    "    hdu.writeto(outfile, overwrite=True)\n",
    "    \n",
    "\n"
   ]
  },
  {
   "cell_type": "code",
   "execution_count": 54,
   "id": "8b89476c",
   "metadata": {},
   "outputs": [
    {
     "name": "stdout",
     "output_type": "stream",
     "text": [
      "file name /data3/yunyi/SOAO/Calib-SOAO-NGC3147-20201026-183146-R-60.fits: /data3/yunyi/SOAO/Calib-SOAO-NGC3147-20201026-183146-R-60.fits\n",
      "file name /data3/yunyi/SOAO/Calib-SOAO-NGC3147-20201026-183146-R-60.fits: /data3/yunyi/SOAO/Calib-SOAO-NGC3147-20201026-183041-R-60.fits\n",
      "file name /data3/yunyi/SOAO/Calib-SOAO-NGC3147-20201026-183146-R-60.fits: /data3/yunyi/SOAO/Calib-SOAO-NGC3147-20201026-182936-R-60.fits\n",
      "outfile name (stacked_NGC3147_20201026_r_mean.fits): trial4.fits\n"
     ]
    }
   ],
   "source": [
    "image_stack(3, 'median')"
   ]
  },
  {
   "cell_type": "code",
   "execution_count": 53,
   "id": "d5e67e61",
   "metadata": {},
   "outputs": [
    {
     "ename": "NameError",
     "evalue": "name 'final_image' is not defined",
     "output_type": "error",
     "traceback": [
      "\u001b[0;31m---------------------------------------------------------------------------\u001b[0m",
      "\u001b[0;31mNameError\u001b[0m                                 Traceback (most recent call last)",
      "\u001b[0;32m<ipython-input-53-dbac4b6682ec>\u001b[0m in \u001b[0;36m<module>\u001b[0;34m\u001b[0m\n\u001b[0;32m----> 1\u001b[0;31m \u001b[0mprint\u001b[0m\u001b[0;34m(\u001b[0m\u001b[0mfinal_image\u001b[0m\u001b[0;34m)\u001b[0m\u001b[0;34m\u001b[0m\u001b[0;34m\u001b[0m\u001b[0m\n\u001b[0m",
      "\u001b[0;31mNameError\u001b[0m: name 'final_image' is not defined"
     ]
    }
   ],
   "source": [
    "print(final_image)"
   ]
  },
  {
   "cell_type": "code",
   "execution_count": 18,
   "id": "c293a5ac",
   "metadata": {},
   "outputs": [
    {
     "ename": "NameError",
     "evalue": "name 'show_image' is not defined",
     "output_type": "error",
     "traceback": [
      "\u001b[0;31m---------------------------------------------------------------------------\u001b[0m",
      "\u001b[0;31mNameError\u001b[0m                                 Traceback (most recent call last)",
      "\u001b[0;32m<ipython-input-18-887426d648dd>\u001b[0m in \u001b[0;36m<module>\u001b[0;34m\u001b[0m\n\u001b[0;32m----> 1\u001b[0;31m \u001b[0mshow_image\u001b[0m\u001b[0;34m(\u001b[0m\u001b[0mfinal_image\u001b[0m\u001b[0;34m)\u001b[0m\u001b[0;34m\u001b[0m\u001b[0;34m\u001b[0m\u001b[0m\n\u001b[0m",
      "\u001b[0;31mNameError\u001b[0m: name 'show_image' is not defined"
     ]
    }
   ],
   "source": [
    "sif.show_image(final_image)"
   ]
  },
  {
   "cell_type": "code",
   "execution_count": null,
   "id": "f2f18110",
   "metadata": {},
   "outputs": [],
   "source": []
  }
 ],
 "metadata": {
  "kernelspec": {
   "display_name": "Python 3",
   "language": "python",
   "name": "python3"
  },
  "language_info": {
   "codemirror_mode": {
    "name": "ipython",
    "version": 3
   },
   "file_extension": ".py",
   "mimetype": "text/x-python",
   "name": "python",
   "nbconvert_exporter": "python",
   "pygments_lexer": "ipython3",
   "version": "3.8.10"
  }
 },
 "nbformat": 4,
 "nbformat_minor": 5
}
