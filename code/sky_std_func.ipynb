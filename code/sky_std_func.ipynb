{
 "cells": [
  {
   "cell_type": "code",
   "execution_count": 35,
   "id": "0d107f34",
   "metadata": {
    "scrolled": true
   },
   "outputs": [
    {
     "data": {
      "text/plain": [
       "\"\\nflux = np.array(flux)\\nxpos = np.array(xpos)\\n\\n\\nplt.figure(figsize=(10,7))\\nplt.plot(xpos,flux,c='black')\\nplt.title('magnitude of NGC2782', fontsize=20)\\nplt.xlabel('x position', fontsize=15)\\nplt.ylabel('Flux', fontsize=15)\\nplt.axvspan(num-70,num+70,facecolor='r', alpha=0.5)\\nplt.text(num, max_f, max_f,fontsize=15, color='b')\\n\""
      ]
     },
     "execution_count": 35,
     "metadata": {},
     "output_type": "execute_result"
    }
   ],
   "source": [
    "###sky noise standard deviation\n",
    "###author : Yunyi Choi\n",
    "###last edit : 20210716\n",
    "\n",
    "def sky_std(file, y, range1, range2):\n",
    "    import numpy as np\n",
    "    import matplotlib.pyplot as plt\n",
    "    import astropy.io.fits as fits\n",
    "\n",
    "    \n",
    "    specdata = fits.open(file)\n",
    "    specdata.info()\n",
    "\n",
    "    spectrum = specdata[0].data\n",
    "    header = specdata[0].header\n",
    "\n",
    "    #print(spectrum)\n",
    "\n",
    "    flux = []\n",
    "    xpos = []\n",
    "\n",
    "    i=y\n",
    "    for j in range(len(spectrum[i])):\n",
    "\n",
    "        xpos.append(j)\n",
    "\n",
    "        flux.append(spectrum[i][j])\n",
    "    \n",
    "    \n",
    "    num=flux.index(max(flux))\n",
    "    max_f=max(flux)\n",
    "\n",
    "    sky_flux=flux[range1:range2]\n",
    "    sky_std_value=np.std(sky_flux)\n",
    "    return sky_std_value\n",
    "\n",
    "\n",
    "'''\n",
    "flux = np.array(flux)\n",
    "xpos = np.array(xpos)\n",
    "\n",
    "\n",
    "plt.figure(figsize=(10,7))\n",
    "plt.plot(xpos,flux,c='black')\n",
    "plt.title('magnitude of NGC2782', fontsize=20)\n",
    "plt.xlabel('x position', fontsize=15)\n",
    "plt.ylabel('Flux', fontsize=15)\n",
    "plt.axvspan(num-70,num+70,facecolor='r', alpha=0.5)\n",
    "plt.text(num, max_f, max_f,fontsize=15, color='b')\n",
    "'''"
   ]
  },
  {
   "cell_type": "code",
   "execution_count": 36,
   "id": "5592ba05",
   "metadata": {},
   "outputs": [
    {
     "name": "stdout",
     "output_type": "stream",
     "text": [
      "Filename: /data3/yunyi/SOAO/Calib-SOAO-NGC3147-20201026-183146-R-60.fits\n",
      "No.    Name      Ver    Type      Cards   Dimensions   Format\n",
      "  0  PRIMARY       1 PrimaryHDU     334   (2048, 2048)   float64   \n"
     ]
    },
    {
     "data": {
      "text/plain": [
       "14.9360944112485"
      ]
     },
     "execution_count": 36,
     "metadata": {},
     "output_type": "execute_result"
    }
   ],
   "source": [
    "sky_std('/data3/yunyi/SOAO/Calib-SOAO-NGC3147-20201026-183146-R-60.fits', 833, 1000, 1500)"
   ]
  },
  {
   "cell_type": "code",
   "execution_count": 34,
   "id": "4703263c",
   "metadata": {},
   "outputs": [
    {
     "ename": "NameError",
     "evalue": "name 'sky_std_value' is not defined",
     "output_type": "error",
     "traceback": [
      "\u001b[0;31m---------------------------------------------------------------------------\u001b[0m",
      "\u001b[0;31mNameError\u001b[0m                                 Traceback (most recent call last)",
      "\u001b[0;32m<ipython-input-34-2fbe6b0909c8>\u001b[0m in \u001b[0;36m<module>\u001b[0;34m\u001b[0m\n\u001b[0;32m----> 1\u001b[0;31m \u001b[0mprint\u001b[0m\u001b[0;34m(\u001b[0m\u001b[0msky_std_value\u001b[0m\u001b[0;34m)\u001b[0m\u001b[0;34m\u001b[0m\u001b[0;34m\u001b[0m\u001b[0m\n\u001b[0m",
      "\u001b[0;31mNameError\u001b[0m: name 'sky_std_value' is not defined"
     ]
    }
   ],
   "source": [
    "print(sky_std_value)"
   ]
  },
  {
   "cell_type": "code",
   "execution_count": null,
   "id": "c4758187",
   "metadata": {},
   "outputs": [],
   "source": []
  }
 ],
 "metadata": {
  "kernelspec": {
   "display_name": "Python 3",
   "language": "python",
   "name": "python3"
  },
  "language_info": {
   "codemirror_mode": {
    "name": "ipython",
    "version": 3
   },
   "file_extension": ".py",
   "mimetype": "text/x-python",
   "name": "python",
   "nbconvert_exporter": "python",
   "pygments_lexer": "ipython3",
   "version": "3.8.10"
  }
 },
 "nbformat": 4,
 "nbformat_minor": 5
}
