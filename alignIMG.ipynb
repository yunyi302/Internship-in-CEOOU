{
 "cells": [
  {
   "cell_type": "code",
   "execution_count": 61,
   "id": "b9fc042d",
   "metadata": {},
   "outputs": [],
   "source": [
    "import os"
   ]
  },
  {
   "cell_type": "code",
   "execution_count": 62,
   "id": "bd256870",
   "metadata": {},
   "outputs": [],
   "source": [
    "def make_filelist(path):\n",
    "    import os\n",
    "\n",
    "    file=[]\n",
    "    for root, directories, files in os.walk(path, topdown=False):  \n",
    "        for name in files:\n",
    "            extens = os.path.splitext(name)[-1]\n",
    "            if extens =='.fits':\n",
    "                file.append(os.path.join(root,name))\n",
    "        \n",
    "    return file\n",
    "\n"
   ]
  },
  {
   "cell_type": "code",
   "execution_count": 63,
   "id": "b7c6cfcf",
   "metadata": {},
   "outputs": [],
   "source": [
    "def make_filelist_cat(path):\n",
    "    import os\n",
    "\n",
    "    file=[]\n",
    "    for root, directories, files in os.walk(path, topdown=False):  \n",
    "        for name in files:\n",
    "            extens = os.path.splitext(name)[-1]\n",
    "            if extens =='.cat':\n",
    "                file.append(os.path.join(root,name))\n",
    "        \n",
    "    return file"
   ]
  },
  {
   "cell_type": "code",
   "execution_count": 64,
   "id": "5a8e8723",
   "metadata": {},
   "outputs": [],
   "source": [
    "def load_data(filelist):\n",
    "# input = file list\n",
    "# output = fits data 3D tensor (ex)2048x2048xN_data)\n",
    "    import numpy as np\n",
    "    from astropy.io.fits.hdu import hdulist\n",
    "    from astropy.io import fits\n",
    "    from astropy.io.fits import getdata\n",
    "    from astropy.io.fits import getheader\n",
    "    \n",
    "    \n",
    "    stacked_data = []\n",
    "    for filename in filelist:\n",
    "        hdulist = np.array(fits.getdata(filename,ext=0))\n",
    "        hdulist = hdulist.byteswap().newbyteorder() # big endian -> little endian\n",
    "        stacked_data.append(hdulist)\n",
    "    return np.array(stacked_data)"
   ]
  },
  {
   "cell_type": "code",
   "execution_count": 65,
   "id": "deb2c74e",
   "metadata": {},
   "outputs": [],
   "source": [
    "def background(hdulist):\n",
    "    import sep \n",
    "    back_hdulist=[]\n",
    "   \n",
    "    \n",
    "    for i in aligned_hdulist:\n",
    "        bkg=sep.Background(i, bw=256, bh=256)\n",
    "        data_sub = data-bkg\n",
    "        back_hdulist.append(data_sub)\n",
    "        \n",
    "    return back_hdulist"
   ]
  },
  {
   "cell_type": "code",
   "execution_count": 66,
   "id": "eddaa72d",
   "metadata": {},
   "outputs": [],
   "source": [
    "def backcheck(hdulist):\n",
    "    import sep \n",
    "    back_hdulist=[]\n",
    "   \n",
    "    \n",
    "    for i in hdulist:\n",
    "        bkg=sep.Background(i, bw=256, bh=256)\n",
    "        back_hdulist.append(bkg.globalrms)\n",
    "        \n",
    "    return back_hdulist\n"
   ]
  },
  {
   "cell_type": "code",
   "execution_count": 67,
   "id": "7d19fb51",
   "metadata": {},
   "outputs": [],
   "source": [
    "def sigmaclipping(hdulist):\n",
    "    from astropy import stats\n",
    "    \n",
    "    clipped_list = []\n",
    "    for i in hdulist:\n",
    "        sigclip = stats.SigmaClip(sigma=2, maxiters=5)\n",
    "        clipped_list.append(sigclip(i))\n",
    "        \n",
    "    return clipped_list"
   ]
  },
  {
   "cell_type": "code",
   "execution_count": 68,
   "id": "0008dccf",
   "metadata": {},
   "outputs": [],
   "source": [
    "def sigmaclipping(hdulist):\n",
    "    from astropy import stats\n",
    "    \n",
    "    clipped_list=[]\n",
    "    for i in hdulist:\n",
    "        sigclip = stats.SigmaClip(sigma=2, maxiters=5)\n",
    "        clipped_list.append(sigclip(i))\n",
    "        \n",
    "    return clipped_list"
   ]
  },
  {
   "cell_type": "code",
   "execution_count": 490,
   "id": "f345e162",
   "metadata": {},
   "outputs": [],
   "source": [
    "def alignIMG(filelist, reference):\n",
    "# input = filelist, reference image\n",
    "# output = aligned images filelist, header\n",
    "    import os\n",
    "    from astropy.io import fits\n",
    "    from astropy.io.fits import getdata\n",
    "    from astropy.io.fits import getheader\n",
    "    import astroalign as aa\n",
    "      \n",
    "    dir_ = os.path.dirname(filelist[0])\n",
    "    hdulist = load_data(filelist)\n",
    "    #hdulist=sigmaclipping(hdulist)\n",
    "    \n",
    "\n",
    "    reference_image = fits.getdata(reference,ext=0)\n",
    "    reference_image = reference_image.byteswap().newbyteorder()\n",
    "    reference_header = fits.getheader(reference,ext=0)\n",
    "    os.chdir('/data3/yunyi/SOAO/select')\n",
    "    os.system('rm -r aligned')\n",
    "    os.mkdir('/data3/yunyi/SOAO/select/aligned')\n",
    "    os.chdir('/data3/yunyi/SOAO/select/aligned')\n",
    "    \n",
    "    for i, filename in enumerate(filelist):\n",
    "        file_name = os.path.split(filename)[1]\n",
    "        aligned_image, footprint = aa.register(hdulist[i], reference_image)\n",
    "        fits.writeto(\"aligned_%s\"%file_name, aligned_image, reference_header)\n",
    "    print('Reference image =', reference)\n",
    "\n",
    "    print(\"Image saved directory:\", os.getcwd())\n",
    "    aligned_filelist = os.listdir(os.getcwd())\n",
    "    return aligned_filelist, reference_header\n"
   ]
  },
  {
   "cell_type": "code",
   "execution_count": 279,
   "id": "e1b0a7da",
   "metadata": {},
   "outputs": [],
   "source": [
    "def zeropoint(catloca, ali_selist):\n",
    "    from astropy.coordinates import match_coordinates_sky\n",
    "    from astropy.coordinates import SkyCoord\n",
    "    from astropy.io import ascii\n",
    "    import csv\n",
    "    import pandas as pd\n",
    "    import numpy as np\n",
    "    import matplotlib.pyplot as plt\n",
    "    \n",
    "    ZP=[]\n",
    "    for i in range(len(ali_selist)):\n",
    "        catal=ascii.read(catloca)\n",
    "        ra = catal['raMean']\n",
    "        dec = catal['decMean']\n",
    "        inflag = catal['objInfoFlag']\n",
    "        qflag = catal['qualityFlag']\n",
    "        c = SkyCoord(ra, dec, frame='icrs', unit='deg')\n",
    "\n",
    "        ob = ascii.read(ali_selist[i])    \n",
    "        ALPHA_J2000 = ob['ALPHA_J2000']\n",
    "        DELTA_J2000 = ob['DELTA_J2000']\n",
    "        flag = ob['FLAGS']\n",
    "        o = SkyCoord(ALPHA_J2000, DELTA_J2000, frame='icrs', unit='deg')\n",
    "\n",
    "        indx, sep, _ = o.match_to_catalog_sky(c)\n",
    "        \n",
    "        #print(sep.arcsec)\n",
    "        P=[]\n",
    "        sep_limit=2\n",
    "\n",
    "        for i in range(len(o)):\n",
    "            if sep.arcsec[i]<sep_limit:\n",
    "                if flag[i]<1:\n",
    "                    if inflag[i] < 10**9:\n",
    "                        if qflag[i] < 100:\n",
    "                            P.append(i)\n",
    "                            \n",
    "        mag_ob = np.array(ob['MAG_AUTO'])\n",
    "        mag_catal = np.array(catal['R'])\n",
    "        magErr = np.array(ob['MAGERR_AUTO'])\n",
    "        gErr = np.array(catal['gMeanKronMagErr'])\n",
    "        rErr = np.array(catal['rMeanKronMagErr'])\n",
    "        FWHM = np.array(ob['FWHM_IMAGE'])\n",
    "\n",
    "        #zero point & zero point error calculation \n",
    "        zp = []\n",
    "        zpE = []\n",
    "        for i in range(len(mag_ob)):\n",
    "            u=indx[i]\n",
    "            x = float(mag_catal[u])-float(mag_ob[i])\n",
    "            e = np.sqrt(magErr[i]**2 + gErr[u]**2 + rErr[u]**2)\n",
    "            zp.append(x)\n",
    "            zpE.append(e)\n",
    "            \n",
    "        #zp versus ref mag\n",
    "        mag_c_new=[]\n",
    "        zp_new=[]\n",
    "        zpE_new=[]\n",
    "        seeing=[]\n",
    "        for i in P:\n",
    "            u=indx[i]\n",
    "            if 27.5>zp[i]:\n",
    "                if zpE[i]<0.1:\n",
    "                    if 17>mag_catal[u]>14:\n",
    "                        mag_c_new.append(mag_catal[u])\n",
    "                        zpE_new.append(zpE[i])\n",
    "                        zp_new.append(zp[i])\n",
    "                        seeing.append(0.4454*FWHM[i])\n",
    "        #print(zp_new)                \n",
    "        ZP.append(np.mean(zp_new))\n",
    "        print(np.mean(seeing))\n",
    "        print(seeing)\n",
    "                      \n",
    "    return ZP"
   ]
  },
  {
   "cell_type": "code",
   "execution_count": 273,
   "id": "99991723",
   "metadata": {},
   "outputs": [],
   "source": [
    "def scaling(catloca, aligned_filelist, ali_selist, reference_header, ZP):\n",
    "    import os\n",
    "    from astropy.io import fits\n",
    "    from astropy.io.fits import getdata\n",
    "    from astropy.io.fits import getheader\n",
    "    import numpy as np\n",
    "    #print(catloca)\n",
    "    \n",
    "    #ZP = zeropoint(catloca, ali_selist)\n",
    "    #print(ZP)\n",
    "    hdulist = load_data(aligned_filelist)\n",
    "    os.chdir('/data3/yunyi/SOAO/select')\n",
    "    os.system('rm -r scaled')\n",
    "    os.mkdir('/data3/yunyi/SOAO/select/scaled')\n",
    "    os.chdir('/data3/yunyi/SOAO/select/scaled')\n",
    "    \n",
    "    ZP_new =[]\n",
    "    hdulist_new = []\n",
    "    aligned_filelist_new = []\n",
    "    for i in range(len(hdulist)):\n",
    "        if np.isnan(ZP[i]) != True:\n",
    "            ZP_new.append(ZP[i])\n",
    "            hdulist_new.append(hdulist[i])\n",
    "            aligned_filelist_new.append(aligned_filelist[i])\n",
    "            \n",
    "    ZPmax = max(ZP_new)\n",
    "\n",
    "    ratio_flux = []\n",
    "    for zp in ZP:\n",
    "        dif = ZPmax - zp\n",
    "        ratio = 10**(dif/2.5)\n",
    "        ratio_flux.append(ratio)\n",
    "    print(ratio_flux)\n",
    "    \n",
    "    scaled_image=[]\n",
    "    for i, data in enumerate(hdulist_new):\n",
    "        scaled_image.append(data*ratio_flux[i])\n",
    "    \n",
    "        \n",
    "    for i, filename in enumerate(aligned_filelist_new):\n",
    "        file_name = os.path.split(filename)[1]\n",
    "        fits.writeto(\"scaled_%s\"%file_name, scaled_image[i], reference_header)\n",
    "    \n",
    "    print(\"Image saved directory:\", os.getcwd())\n",
    "    scaled_filelist = os.listdir(os.getcwd())\n",
    "    \n",
    "    #reset directory iraf \n",
    "    path = '/data3/yunyi/SOAO/iraf'\n",
    "    os.chdir('/data3/yunyi/SOAO/iraf')\n",
    "    for root, directories, files in os.walk(path, topdown=False):  \n",
    "        for name in files:\n",
    "            extens = os.path.splitext(name)[-1]\n",
    "            if extens =='.fits':\n",
    "                os.system(f'rm {name}')\n",
    "            elif extens =='.list':\n",
    "                os.system(f'rm {name}')\n",
    "                \n",
    "    #move scaled files in iraf\n",
    "    os.chdir('/data3/yunyi/SOAO/select/scaled')\n",
    "    os.system('cp scaled_* /data3/yunyi/SOAO/iraf')\n",
    "    os.chdir('/data3/yunyi/SOAO/iraf')\n",
    "    os.system('ls scaled_*> new.list')\n",
    "    \n",
    "    return scaled_image"
   ]
  },
  {
   "cell_type": "code",
   "execution_count": 334,
   "id": "9fa39fdd",
   "metadata": {},
   "outputs": [],
   "source": [
    "def make_selist(aligned_filelist, seeingval):\n",
    "    #copy aligned files to SOAO\n",
    "    os.chdir('/data3/yunyi/SOAO/select/aligned')\n",
    "    os.system('cp aligned_Calib* /data3/yunyi/SOAO')\n",
    "    \n",
    "    #reset selist\n",
    "    os.chdir('/data3/yunyi/SOAO/select')\n",
    "    os.system('rm -r selist')\n",
    "    os.mkdir('selist')\n",
    "    \n",
    "    #make new selist\n",
    "    apt_pix = seeingval*2/0.4454\n",
    "    os.chdir('/data3/yunyi/SOAO')\n",
    "    for filename in aligned_filelist:\n",
    "        os.system(f'sex {filename} -PHOT_APERTURES {apt_pix}')\n",
    "        filename = filename[:-5]\n",
    "        os.system(f'cp test.cat /data3/yunyi/SOAO/select/selist/{filename}.cat')\n",
    "        \n",
    "        \n",
    "    #remove aligned files in SOAO\n",
    "    os.chdir('/data3/yunyi/SOAO')\n",
    "    os.system('rm aligned_Calib*')"
   ]
  },
  {
   "cell_type": "code",
   "execution_count": 476,
   "id": "7c1a5426",
   "metadata": {},
   "outputs": [],
   "source": [
    "filelist=make_filelist('/data3/yunyi/SOAO/select/NGC0628')\n",
    "filelist=filelist[1:]\n",
    "reference = filelist[0]"
   ]
  },
  {
   "cell_type": "code",
   "execution_count": 477,
   "id": "c9c67526",
   "metadata": {},
   "outputs": [
    {
     "data": {
      "text/plain": [
       "['/data3/yunyi/SOAO/select/NGC0628/Calib-SOAO-NGC0628-20191010-174424-R-60.fits',\n",
       " '/data3/yunyi/SOAO/select/NGC0628/Calib-SOAO-NGC0628-20191010-174529-R-60.fits',\n",
       " '/data3/yunyi/SOAO/select/NGC0628/Calib-SOAO-NGC0628-20191010-174634-R-60.fits',\n",
       " '/data3/yunyi/SOAO/select/NGC0628/Calib-SOAO-NGC0628-20191020-175426-R-60.fits',\n",
       " '/data3/yunyi/SOAO/select/NGC0628/Calib-SOAO-NGC0628-20201111-105920-R-60.fits',\n",
       " '/data3/yunyi/SOAO/select/NGC0628/Calib-SOAO-NGC0628-20201111-110235-R-60.fits',\n",
       " '/data3/yunyi/SOAO/select/NGC0628/Calib-SOAO-NGC0628-20201111-110340-R-60.fits',\n",
       " '/data3/yunyi/SOAO/select/NGC0628/Calib-SOAO-NGC0628-20201112-115818-R-60.fits',\n",
       " '/data3/yunyi/SOAO/select/NGC0628/Calib-SOAO-NGC0628-20201112-120133-R-60.fits']"
      ]
     },
     "execution_count": 477,
     "metadata": {},
     "output_type": "execute_result"
    }
   ],
   "source": [
    "filelist"
   ]
  },
  {
   "cell_type": "code",
   "execution_count": 478,
   "id": "45c2936c",
   "metadata": {},
   "outputs": [
    {
     "name": "stdout",
     "output_type": "stream",
     "text": [
      "Reference image = /data3/yunyi/SOAO/select/NGC0628/Calib-SOAO-NGC0628-20191010-174424-R-60.fits\n",
      "Image saved directory: /data3/yunyi/SOAO/select/aligned\n"
     ]
    }
   ],
   "source": [
    "aligned_filelist, reference_header=alignIMG(filelist, reference)\n"
   ]
  },
  {
   "cell_type": "code",
   "execution_count": 479,
   "id": "8ab6aeda",
   "metadata": {},
   "outputs": [
    {
     "name": "stdout",
     "output_type": "stream",
     "text": [
      "['aligned_Calib-SOAO-NGC0628-20191010-174424-R-60.fits', 'aligned_Calib-SOAO-NGC0628-20191010-174529-R-60.fits', 'aligned_Calib-SOAO-NGC0628-20191010-174634-R-60.fits', 'aligned_Calib-SOAO-NGC0628-20191020-175426-R-60.fits', 'aligned_Calib-SOAO-NGC0628-20201111-105920-R-60.fits', 'aligned_Calib-SOAO-NGC0628-20201111-110235-R-60.fits', 'aligned_Calib-SOAO-NGC0628-20201111-110340-R-60.fits', 'aligned_Calib-SOAO-NGC0628-20201112-115818-R-60.fits', 'aligned_Calib-SOAO-NGC0628-20201112-120133-R-60.fits']\n",
      "SIMPLE  =                    T / conforms to FITS standard                      BITPIX  =                  -64 / array data type                                NAXIS   =                    2 / number of array dimensions                     NAXIS1  =                 2048                                                  NAXIS2  =                 2048                                                  EXTEND  =                    T                                                  OBSERVAT= 'SOAO         '      /observatory                                     TELESCOP= '61cm, f/3.5'        /telescope                                       INSTRUME= 'FLI4K'              /instrument                                      OBSERVER= 'hanky'              /observer                                        DATE-OBS= '2019-10-10T17:44:24' / observed date (UT, beginning)                 TIME-OBS= '17:44:24'           /observed time (UT, beginning)                   IMAGETYP= 'object'             /image type (bias/dark/object)                   OBJECT  = 'NGC0628 '           / object name                                    FILTER  = 'R       '           / 1=U 2=B 3=V 4=R 5=I 6=N  0=unknown             EXPTIME =                60.00 /exposure time (sec)                             UT      =            17.748482 /observed time (middle)                          JD      =    2458767.239166667 / Julian day (middle)                            HJD     =      2458767.2451516 /heliocentric Julian day (middle)                RDPORT  = 'unknown'            /readout port (low noise/high capacity)          RDSPEED = 'unknown'            /readout speed: ADC rate (slow/fast)             RDNOISE =                13.60 /readout noise (e-)                              GAIN    =                 1.43 /system gain (e-/ADU)                            SATLEVEL=                63531 /saturation level (ADU)                          BIASLEVE=                    0 /bias level (ADC offset, ADU)                    FLUSHCYC=                    3 /CCD flush cycle number                          BINNING =                    2 /on-chip binning number                          SERSTART=                    1 /starting pixel in serial register of CCD        PARSTART=                    1 /starting pixel in parallel register of CCD      PIXSCALE=              0.44540 /pixel scale (arcsec/pixel)                      CCDTEMP =               -30.00 /CCD temperature (degree Celsius)                SETPOINT=               -30.00 /CCD Temp. setpoint (degree Celsius)             RA      = '01:36:21.21'        /right ascention (hh:mm:ss.ss)                   DEC     = '+15:50:29.99'       /declination (+dd:mm:ss.ss)                      ALTITUDE=             56.43449 /altitude (arcdeg) at the begin of exposure      AZIMUTH =            238.98368 /azimuth  (arcdeg) at the begin of exposure      AIRMASS =               1.1996 /airmass at the middle time of exposure          EPOCH   =           2000.00000 /epoch of RA, Dec                                MJD     =    58766.73916666667                                                  SUBBIAS = 'zero.fits'                                                           SUBDARK = 'dark-60.fits'                                                        DIVFLAT = 'nR.fits '                                                            BUNIT   = 'adu     '                                                            COMMENT Original key: \"END\"                                                     COMMENT                                                                         COMMENT --Start of Astrometry.net WCS solution--                                COMMENT --Put in by the new-wcs program--                                       COMMENT                                                                         WCSAXES =                    2 / no comment                                     CTYPE1  = 'RA---TAN-SIP' / TAN (gnomic) projection + SIP distortions            CTYPE2  = 'DEC--TAN-SIP' / TAN (gnomic) projection + SIP distortions            EQUINOX =               2000.0 / Equatorial coordinates definition (yr)         LONPOLE =                180.0 / no comment                                     LATPOLE =                  0.0 / no comment                                     CRVAL1  =        24.1297266926 / RA  of reference point                         CRVAL2  =        15.7719070284 / DEC of reference point                         CRPIX1  =        1402.32266998 / X reference pixel                              CRPIX2  =        1069.44715881 / Y reference pixel                              CUNIT1  = 'deg     ' / X pixel scale units                                      CUNIT2  = 'deg     ' / Y pixel scale units                                      CD1_1   =   -0.000122339061614 / Transformation matrix                          CD1_2   =   -2.19921516313E-07 / no comment                                     CD2_1   =    3.11014234677E-07 / no comment                                     CD2_2   =   -0.000122307248007 / no comment                                     IMAGEW  =                 2048 / Image width,  in pixels.                       IMAGEH  =                 2048 / Image height, in pixels.                       A_ORDER =                    2 / Polynomial order, axis 1                       A_0_0   =                    0 / no comment                                     A_0_1   =                    0 / no comment                                     A_0_2   =   -1.40154441391E-07 / no comment                                     A_1_0   =                    0 / no comment                                     A_1_1   =   -6.79886186219E-07 / no comment                                     A_2_0   =   -7.19546941733E-07 / no comment                                     B_ORDER =                    2 / Polynomial order, axis 2                       B_0_0   =                    0 / no comment                                     B_0_1   =                    0 / no comment                                     B_0_2   =   -1.84961540294E-07 / no comment                                     B_1_0   =                    0 / no comment                                     B_1_1   =   -5.86968164634E-07 / no comment                                     B_2_0   =   -7.97544879213E-07 / no comment                                     AP_ORDER=                    2 / Inv polynomial order, axis 1                   AP_0_0  =    0.000476184647895 / no comment                                     AP_0_1  =     5.4489572888E-07 / no comment                                     AP_0_2  =    1.39772289942E-07 / no comment                                     AP_1_0  =     6.6143612995E-07 / no comment                                     AP_1_1  =    6.78219640346E-07 / no comment                                     AP_2_0  =    7.17663202763E-07 / no comment                                     BP_ORDER=                    2 / Inv polynomial order, axis 2                   BP_0_0  =    0.000483678847376 / no comment                                     BP_0_1  =    5.60360377543E-07 / no comment                                     BP_0_2  =    1.84581114407E-07 / no comment                                     BP_1_0  =    6.66475980036E-07 / no comment                                     BP_1_1  =    5.85259722167E-07 / no comment                                     BP_2_0  =    7.95615354475E-07 / no comment                                     HISTORY Created by the Astrometry.net suite.                                    HISTORY For more details, see http://astrometry.net.                            HISTORY Git URL https://github.com/dstndstn/astrometry.net                      HISTORY Git revision                                                            HISTORY Git date                                                                HISTORY This WCS header was created by the program \"blind\".                     DATE    = '2020-01-22T06:29:18' / Date this file was created.                   SEEING  =    1.747681076923077                                                  UL5_2   =    19.71445383952198                                                  SKYSIG  =    16.65359497070312                                                  SKYVAL  =    85.30753326416016                                                  COMMENT -- blind solver parameters: --                                          COMMENT Index(0): /usr/local/astrometry/data/index-4207-11.fits                 COMMENT Index(1): /usr/local/astrometry/data/index-4207-10.fits                 COMMENT Index(2): /usr/local/astrometry/data/index-4207-09.fits                 COMMENT Index(3): /usr/local/astrometry/data/index-4207-08.fits                 COMMENT Index(4): /usr/local/astrometry/data/index-4207-07.fits                 COMMENT Index(5): /usr/local/astrometry/data/index-4207-06.fits                 COMMENT Index(6): /usr/local/astrometry/data/index-4207-05.fits                 COMMENT Index(7): /usr/local/astrometry/data/index-4207-04.fits                 COMMENT Index(8): /usr/local/astrometry/data/index-4207-03.fits                 COMMENT Index(9): /usr/local/astrometry/data/index-4207-02.fits                 COMMENT Index(10): /usr/local/astrometry/data/index-4207-01.fits                COMMENT Index(11): /usr/local/astrometry/data/index-4207-00.fits                COMMENT Index(12): /usr/local/astrometry/data/index-4206-11.fits                COMMENT Index(13): /usr/local/astrometry/data/index-4206-10.fits                COMMENT Index(14): /usr/local/astrometry/data/index-4206-09.fits                COMMENT Index(15): /usr/local/astrometry/data/index-4206-08.fits                COMMENT Index(16): /usr/local/astrometry/data/index-4206-07.fits                COMMENT Index(17): /usr/local/astrometry/data/index-4206-06.fits                COMMENT Index(18): /usr/local/astrometry/data/index-4206-05.fits                COMMENT Index(19): /usr/local/astrometry/data/index-4206-04.fits                COMMENT Index(20): /usr/local/astrometry/data/index-4206-03.fits                COMMENT Index(21): /usr/local/astrometry/data/index-4206-02.fits                COMMENT Index(22): /usr/local/astrometry/data/index-4206-01.fits                COMMENT Index(23): /usr/local/astrometry/data/index-4206-00.fits                COMMENT Index(24): /usr/local/astrometry/data/index-4205-11.fits                COMMENT Index(25): /usr/local/astrometry/data/index-4205-10.fits                COMMENT Index(26): /usr/local/astrometry/data/index-4205-09.fits                COMMENT Index(27): /usr/local/astrometry/data/index-4205-08.fits                COMMENT Index(28): /usr/local/astrometry/data/index-4205-07.fits                COMMENT Index(29): /usr/local/astrometry/data/index-4205-06.fits                COMMENT Index(30): /usr/local/astrometry/data/index-4205-05.fits                COMMENT Index(31): /usr/local/astrometry/data/index-4205-04.fits                COMMENT Index(32): /usr/local/astrometry/data/index-4205-03.fits                COMMENT Index(33): /usr/local/astrometry/data/index-4205-02.fits                COMMENT Index(34): /usr/local/astrometry/data/index-4205-01.fits                COMMENT Index(35): /usr/local/astrometry/data/index-4205-00.fits                COMMENT Index(36): /usr/local/astrometry/data/index-4204-47.fits                COMMENT Index(37): /usr/local/astrometry/data/index-4204-46.fits                COMMENT Index(38): /usr/local/astrometry/data/index-4204-45.fits                COMMENT Index(39): /usr/local/astrometry/data/index-4204-44.fits                COMMENT Index(40): /usr/local/astrometry/data/index-4204-43.fits                COMMENT Index(41): /usr/local/astrometry/data/index-4204-42.fits                COMMENT Index(42): /usr/local/astrometry/data/index-4204-41.fits                COMMENT Index(43): /usr/local/astrometry/data/index-4204-40.fits                COMMENT Index(44): /usr/local/astrometry/data/index-4204-39.fits                COMMENT Index(45): /usr/local/astrometry/data/index-4204-38.fits                COMMENT Index(46): /usr/local/astrometry/data/index-4204-37.fits                COMMENT Index(47): /usr/local/astrometry/data/index-4204-36.fits                COMMENT Index(48): /usr/local/astrometry/data/index-4204-35.fits                COMMENT Index(49): /usr/local/astrometry/data/index-4204-34.fits                COMMENT Index(50): /usr/local/astrometry/data/index-4204-33.fits                COMMENT Index(51): /usr/local/astrometry/data/index-4204-32.fits                COMMENT Index(52): /usr/local/astrometry/data/index-4204-31.fits                COMMENT Index(53): /usr/local/astrometry/data/index-4204-30.fits                COMMENT Index(54): /usr/local/astrometry/data/index-4204-29.fits                COMMENT Index(55): /usr/local/astrometry/data/index-4204-28.fits                COMMENT Index(56): /usr/local/astrometry/data/index-4204-27.fits                COMMENT Index(57): /usr/local/astrometry/data/index-4204-26.fits                COMMENT Index(58): /usr/local/astrometry/data/index-4204-25.fits                COMMENT Index(59): /usr/local/astrometry/data/index-4204-24.fits                COMMENT Index(60): /usr/local/astrometry/data/index-4204-23.fits                COMMENT Index(61): /usr/local/astrometry/data/index-4204-22.fits                COMMENT Index(62): /usr/local/astrometry/data/index-4204-21.fits                COMMENT Index(63): /usr/local/astrometry/data/index-4204-20.fits                COMMENT Index(64): /usr/local/astrometry/data/index-4204-19.fits                COMMENT Index(65): /usr/local/astrometry/data/index-4204-18.fits                COMMENT Index(66): /usr/local/astrometry/data/index-4204-17.fits                COMMENT Index(67): /usr/local/astrometry/data/index-4204-16.fits                COMMENT Index(68): /usr/local/astrometry/data/index-4204-15.fits                COMMENT Index(69): /usr/local/astrometry/data/index-4204-14.fits                COMMENT Index(70): /usr/local/astrometry/data/index-4204-13.fits                COMMENT Index(71): /usr/local/astrometry/data/index-4204-12.fits                COMMENT Index(72): /usr/local/astrometry/data/index-4204-11.fits                COMMENT Index(73): /usr/local/astrometry/data/index-4204-10.fits                COMMENT Index(74): /usr/local/astrometry/data/index-4204-09.fits                COMMENT Index(75): /usr/local/astrometry/data/index-4204-08.fits                COMMENT Index(76): /usr/local/astrometry/data/index-4204-07.fits                COMMENT Index(77): /usr/local/astrometry/data/index-4204-06.fits                COMMENT Index(78): /usr/local/astrometry/data/index-4204-05.fits                COMMENT Index(79): /usr/local/astrometry/data/index-4204-04.fits                COMMENT Index(80): /usr/local/astrometry/data/index-4204-03.fits                COMMENT Index(81): /usr/local/astrometry/data/index-4204-02.fits                COMMENT Index(82): /usr/local/astrometry/data/index-4204-01.fits                COMMENT Index(83): /usr/local/astrometry/data/index-4204-00.fits                COMMENT Index(84): /usr/local/astrometry/data/index-4203-47.fits                COMMENT Index(85): /usr/local/astrometry/data/index-4203-46.fits                COMMENT Index(86): /usr/local/astrometry/data/index-4203-45.fits                COMMENT Index(87): /usr/local/astrometry/data/index-4203-44.fits                COMMENT Index(88): /usr/local/astrometry/data/index-4203-43.fits                COMMENT Index(89): /usr/local/astrometry/data/index-4203-42.fits                COMMENT Index(90): /usr/local/astrometry/data/index-4203-41.fits                COMMENT Index(91): /usr/local/astrometry/data/index-4203-40.fits                COMMENT Index(92): /usr/local/astrometry/data/index-4203-39.fits                COMMENT Index(93): /usr/local/astrometry/data/index-4203-38.fits                COMMENT Index(94): /usr/local/astrometry/data/index-4203-37.fits                COMMENT Index(95): /usr/local/astrometry/data/index-4203-36.fits                COMMENT Index(96): /usr/local/astrometry/data/index-4203-35.fits                COMMENT Index(97): /usr/local/astrometry/data/index-4203-34.fits                COMMENT Index(98): /usr/local/astrometry/data/index-4203-33.fits                COMMENT Index(99): /usr/local/astrometry/data/index-4203-32.fits                COMMENT Index(100): /usr/local/astrometry/data/index-4203-31.fits               COMMENT Index(101): /usr/local/astrometry/data/index-4203-30.fits               COMMENT Index(102): /usr/local/astrometry/data/index-4203-29.fits               COMMENT Index(103): /usr/local/astrometry/data/index-4203-28.fits               COMMENT Index(104): /usr/local/astrometry/data/index-4203-27.fits               COMMENT Index(105): /usr/local/astrometry/data/index-4203-26.fits               COMMENT Index(106): /usr/local/astrometry/data/index-4203-25.fits               COMMENT Index(107): /usr/local/astrometry/data/index-4203-24.fits               COMMENT Index(108): /usr/local/astrometry/data/index-4203-23.fits               COMMENT Index(109): /usr/local/astrometry/data/index-4203-22.fits               COMMENT Index(110): /usr/local/astrometry/data/index-4203-21.fits               COMMENT Index(111): /usr/local/astrometry/data/index-4203-20.fits               COMMENT Index(112): /usr/local/astrometry/data/index-4203-19.fits               COMMENT Index(113): /usr/local/astrometry/data/index-4203-18.fits               COMMENT Index(114): /usr/local/astrometry/data/index-4203-17.fits               COMMENT Index(115): /usr/local/astrometry/data/index-4203-16.fits               COMMENT Index(116): /usr/local/astrometry/data/index-4203-15.fits               COMMENT Index(117): /usr/local/astrometry/data/index-4203-14.fits               COMMENT Index(118): /usr/local/astrometry/data/index-4203-13.fits               COMMENT Index(119): /usr/local/astrometry/data/index-4203-12.fits               COMMENT Index(120): /usr/local/astrometry/data/index-4203-11.fits               COMMENT Index(121): /usr/local/astrometry/data/index-4203-10.fits               COMMENT Index(122): /usr/local/astrometry/data/index-4203-09.fits               COMMENT Index(123): /usr/local/astrometry/data/index-4203-08.fits               COMMENT Index(124): /usr/local/astrometry/data/index-4203-07.fits               COMMENT Index(125): /usr/local/astrometry/data/index-4203-06.fits               COMMENT Index(126): /usr/local/astrometry/data/index-4203-05.fits               COMMENT Index(127): /usr/local/astrometry/data/index-4203-04.fits               COMMENT Index(128): /usr/local/astrometry/data/index-4203-03.fits               COMMENT Index(129): /usr/local/astrometry/data/index-4203-02.fits               COMMENT Index(130): /usr/local/astrometry/data/index-4203-01.fits               COMMENT Index(131): /usr/local/astrometry/data/index-4203-00.fits               COMMENT Index(132): /usr/local/astrometry/data/index-4202-47.fits               COMMENT Index(133): /usr/local/astrometry/data/index-4202-46.fits               COMMENT Index(134): /usr/local/astrometry/data/index-4202-45.fits               COMMENT Index(135): /usr/local/astrometry/data/index-4202-44.fits               COMMENT Index(136): /usr/local/astrometry/data/index-4202-43.fits               COMMENT Index(137): /usr/local/astrometry/data/index-4202-42.fits               COMMENT Index(138): /usr/local/astrometry/data/index-4202-41.fits               COMMENT Index(139): /usr/local/astrometry/data/index-4202-40.fits               COMMENT Index(140): /usr/local/astrometry/data/index-4202-39.fits               COMMENT Index(141): /usr/local/astrometry/data/index-4202-38.fits               COMMENT Index(142): /usr/local/astrometry/data/index-4202-37.fits               COMMENT Index(143): /usr/local/astrometry/data/index-4202-36.fits               COMMENT Index(144): /usr/local/astrometry/data/index-4202-35.fits               COMMENT Index(145): /usr/local/astrometry/data/index-4202-34.fits               COMMENT Index(146): /usr/local/astrometry/data/index-4202-33.fits               COMMENT Index(147): /usr/local/astrometry/data/index-4202-32.fits               COMMENT Index(148): /usr/local/astrometry/data/index-4202-31.fits               COMMENT Index(149): /usr/local/astrometry/data/index-4202-30.fits               COMMENT Index(150): /usr/local/astrometry/data/index-4202-29.fits               COMMENT Index(151): /usr/local/astrometry/data/index-4202-28.fits               COMMENT Index(152): /usr/local/astrometry/data/index-4202-27.fits               COMMENT Index(153): /usr/local/astrometry/data/index-4202-26.fits               COMMENT Index(154): /usr/local/astrometry/data/index-4202-25.fits               COMMENT Index(155): /usr/local/astrometry/data/index-4202-24.fits               COMMENT Index(156): /usr/local/astrometry/data/index-4202-23.fits               COMMENT Index(157): /usr/local/astrometry/data/index-4202-22.fits               COMMENT Index(158): /usr/local/astrometry/data/index-4202-21.fits               COMMENT Index(159): /usr/local/astrometry/data/index-4202-20.fits               COMMENT Index(160): /usr/local/astrometry/data/index-4202-19.fits               COMMENT Index(161): /usr/local/astrometry/data/index-4202-18.fits               COMMENT Index(162): /usr/local/astrometry/data/index-4202-17.fits               COMMENT Index(163): /usr/local/astrometry/data/index-4202-16.fits               COMMENT Index(164): /usr/local/astrometry/data/index-4202-15.fits               COMMENT Index(165): /usr/local/astrometry/data/index-4202-14.fits               COMMENT Index(166): /usr/local/astrometry/data/index-4202-13.fits               COMMENT Index(167): /usr/local/astrometry/data/index-4202-12.fits               COMMENT Index(168): /usr/local/astrometry/data/index-4202-11.fits               COMMENT Index(169): /usr/local/astrometry/data/index-4202-10.fits               COMMENT Index(170): /usr/local/astrometry/data/index-4202-09.fits               COMMENT Index(171): /usr/local/astrometry/data/index-4202-08.fits               COMMENT Index(172): /usr/local/astrometry/data/index-4202-07.fits               COMMENT Index(173): /usr/local/astrometry/data/index-4202-06.fits               COMMENT Index(174): /usr/local/astrometry/data/index-4202-05.fits               COMMENT Index(175): /usr/local/astrometry/data/index-4202-04.fits               COMMENT Index(176): /usr/local/astrometry/data/index-4202-03.fits               COMMENT Index(177): /usr/local/astrometry/data/index-4202-02.fits               COMMENT Index(178): /usr/local/astrometry/data/index-4202-01.fits               COMMENT Index(179): /usr/local/astrometry/data/index-4202-00.fits               COMMENT Index(180): /usr/local/astrometry/data/index-4107.fits                  COMMENT Field name:                                                             COMMENT   /data3/paek/factory/soao/20191010/fzS2K342895.axy                     COMMENT Field scale lower: 0.40086 arcsec/pixel                                 COMMENT Field scale upper: 0.48994 arcsec/pixel                                 COMMENT X col name: X_IMAGE                                                     COMMENT Y col name: Y_IMAGE                                                     COMMENT Start obj: 10                                                           COMMENT End obj: 20                                                             COMMENT Solved_in: (null)                                                       COMMENT Solved_out:                                                             COMMENT   /data3/paek/factory/soao/20191010/fzS2K342895.solved                  COMMENT Solvedserver: (null)                                                    COMMENT Parity: 2                                                               COMMENT Codetol: 0.01                                                           COMMENT Verify pixels: 1 pix                                                    COMMENT Maxquads: 0                                                             COMMENT Maxmatches: 0                                                           COMMENT Cpu limit: 300.000000 s                                                 COMMENT Time limit: 0 s                                                         COMMENT Total time limit: 0 s                                                   COMMENT Total CPU limit: 300.000000 s                                           COMMENT Tweak: yes                                                              COMMENT Tweak AB order: 2                                                       COMMENT Tweak ABP order: 2                                                      COMMENT --                                                                      COMMENT -- properties of the matching quad: --                                  COMMENT index id: 4204                                                          COMMENT index healpix: 18                                                       COMMENT index hpnside: 2                                                        COMMENT log odds: 236.029                                                       COMMENT odds: 3.20653e+102                                                      COMMENT quadno: 415079                                                          COMMENT stars: 417610,417644,417604,417603                                      COMMENT field: 11,1,3,9                                                         COMMENT code error: 0.00371087                                                  COMMENT nmatch: 35                                                              COMMENT nconflict: 0                                                            COMMENT nfield: 177                                                             COMMENT nindex: 36                                                              COMMENT scale: 0.440364 arcsec/pix                                              COMMENT parity: 1                                                               COMMENT quads tried: 75                                                         COMMENT quads matched: 17                                                       COMMENT quads verified: 8                                                       COMMENT objs tried: 12                                                          COMMENT cpu time: 0.00165                                                       COMMENT --                                                                      COMMENT                                                                         COMMENT --End of Astrometry.net WCS--                                           COMMENT --(Put in by the new-wcs program)--                                     COMMENT                                                                         END                                                                                                                                                                                                                                                                                                                                                                                                                                                                                                                                                                                                                                                                                                                                                                                                                                                                                                                                                                                                                                                                                                                                                                                                                                                                                                                                                                                                                                                                                                                                                                                                                                                                                                                                                                                                                             \n"
     ]
    }
   ],
   "source": [
    "print(aligned_filelist)\n",
    "print(reference_header)"
   ]
  },
  {
   "cell_type": "code",
   "execution_count": 480,
   "id": "fb12d287",
   "metadata": {},
   "outputs": [
    {
     "name": "stdout",
     "output_type": "stream",
     "text": [
      "['/data3/yunyi/SOAO/select/aligned/aligned_Calib-SOAO-NGC0628-20191010-174424-R-60.fits', '/data3/yunyi/SOAO/select/aligned/aligned_Calib-SOAO-NGC0628-20191010-174529-R-60.fits', '/data3/yunyi/SOAO/select/aligned/aligned_Calib-SOAO-NGC0628-20191010-174634-R-60.fits', '/data3/yunyi/SOAO/select/aligned/aligned_Calib-SOAO-NGC0628-20191020-175426-R-60.fits', '/data3/yunyi/SOAO/select/aligned/aligned_Calib-SOAO-NGC0628-20201111-105920-R-60.fits', '/data3/yunyi/SOAO/select/aligned/aligned_Calib-SOAO-NGC0628-20201111-110235-R-60.fits', '/data3/yunyi/SOAO/select/aligned/aligned_Calib-SOAO-NGC0628-20201111-110340-R-60.fits', '/data3/yunyi/SOAO/select/aligned/aligned_Calib-SOAO-NGC0628-20201112-115818-R-60.fits', '/data3/yunyi/SOAO/select/aligned/aligned_Calib-SOAO-NGC0628-20201112-120133-R-60.fits']\n"
     ]
    }
   ],
   "source": [
    "aligned_filelist_pathadd=make_filelist('/data3/yunyi/SOAO/select/aligned')\n",
    "print(aligned_filelist_pathadd)"
   ]
  },
  {
   "cell_type": "code",
   "execution_count": 481,
   "id": "4889e760",
   "metadata": {},
   "outputs": [],
   "source": [
    "make_selist(aligned_filelist, 1.8)"
   ]
  },
  {
   "cell_type": "code",
   "execution_count": 482,
   "id": "ae3887a2",
   "metadata": {},
   "outputs": [],
   "source": [
    "ali_selist=make_filelist_cat('/data3/yunyi/SOAO/select/selist')"
   ]
  },
  {
   "cell_type": "code",
   "execution_count": 483,
   "id": "eeee5cc4",
   "metadata": {},
   "outputs": [
    {
     "data": {
      "text/plain": [
       "['/data3/yunyi/SOAO/select/selist/aligned_Calib-SOAO-NGC0628-20191010-174424-R-60.cat',\n",
       " '/data3/yunyi/SOAO/select/selist/aligned_Calib-SOAO-NGC0628-20191010-174529-R-60.cat',\n",
       " '/data3/yunyi/SOAO/select/selist/aligned_Calib-SOAO-NGC0628-20191010-174634-R-60.cat',\n",
       " '/data3/yunyi/SOAO/select/selist/aligned_Calib-SOAO-NGC0628-20191020-175426-R-60.cat',\n",
       " '/data3/yunyi/SOAO/select/selist/aligned_Calib-SOAO-NGC0628-20201111-105920-R-60.cat',\n",
       " '/data3/yunyi/SOAO/select/selist/aligned_Calib-SOAO-NGC0628-20201111-110235-R-60.cat',\n",
       " '/data3/yunyi/SOAO/select/selist/aligned_Calib-SOAO-NGC0628-20201111-110340-R-60.cat',\n",
       " '/data3/yunyi/SOAO/select/selist/aligned_Calib-SOAO-NGC0628-20201112-115818-R-60.cat',\n",
       " '/data3/yunyi/SOAO/select/selist/aligned_Calib-SOAO-NGC0628-20201112-120133-R-60.cat']"
      ]
     },
     "execution_count": 483,
     "metadata": {},
     "output_type": "execute_result"
    }
   ],
   "source": [
    "ali_selist"
   ]
  },
  {
   "cell_type": "code",
   "execution_count": 484,
   "id": "5216810c",
   "metadata": {},
   "outputs": [
    {
     "name": "stdout",
     "output_type": "stream",
     "text": [
      "1.969304285714286\n",
      "[1.62571, 1.73706, 1.5856240000000001, 1.576716, 1.5099060000000002, 1.674704, 1.9820300000000002, 1.719244, 1.607894, 1.5856240000000001, 1.5544460000000002, 1.5544460000000002, 1.567808, 1.674704, 1.621256, 1.6791580000000002, 4.3738280000000005, 1.4653660000000002, 5.839194, 1.786054, 1.6346180000000001]\n",
      "2.1457145\n",
      "[1.754876, 2.11565, 1.598986, 1.6346180000000001, 1.6568880000000001, 1.7058820000000001, 1.9107660000000002, 1.973122, 1.69252, 1.652434, 1.621256, 1.6346180000000001, 1.6836119999999999, 1.701428, 1.7816, 4.280294, 1.73706, 7.130854000000001, 1.9775760000000002, 1.67025]\n",
      "2.148100571428571\n",
      "[1.7281520000000001, 1.852864, 1.754876, 1.754876, 1.7504220000000001, 1.75933, 1.8662260000000002, 2.053294, 1.835048, 1.710336, 1.69252, 1.7771460000000001, 1.835048, 1.763784, 1.790508, 4.360466, 1.8305940000000003, 1.7504220000000001, 6.066348, 2.396252, 1.7816]\n",
      "2.287235047619048\n",
      "[1.7058820000000001, 1.8305940000000003, 2.0043, 1.8884960000000002, 1.7058820000000001, 1.8484100000000003, 1.732606, 2.993088, 2.013208, 1.6568880000000001, 1.7816, 1.7236980000000002, 1.7236980000000002, 1.852864, 2.044386, 7.322376000000001, 4.516356, 2.213638, 1.857318, 1.861772, 1.754876]\n",
      "2.1428194\n",
      "[1.674704, 2.151282, 1.710336, 1.5544460000000002, 1.6346180000000001, 1.843956, 1.9107660000000002, 1.93749, 1.71479, 1.6301640000000002, 1.71479, 1.643526, 1.590078, 1.7415140000000002, 1.745968, 4.578712, 6.6275520000000006, 2.013208, 1.607894, 1.8305940000000003]\n",
      "2.193223833333333\n",
      "[1.6301640000000002, 1.594532, 1.763784, 1.661342, 1.4920900000000001, 1.500998, 4.743510000000001, 1.598986, 1.523268, 2.0354780000000003, 1.7058820000000001, 1.527722, 1.590078, 1.563354, 1.505452, 1.6836119999999999, 1.6479800000000002, 7.776684, 1.7415140000000002, 4.54308, 1.6836119999999999, 2.779296, 1.496544, 1.8484100000000003]\n",
      "2.2087598095238095\n",
      "[1.835048, 1.9241280000000003, 1.839502, 1.955306, 1.69252, 1.69252, 1.7726920000000002, 2.877284, 2.347258, 1.8840420000000002, 1.7415140000000002, 1.7949620000000002, 1.665796, 1.710336, 1.7949620000000002, 5.892642, 1.861772, 4.690062, 1.8706800000000001, 1.857318, 1.6836119999999999]\n",
      "2.178006\n",
      "[1.674704, 1.73706, 1.665796, 1.6568880000000001, 1.821686, 1.9196739999999999, 2.0488399999999998, 1.732606, 1.701428, 1.69252, 1.69252, 6.966056000000001, 1.665796, 1.754876, 3.9284280000000003, 2.062202, 1.7682380000000002, 1.71479]\n",
      "1.9813937142857145\n",
      "[1.786054, 1.7949620000000002, 2.111196, 1.821686, 1.763784, 1.790508, 1.875134, 2.0043, 2.191368, 1.8305940000000003, 1.745968, 1.7771460000000001, 1.7504220000000001, 1.7816, 1.8127780000000002, 1.839502, 1.8929500000000001, 4.649976, 1.875134, 1.6568880000000001, 1.857318]\n"
     ]
    }
   ],
   "source": [
    "catloca='/data3/yunyi/SOAO/code/NGC0628_R.csv'\n",
    "ZP=zeropoint(catloca, ali_selist)"
   ]
  },
  {
   "cell_type": "code",
   "execution_count": 485,
   "id": "7a2861d8",
   "metadata": {},
   "outputs": [
    {
     "data": {
      "text/plain": [
       "[25.749642238095237,\n",
       " 25.744313950000002,\n",
       " 25.749839561904757,\n",
       " 25.58815332380953,\n",
       " 25.633227090000002,\n",
       " 25.62636174166667,\n",
       " 25.64613903809524,\n",
       " 25.681163622222222,\n",
       " 25.645963123809526]"
      ]
     },
     "execution_count": 485,
     "metadata": {},
     "output_type": "execute_result"
    }
   ],
   "source": [
    "ZP"
   ]
  },
  {
   "cell_type": "code",
   "execution_count": 486,
   "id": "689e37c5",
   "metadata": {
    "scrolled": true
   },
   "outputs": [
    {
     "name": "stdout",
     "output_type": "stream",
     "text": [
      "[1.000181758460985, 1.0051022490063022, 1.0, 1.160578431444948, 1.11338403286598, 1.1204465097490353, 1.100221707869308, 1.0652961951271236, 1.1003999835823364]\n",
      "Image saved directory: /data3/yunyi/SOAO/select/scaled\n"
     ]
    }
   ],
   "source": [
    "scaled_image=scaling(catloca, aligned_filelist_pathadd, ali_selist, reference_header,ZP)"
   ]
  },
  {
   "cell_type": "code",
   "execution_count": 487,
   "id": "69e42098",
   "metadata": {},
   "outputs": [
    {
     "data": {
      "text/plain": [
       "array([[ 99.36481048,  74.47532248,  89.91531184, ...,  83.43106491,\n",
       "        115.1995644 ,  86.22023261],\n",
       "       [108.76621136,  86.57080072,  77.38112721, ...,  93.91907225,\n",
       "        131.44615225,  85.69986165],\n",
       "       [ 94.07713454,  80.61941876,  73.85656112, ...,  99.59781986,\n",
       "        104.49593153,  86.54056959],\n",
       "       ...,\n",
       "       [ 69.91284544,  78.41064651,  82.37248046, ...,  85.61181958,\n",
       "        117.56339811,  85.60230186],\n",
       "       [ 70.12908402,  82.97350721,  83.23983272, ..., 118.89092207,\n",
       "         82.75654648,  87.23453988],\n",
       "       [ 80.3187123 ,  93.1786659 ,  74.03849721, ...,  77.31554508,\n",
       "         82.49802977,  87.35086356]])"
      ]
     },
     "execution_count": 487,
     "metadata": {},
     "output_type": "execute_result"
    }
   ],
   "source": [
    "scaled_image[1]"
   ]
  },
  {
   "cell_type": "code",
   "execution_count": 489,
   "id": "741324d4",
   "metadata": {},
   "outputs": [
    {
     "data": {
      "text/plain": [
       "0"
      ]
     },
     "execution_count": 489,
     "metadata": {},
     "output_type": "execute_result"
    }
   ],
   "source": [
    "\n",
    "#after combine\n",
    "\n",
    "file='NGC0628_median.fits'\n",
    "file2 = 'NGC0628_median.cat'\n",
    "os.chdir('/data3/yunyi/SOAO/iraf')\n",
    "os.system(f'cp {file} /data3/yunyi/SOAO' )\n",
    "\n",
    "\n",
    "os.chdir('/data3/yunyi/SOAO')\n",
    "seeingval = 1.9\n",
    "apt_pix = seeingval*2/0.4454\n",
    "os.system(f'sex {file} -PHOT_APERTURES {apt_pix}')\n",
    "os.system(f'cp test.cat ./code/{file2}')\n"
   ]
  },
  {
   "cell_type": "code",
   "execution_count": 373,
   "id": "a64f689e",
   "metadata": {},
   "outputs": [
    {
     "data": {
      "text/plain": [
       "0"
      ]
     },
     "execution_count": 373,
     "metadata": {},
     "output_type": "execute_result"
    }
   ],
   "source": [
    "from astropy.io import ascii\n",
    "import numpy as np\n",
    "\n",
    "\n",
    "seeingval = 2.2\n",
    "apt_pix = seeingval*2/0.4454\n",
    "\n",
    "os.chdir('/data3/yunyi/SOAO')\n",
    "#apt_pix = np.mean(seeing)\n",
    "os.system(f'sex {file} -PHOT_APERTURES {apt_pix}')\n",
    "os.system(f'cp test.cat ./code/{file2}')\n"
   ]
  },
  {
   "cell_type": "code",
   "execution_count": 313,
   "id": "e1ebb6db",
   "metadata": {},
   "outputs": [
    {
     "data": {
      "text/plain": [
       "2"
      ]
     },
     "execution_count": 313,
     "metadata": {},
     "output_type": "execute_result"
    }
   ],
   "source": [
    "seeingval"
   ]
  },
  {
   "cell_type": "code",
   "execution_count": null,
   "id": "2a0be433",
   "metadata": {},
   "outputs": [],
   "source": [
    "'''\n",
    "filelist=['NGC0514_median.fits', 'M99_mean.fits']\n",
    "filelist2 = ['M99_median.cat', 'M99_mean.cat']\n",
    "os.chdir('/data3/yunyi/SOAO/iraf')\n",
    "os.system(f'cp {filelist[0]} /data3/yunyi/SOAO' )\n",
    "os.system(f'cp {filelist[1]} /data3/yunyi/SOAO')\n",
    "\n",
    "os.chdir('/data3/yunyi/SOAO')\n",
    "for i in range(2):\n",
    "    os.system(f'sex {filelist[i]}')\n",
    "    os.system(f'cp test.cat ./code/{filelist2[i]}')\n",
    "\n",
    "from astropy.io import ascii\n",
    "import numpy as np\n",
    "\n",
    "#obj = ascii.read('/data3/yunyi/SOAO/code/M51A_median.cat') \n",
    "#FWHM = np.array(obj['FWHM_IMAGE'])\n",
    "#seeing=0.4454*FWHM\n",
    "#print(seeing)\n",
    "seeingval = \n",
    "apt_pix = seeingval*2/0.4454\n",
    "\n",
    "os.chdir('/data3/yunyi/SOAO')\n",
    "apt_pix = np.mean(seeing)\n",
    "for i in range(2):\n",
    "    os.system(f'sex {filelist[i]} -PHOT_APERTURES {apt_pix}')\n",
    "    os.system(f'cp test.cat ./code/{filelist2[i]}')\n",
    "    \n",
    "'''"
   ]
  }
 ],
 "metadata": {
  "kernelspec": {
   "display_name": "Python 3",
   "language": "python",
   "name": "python3"
  },
  "language_info": {
   "codemirror_mode": {
    "name": "ipython",
    "version": 3
   },
   "file_extension": ".py",
   "mimetype": "text/x-python",
   "name": "python",
   "nbconvert_exporter": "python",
   "pygments_lexer": "ipython3",
   "version": "3.8.10"
  }
 },
 "nbformat": 4,
 "nbformat_minor": 5
}
