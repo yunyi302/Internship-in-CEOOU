{
 "cells": [
  {
   "cell_type": "code",
   "execution_count": 20,
   "id": "9cf0d0fd",
   "metadata": {},
   "outputs": [],
   "source": [
    "from astropy.io import ascii\n",
    "import matplotlib.pyplot as plt\n",
    "from astropy.coordinates import SkyCoord\n"
   ]
  },
  {
   "cell_type": "code",
   "execution_count": 43,
   "id": "312c9802",
   "metadata": {},
   "outputs": [],
   "source": [
    "ob=ascii.read('/data3/yunyi/SOAO/test.cat')\n",
    "star = ob['CLASS_STAR']\n",
    "ALPHA_J2000 = ob['ALPHA_J2000']\n",
    "DELTA_J2000 = ob['DELTA_J2000']\n",
    "o = SkyCoord(ALPHA_J2000, DELTA_J2000, frame='icrs', unit='deg')\n",
    "#print(x)\n",
    "\n",
    "\n"
   ]
  },
  {
   "cell_type": "code",
   "execution_count": 44,
   "id": "44940741",
   "metadata": {},
   "outputs": [
    {
     "data": {
      "image/png": "[encoded data removed]",
      "text/plain": [
       "<Figure size 432x288 with 1 Axes>"
      ]
     },
     "metadata": {
      "needs_background": "light"
     },
     "output_type": "display_data"
    }
   ],
   "source": [
    "plt.plot(o.ra, o.dec, linestyle='none', marker='s')\n",
    "\n",
    "for i in range(len(star)):\n",
    "    if star[i] >0.5:\n",
    "        plt.plot(o.ra[i], o.dec[i], linestyle='none', marker='o', color='r')"
   ]
  },
  {
   "cell_type": "code",
   "execution_count": 45,
   "id": "5795018c",
   "metadata": {
    "scrolled": true
   },
   "outputs": [
    {
     "data": {
      "text/plain": [
       "36"
      ]
     },
     "execution_count": 45,
     "metadata": {},
     "output_type": "execute_result"
    }
   ],
   "source": [
    "y=[x for x in star if x>0.5]\n",
    "len(y)"
   ]
  },
  {
   "cell_type": "code",
   "execution_count": 46,
   "id": "6bcc0b92",
   "metadata": {},
   "outputs": [
    {
     "data": {
      "text/plain": [
       "[0.517,\n",
       " 0.504,\n",
       " 0.535,\n",
       " 0.566,\n",
       " 0.529,\n",
       " 0.592,\n",
       " 0.533,\n",
       " 0.529,\n",
       " 0.548,\n",
       " 0.57,\n",
       " 0.576,\n",
       " 0.512,\n",
       " 0.531,\n",
       " 0.567,\n",
       " 0.525,\n",
       " 0.515,\n",
       " 0.534,\n",
       " 0.521,\n",
       " 0.521,\n",
       " 0.553,\n",
       " 0.51,\n",
       " 0.504,\n",
       " 0.52,\n",
       " 0.535,\n",
       " 0.504,\n",
       " 0.598,\n",
       " 0.532,\n",
       " 0.507,\n",
       " 0.536,\n",
       " 0.541,\n",
       " 0.524,\n",
       " 0.542,\n",
       " 0.649,\n",
       " 0.519,\n",
       " 0.515,\n",
       " 0.511]"
      ]
     },
     "execution_count": 46,
     "metadata": {},
     "output_type": "execute_result"
    }
   ],
   "source": [
    "y"
   ]
  },
  {
   "cell_type": "code",
   "execution_count": null,
   "id": "1baa5b6b",
   "metadata": {},
   "outputs": [],
   "source": []
  }
 ],
 "metadata": {
  "kernelspec": {
   "display_name": "Python 3",
   "language": "python",
   "name": "python3"
  },
  "language_info": {
   "codemirror_mode": {
    "name": "ipython",
    "version": 3
   },
   "file_extension": ".py",
   "mimetype": "text/x-python",
   "name": "python",
   "nbconvert_exporter": "python",
   "pygments_lexer": "ipython3",
   "version": "3.8.10"
  }
 },
 "nbformat": 4,
 "nbformat_minor": 5
}
