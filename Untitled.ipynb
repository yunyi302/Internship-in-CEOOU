{
 "cells": [
  {
   "cell_type": "code",
   "execution_count": null,
   "id": "c69a5755",
   "metadata": {},
   "outputs": [],
   "source": [
    "def make_filelist(path):\n",
    "    import os\n",
    "\n",
    "    file=[]\n",
    "    for root, directories, files in os.walk(path, topdown=False):  \n",
    "        for name in files:\n",
    "            extens = os.path.splitext(name)[-1]\n",
    "            if extens =='.fits':\n",
    "                file.append(os.path.join(root,name))\n",
    "        \n",
    "    return file"
   ]
  },
  {
   "cell_type": "code",
   "execution_count": null,
   "id": "fba0dc23",
   "metadata": {},
   "outputs": [],
   "source": [
    "def load_data(filelist):\n",
    "# input = file list\n",
    "# output = fits data 3D tensor (ex)2048x2048xN_data)\n",
    "    import numpy as np\n",
    "    from astropy.io.fits.hdu import hdulist\n",
    "    from astropy.io import fits\n",
    "    from astropy.io.fits import getdata\n",
    "    from astropy.io.fits import getheader\n",
    "    \n",
    "    \n",
    "    stacked_data = []\n",
    "    for filename in filelist:\n",
    "        hdulist = np.array(fits.getdata(filename,ext=0))\n",
    "        hdulist = hdulist.byteswap().newbyteorder() # big endian -> little endian\n",
    "        stacked_data.append(hdulist)\n",
    "    return np.array(stacked_data)"
   ]
  },
  {
   "cell_type": "code",
   "execution_count": null,
   "id": "b4fb2a04",
   "metadata": {},
   "outputs": [],
   "source": []
  }
 ],
 "metadata": {
  "kernelspec": {
   "display_name": "Python 3",
   "language": "python",
   "name": "python3"
  },
  "language_info": {
   "codemirror_mode": {
    "name": "ipython",
    "version": 3
   },
   "file_extension": ".py",
   "mimetype": "text/x-python",
   "name": "python",
   "nbconvert_exporter": "python",
   "pygments_lexer": "ipython3",
   "version": "3.8.10"
  }
 },
 "nbformat": 4,
 "nbformat_minor": 5
}
