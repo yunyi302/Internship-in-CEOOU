{
 "cells": [
  {
   "cell_type": "code",
   "execution_count": null,
   "id": "3618d868",
   "metadata": {},
   "outputs": [],
   "source": [
    "def load_data(filelist):\n",
    "# input = file list\n",
    "# output = fits data 3D tensor (ex)2048x2048xN_data)\n",
    "    import numpy as np\n",
    "    from astropy.io.fits.hdu import hdulist\n",
    "    \n",
    "    \n",
    "    stacked_data = []\n",
    "    for filename in filelist:\n",
    "        hdulist = np.array(fits.getdata(filename,ext=0))\n",
    "        hdulist = hdulist.byteswap().newbyteorder() # big endian -> little endian\n",
    "        stacked_data.append(hdulist)\n",
    "    return np.array(stacked_data)"
   ]
  }
 ],
 "metadata": {
  "kernelspec": {
   "display_name": "Python 3",
   "language": "python",
   "name": "python3"
  },
  "language_info": {
   "codemirror_mode": {
    "name": "ipython",
    "version": 3
   },
   "file_extension": ".py",
   "mimetype": "text/x-python",
   "name": "python",
   "nbconvert_exporter": "python",
   "pygments_lexer": "ipython3",
   "version": "3.8.10"
  }
 },
 "nbformat": 4,
 "nbformat_minor": 5
}
