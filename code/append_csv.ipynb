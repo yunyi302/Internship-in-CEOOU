{
 "cells": [
  {
   "cell_type": "code",
   "execution_count": 1,
   "id": "723de3ea",
   "metadata": {},
   "outputs": [],
   "source": [
    "def append_csv(data):\n",
    "    import csv\n",
    "    \n",
    "    with open('/data3/yunyi/SOAO/M101_SDSS_trial.csv', 'r') as ifile:\n",
    "        with open('M101_SDSS_trial_R.csv', 'w') as ofile:\n",
    "            for line, new in zip(ifile, data):\n",
    "                new_line = line.rstrip('\\n')+','+str(new)+'\\n'\n",
    "                ofile.write(new_line)\n",
    "                \n",
    "    "
   ]
  },
  {
   "cell_type": "code",
   "execution_count": 2,
   "id": "0c3367f5",
   "metadata": {},
   "outputs": [
    {
     "ename": "NameError",
     "evalue": "name 'data' is not defined",
     "output_type": "error",
     "traceback": [
      "\u001b[0;31m---------------------------------------------------------------------------\u001b[0m",
      "\u001b[0;31mNameError\u001b[0m                                 Traceback (most recent call last)",
      "\u001b[0;32m<ipython-input-2-512b65ab5290>\u001b[0m in \u001b[0;36m<module>\u001b[0;34m\u001b[0m\n\u001b[0;32m----> 1\u001b[0;31m \u001b[0mappend_csv\u001b[0m\u001b[0;34m(\u001b[0m\u001b[0mdata\u001b[0m\u001b[0;34m)\u001b[0m\u001b[0;34m\u001b[0m\u001b[0;34m\u001b[0m\u001b[0m\n\u001b[0m",
      "\u001b[0;31mNameError\u001b[0m: name 'data' is not defined"
     ]
    }
   ],
   "source": [
    "append_csv(data)"
   ]
  },
  {
   "cell_type": "code",
   "execution_count": null,
   "id": "bea89f40",
   "metadata": {},
   "outputs": [],
   "source": []
  }
 ],
 "metadata": {
  "kernelspec": {
   "display_name": "Python 3",
   "language": "python",
   "name": "python3"
  },
  "language_info": {
   "codemirror_mode": {
    "name": "ipython",
    "version": 3
   },
   "file_extension": ".py",
   "mimetype": "text/x-python",
   "name": "python",
   "nbconvert_exporter": "python",
   "pygments_lexer": "ipython3",
   "version": "3.8.10"
  }
 },
 "nbformat": 4,
 "nbformat_minor": 5
}
