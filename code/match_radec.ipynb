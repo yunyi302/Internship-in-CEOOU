{
 "cells": [
  {
   "cell_type": "code",
   "execution_count": 171,
   "id": "6a451726",
   "metadata": {},
   "outputs": [],
   "source": [
    "from astropy.coordinates import match_coordinates_sky\n",
    "from astropy.coordinates import SkyCoord\n",
    "from astropy.io import ascii\n",
    "import csv\n",
    "import pandas as pd\n",
    "import numpy as np\n",
    "import matplotlib.pyplot as plt\n",
    "from astropy.io import fits\n",
    "from math import *\n",
    "from math import log10\n",
    "import sep "
   ]
  },
  {
   "cell_type": "code",
   "execution_count": 84,
   "id": "b00762e8",
   "metadata": {},
   "outputs": [],
   "source": [
    "def match_radec(filename, catalname):\n",
    "    \n",
    "    catal=ascii.read(catalname)\n",
    "    ra = catal['raMean']\n",
    "    dec = catal['decMean']\n",
    "    inflag = catal['objInfoFlag']\n",
    "    qflag = catal['qualityFlag']\n",
    "    c = SkyCoord(ra, dec, frame='icrs', unit='deg')\n",
    "\n",
    "    ob = ascii.read(filename)    \n",
    "    ALPHA_J2000 = ob['ALPHA_J2000']\n",
    "    DELTA_J2000 = ob['DELTA_J2000']\n",
    "    flag = ob['FLAGS']\n",
    "    o = SkyCoord(ALPHA_J2000, DELTA_J2000, frame='icrs', unit='deg')\n",
    "\n",
    "    indx, sep, _ = o.match_to_catalog_sky(c)\n",
    "    return sep, c, o, flag, inflag, qflag, ob, catal, indx\n",
    "        "
   ]
  },
  {
   "cell_type": "code",
   "execution_count": 85,
   "id": "dc271f2e",
   "metadata": {},
   "outputs": [],
   "source": [
    "def flagging(sep_limit, sep, c, o, flag, inflag, qflag):\n",
    "    #seperation and flag restriction \n",
    "    P=[]\n",
    "    #sep_limit=2\n",
    "\n",
    "    for i in range(len(o)):\n",
    "        if sep.arcsec[i]<sep_limit:\n",
    "            if flag[i]<1:\n",
    "                if inflag[i] < 10**9:\n",
    "                    if qflag[i] < 100:\n",
    "                        P.append(i)\n",
    "        \n",
    "    print(P)\n",
    "    return P"
   ]
  },
  {
   "cell_type": "code",
   "execution_count": 900,
   "id": "b36cad22",
   "metadata": {},
   "outputs": [],
   "source": [
    "def zeropoint(P, ob, catal, indx):\n",
    "    mag_ob = np.array(ob['MAG_APER'])\n",
    "    mag_catal = np.array(catal['R'])\n",
    "    magErr = np.array(ob['MAGERR_APER'])\n",
    "    gErr = np.array(catal['gMeanKronMagErr'])\n",
    "    rErr = np.array(catal['rMeanKronMagErr'])\n",
    "    FWHM = np.array(ob['FWHM_IMAGE'])\n",
    "\n",
    "    #zero point & zero point error calculation \n",
    "    zp = []\n",
    "    zpE = []\n",
    "    for i in range(len(mag_ob)):\n",
    "        u=indx[i]\n",
    "        x = float(mag_catal[u])-float(mag_ob[i])\n",
    "        e = np.sqrt(magErr[i]**2 + gErr[u]**2 + rErr[u]**2)\n",
    "        zp.append(x)\n",
    "        zpE.append(e)\n",
    "    \n",
    "    print(FWHM)\n",
    "    #zp versus ref mag\n",
    "    mag_c_new=[]\n",
    "    zp_new=[]\n",
    "    zpE_new=[]\n",
    "    seeing=[]\n",
    "    for i in P:\n",
    "        u=indx[i]\n",
    "        if 27>zp[i]:\n",
    "            if zpE[i]<0.1:\n",
    "                if 17.5>mag_catal[u]>13:\n",
    "                    if FWHM[i]*0.4454<4:\n",
    "                        mag_c_new.append(mag_catal[u])\n",
    "                        zpE_new.append(zpE[i])\n",
    "                        zp_new.append(zp[i])\n",
    "                        seeing.append(0.4454*FWHM[i])\n",
    "    \n",
    "    return zp_new, zpE_new, mag_c_new, seeing\n",
    "        \n",
    "        "
   ]
  },
  {
   "cell_type": "code",
   "execution_count": 751,
   "id": "beb15f7d",
   "metadata": {},
   "outputs": [],
   "source": [
    "def depth(ob, zp_new, seeing, name, image_file):\n",
    "    import sep\n",
    "    \n",
    "    Me = ob['MAGERR_APER']\n",
    "    M = ob['MAG_APER']\n",
    "    \n",
    "\n",
    "    #image_data=fits.open('/data3/yunyi/SOAO/fitsfiles/M101_20210604/Calib-SOAO-M101-20210604-153827-R-60.fits')\n",
    "    #header=image_data[0].header\n",
    "    #zp= header['ZP_0']\n",
    "    zp=np.mean(zp_new)\n",
    "    \n",
    "    data = fits.getdata(image_file,ext=0)\n",
    "    data = data.byteswap().newbyteorder()\n",
    "    bkg=sep.Background(data, bw=512, bh=512)\n",
    "    \n",
    "    N=5\n",
    "    std = bkg.globalrms\n",
    "    slv = bkg.globalback\n",
    "    r=np.mean(seeing)\n",
    "    dp=zp - 2.5*log10(N*std*np.sqrt(np.pi*(r**2)))\n",
    "\n",
    "    print('analytical depth is %f'%dp)\n",
    "    print('seeing is %f'%r)\n",
    "    \n",
    "    \n",
    "    mag_list=[]\n",
    "    mag_list.append(Me)\n",
    "    mag_list.append(M)\n",
    "    \n",
    "    pilist=[]\n",
    "    pjlist=[]\n",
    "    for i in range(len(M)):\n",
    "        p=abs(0.2-mag_list[0][i])\n",
    "        if p<0.01:\n",
    "            pilist.append(mag_list[0][i])\n",
    "            pjlist.append(mag_list[1][i])\n",
    "            \n",
    "    mag_list_new = []\n",
    "    mag_list_new.append(pilist)\n",
    "    mag_list_new.append(pjlist)\n",
    "\n",
    "    pj = max(pjlist)+zp\n",
    "    print(mag_list_new)\n",
    "    for i in range(len(pilist)):\n",
    "        if mag_list_new[1][i]+zp == pj:\n",
    "            pi = mag_list_new[0][i]\n",
    "     \n",
    "            \n",
    "    print('mag error is %f'%pi)\n",
    "    plt.figure(figsize=(10,7))\n",
    "    plt.plot(M+zp, Me, 'o', alpha=0.6)\n",
    "    plt.plot([12, pj], [pi, pi], color='orange')\n",
    "    plt.plot([pj,pj], [pi,0], color='orange')\n",
    "    plt.scatter(pj, pi, s= 100, c='r')\n",
    "    plt.text(pj, pi, '{:.5f}'. format(pj), size=15)\n",
    "    plt.title(name)\n",
    "    plt.xlabel('MAG')\n",
    "    plt.ylabel('MAG ERROR')\n",
    "    plt.show()\n",
    "\n",
    "    print('mag is %f'%pj)\n",
    "\n",
    "    \n",
    "    return std, slv, r, dp"
   ]
  },
  {
   "cell_type": "code",
   "execution_count": 1035,
   "id": "53e2ed02",
   "metadata": {},
   "outputs": [],
   "source": [
    "sep, c, o, flag, inflag, qflag, ob, catal, indx=match_radec('/data3/yunyi/SOAO/code/NGC0628_median.cat',\n",
    "                                                            '/data3/yunyi/SOAO/code/NGC0628_R.csv')"
   ]
  },
  {
   "cell_type": "code",
   "execution_count": 1036,
   "id": "9cf3a23f",
   "metadata": {},
   "outputs": [
    {
     "data": {
      "text/plain": [
       "241"
      ]
     },
     "execution_count": 1036,
     "metadata": {},
     "output_type": "execute_result"
    }
   ],
   "source": [
    "len(sep.arcsec)"
   ]
  },
  {
   "cell_type": "code",
   "execution_count": 1037,
   "id": "6511c25c",
   "metadata": {},
   "outputs": [
    {
     "data": {
      "text/plain": [
       "135"
      ]
     },
     "execution_count": 1037,
     "metadata": {},
     "output_type": "execute_result"
    }
   ],
   "source": [
    "y=[x for x in sep.arcsec if x<0.5]\n",
    "len(y)"
   ]
  },
  {
   "cell_type": "code",
   "execution_count": 1038,
   "id": "616fd462",
   "metadata": {},
   "outputs": [],
   "source": [
    "sep_limit=0.5"
   ]
  },
  {
   "cell_type": "code",
   "execution_count": 1039,
   "id": "8b4903ab",
   "metadata": {},
   "outputs": [
    {
     "name": "stdout",
     "output_type": "stream",
     "text": [
      "[11, 16, 19, 20, 21, 23, 25, 26, 27, 28, 31, 33, 36, 37, 44, 46, 55, 56, 57, 58, 59, 63, 64, 65, 67, 70, 73, 76, 79, 80, 82, 84, 90, 91, 92, 93, 95, 97, 99, 101, 105, 109, 113, 116, 117, 119, 124, 126, 134, 136, 137, 138, 139, 142, 143, 144, 147, 149, 160, 162, 168, 170, 173, 175, 176, 180, 182, 183, 184, 185, 187, 188, 189, 194, 196, 200, 204, 207, 208, 209, 212, 213, 215, 217, 218, 220, 221, 222, 223, 224, 227, 228, 233, 235, 237, 238]\n"
     ]
    }
   ],
   "source": [
    "P=flagging(sep_limit, sep, c, o, flag, inflag, qflag)"
   ]
  },
  {
   "cell_type": "code",
   "execution_count": 1040,
   "id": "8807dfab",
   "metadata": {
    "scrolled": true
   },
   "outputs": [
    {
     "name": "stdout",
     "output_type": "stream",
     "text": [
      "[11, 16, 19, 20, 21, 23, 25, 26, 27, 28, 31, 33, 36, 37, 44, 46, 55, 56, 57, 58, 59, 63, 64, 65, 67, 70, 73, 76, 79, 80, 82, 84, 90, 91, 92, 93, 95, 97, 99, 101, 105, 109, 113, 116, 117, 119, 124, 126, 134, 136, 137, 138, 139, 142, 143, 144, 147, 149, 160, 162, 168, 170, 173, 175, 176, 180, 182, 183, 184, 185, 187, 188, 189, 194, 196, 200, 204, 207, 208, 209, 212, 213, 215, 217, 218, 220, 221, 222, 223, 224, 227, 228, 233, 235, 237, 238]\n"
     ]
    }
   ],
   "source": [
    "print(P)"
   ]
  },
  {
   "cell_type": "code",
   "execution_count": 1041,
   "id": "bf0bf545",
   "metadata": {
    "scrolled": true
   },
   "outputs": [
    {
     "name": "stdout",
     "output_type": "stream",
     "text": [
      "[ 5.21  4.06  6.62  5.34  3.77  8.69  3.98  5.93  5.05  4.64  7.52  5.13\n",
      "  4.47  3.91  3.88  3.92  5.93 35.07  5.17  7.29  7.2   4.49  5.61  5.01\n",
      "  5.29  3.78  3.69  3.82  4.62  4.54 21.18  9.88 14.49  3.72 11.42 16.42\n",
      "  3.72  3.02  8.62 12.28 12.15  5.35  6.88 17.72  4.23  5.69  3.79  6.58\n",
      " 11.8   9.94  3.44  1.99  8.35  8.45 11.03  4.32  6.05 10.01  7.45  5.18\n",
      " 12.69  4.89  4.22 10.52  2.81  3.98 11.1   7.82 10.4   8.91  4.91  3.8\n",
      " 14.58  9.    3.88  6.6   5.49  6.26  8.51  7.01  3.83  2.59  3.77  9.08\n",
      "  4.12  5.16 13.49 14.51 16.25  3.96  3.79  2.58  5.17  3.75  6.79  5.58\n",
      " 11.89  4.18 14.19  5.76  6.16  4.76 15.51  9.43  7.47  3.74  9.91  9.7\n",
      " 17.61  5.82  3.4  18.22  4.08  6.11 15.08 15.83  5.73  3.18 17.54  6.39\n",
      " 15.35  7.67  2.3  10.77  8.18  3.86  5.58  3.66  3.86  3.45  7.91  6.04\n",
      "  8.18  7.27  3.76  3.75  3.75  8.46  3.8   5.89  5.75 16.48  8.92  7.79\n",
      "  4.43  8.32  9.42  3.74  9.05  3.93  5.58  4.77  4.89  6.47  4.19 15.91\n",
      "  3.84  4.55  5.12  3.47  8.53  7.09  2.85  7.82  8.11  9.    3.92  4.06\n",
      "  6.47  6.32  3.43  5.36  8.73  5.18  6.36  3.74  6.89  4.63 22.99  3.8\n",
      "  7.88  1.79 11.8  13.53  4.61  6.52  2.93  3.76  4.01  4.03 10.43  8.75\n",
      "  3.98  9.16  5.08  3.83  4.36 19.99  3.8   4.32  4.71 15.93  5.18  6.79\n",
      "  5.45  1.83  3.98 10.33  7.37  7.54  4.81  6.97  4.15  3.82  3.33  6.17\n",
      "  4.17  8.8   5.21  4.27  3.8   4.69  4.22  4.59  4.43 14.26  3.08  5.04\n",
      "  3.73  3.86  6.12 16.13  4.68  3.75  1.98  6.17  7.6   3.82  4.74  7.81\n",
      "  3.94]\n"
     ]
    }
   ],
   "source": [
    "zp_new, zpE_new, mag_c_new, seeing =zeropoint(P, ob, catal, indx)"
   ]
  },
  {
   "cell_type": "code",
   "execution_count": 1042,
   "id": "596ced9d",
   "metadata": {},
   "outputs": [
    {
     "data": {
      "text/plain": [
       "[3.246966,\n",
       " 1.6836119999999999,\n",
       " 1.643526,\n",
       " 1.701428,\n",
       " 1.6568880000000001,\n",
       " 1.6568880000000001,\n",
       " 1.688066,\n",
       " 1.9241280000000003,\n",
       " 1.7726920000000002,\n",
       " 1.6791580000000002,\n",
       " 1.688066,\n",
       " 1.67025,\n",
       " 1.67025,\n",
       " 1.973122,\n",
       " 1.665796,\n",
       " 1.7504220000000001,\n",
       " 3.068806,\n",
       " 1.674704,\n",
       " 1.786054,\n",
       " 1.7949620000000002,\n",
       " 3.3583160000000003,\n",
       " 1.701428,\n",
       " 1.69252,\n",
       " 1.67025,\n",
       " 1.701428]"
      ]
     },
     "execution_count": 1042,
     "metadata": {},
     "output_type": "execute_result"
    }
   ],
   "source": [
    "seeing"
   ]
  },
  {
   "cell_type": "code",
   "execution_count": 1043,
   "id": "2472e446",
   "metadata": {},
   "outputs": [
    {
     "data": {
      "text/plain": [
       "1.90078904"
      ]
     },
     "execution_count": 1043,
     "metadata": {},
     "output_type": "execute_result"
    }
   ],
   "source": [
    "np.mean(seeing)"
   ]
  },
  {
   "cell_type": "code",
   "execution_count": 1044,
   "id": "d9e32cb7",
   "metadata": {},
   "outputs": [
    {
     "data": {
      "text/plain": [
       "0.2664478322985731"
      ]
     },
     "execution_count": 1044,
     "metadata": {},
     "output_type": "execute_result"
    }
   ],
   "source": [
    "np.std(zp_new)"
   ]
  },
  {
   "cell_type": "code",
   "execution_count": 1045,
   "id": "7a18589e",
   "metadata": {},
   "outputs": [
    {
     "data": {
      "text/plain": [
       "25.475504704"
      ]
     },
     "execution_count": 1045,
     "metadata": {},
     "output_type": "execute_result"
    }
   ],
   "source": [
    "np.mean(zp_new)"
   ]
  },
  {
   "cell_type": "code",
   "execution_count": 1046,
   "id": "5aae6b16",
   "metadata": {
    "scrolled": false
   },
   "outputs": [
    {
     "data": {
      "image/png": "[encoded data removed]",
      "text/plain": [
       "<Figure size 432x288 with 1 Axes>"
      ]
     },
     "metadata": {
      "needs_background": "light"
     },
     "output_type": "display_data"
    },
    {
     "data": {
      "text/plain": [
       "<Figure size 2160x2160 with 0 Axes>"
      ]
     },
     "metadata": {},
     "output_type": "display_data"
    }
   ],
   "source": [
    "#zp versus mag plotting \n",
    "plt.plot(mag_c_new, zp_new, 'ro')\n",
    "plt.axis([13, 18, 25, 27])\n",
    "plt.title('NGC2207_median', fontsize=15)\n",
    "plt.xlabel('REF_MAG', fontsize=13)\n",
    "plt.ylabel('zp', fontsize=13)\n",
    "plt.errorbar(mag_c_new, zp_new, yerr=zpE_new, linestyle=\"None\")\n",
    "plt.figure(figsize=(30, 30))\n",
    "plt.show()"
   ]
  },
  {
   "cell_type": "code",
   "execution_count": 1047,
   "id": "f152d555",
   "metadata": {
    "scrolled": true
   },
   "outputs": [
    {
     "name": "stdout",
     "output_type": "stream",
     "text": [
      "analytical depth is 20.592232\n",
      "seeing is 1.900789\n",
      "[[0.2075, 0.2025, 0.1994, 0.1957, 0.2034, 0.1958, 0.2059], [-5.9165, -5.9456, -5.9618, -5.9812, -5.9373, -5.9788, -5.9248]]\n",
      "mag error is 0.207500\n"
     ]
    },
    {
     "data": {
      "image/png": "[encoded data removed]",
      "text/plain": [
       "<Figure size 720x504 with 1 Axes>"
      ]
     },
     "metadata": {
      "needs_background": "light"
     },
     "output_type": "display_data"
    },
    {
     "name": "stdout",
     "output_type": "stream",
     "text": [
      "mag is 19.559005\n"
     ]
    }
   ],
   "source": [
    "std, slv, r, dp=depth(ob, zp_new, seeing, 'NGC3147_mean', '/data3/yunyi/SOAO/NGC0628_median.fits')"
   ]
  },
  {
   "cell_type": "code",
   "execution_count": 1048,
   "id": "164055e3",
   "metadata": {
    "scrolled": true
   },
   "outputs": [
    {
     "data": {
      "text/plain": [
       "86.16641235351562"
      ]
     },
     "execution_count": 1048,
     "metadata": {},
     "output_type": "execute_result"
    }
   ],
   "source": [
    "slv"
   ]
  },
  {
   "cell_type": "code",
   "execution_count": 1049,
   "id": "1013b75a",
   "metadata": {},
   "outputs": [
    {
     "name": "stdout",
     "output_type": "stream",
     "text": [
      "SIMPLE  =                    T / Fits standard                                  BITPIX  =                  -32 / Bits per pixel                                 NAXIS   =                    2 / Number of axes                                 NAXIS1  =                 2048 / Axis length                                    NAXIS2  =                 2048 / Axis length                                    EXTEND  =                    F / File may contain extensions                    ORIGIN  = 'NOAO-IRAF FITS Image Kernel July 2003' / FITS file originator        DATE    = '2021-08-26T02:58:01' / Date FITS file was generated                  IRAF-TLM= '2021-08-26T02:57:58' / Time of last modification                     OBSERVAT= 'SOAO         '      /observatory                                     TELESCOP= '61cm, f/3.5'        /telescope                                       INSTRUME= 'FLI4K'              /instrument                                      OBSERVER= 'hanky'              /observer                                        DATE-OBS= '2019-10-10T17:44:24' / observed date (UT, beginning)                 TIME-OBS= '17:44:24'           /observed time (UT, beginning)                   IMAGETYP= 'object'             /image type (bias/dark/object)                   OBJECT  = 'NGC0628 '           / object name                                    FILTER  = 'R       '           / 1=U 2=B 3=V 4=R 5=I 6=N  0=unknown             EXPTIME =                60.00 /exposure time (sec)                             UT      =            17.748482 /observed time (middle)                          JD      =    2458767.239166667 / Julian day (middle)                            HJD     =      2458767.2451516 /heliocentric Julian day (middle)                RDPORT  = 'unknown'            /readout port (low noise/high capacity)          RDSPEED = 'unknown'            /readout speed: ADC rate (slow/fast)             RDNOISE =                13.60 /readout noise (e-)                              GAIN    =                 1.43 /system gain (e-/ADU)                            SATLEVEL=                63531 /saturation level (ADU)                          BIASLEVE=                    0 /bias level (ADC offset, ADU)                    FLUSHCYC=                    3 /CCD flush cycle number                          BINNING =                    2 /on-chip binning number                          SERSTART=                    1 /starting pixel in serial register of CCD        PARSTART=                    1 /starting pixel in parallel register of CCD      PIXSCALE=              0.44540 /pixel scale (arcsec/pixel)                      CCDTEMP =               -30.00 /CCD temperature (degree Celsius)                SETPOINT=               -30.00 /CCD Temp. setpoint (degree Celsius)             RA      = '01:36:21.21'        /right ascention (hh:mm:ss.ss)                   DEC     = '+15:50:29.99'       /declination (+dd:mm:ss.ss)                      ALTITUDE=             56.43449 /altitude (arcdeg) at the begin of exposure      AZIMUTH =            238.98368 /azimuth  (arcdeg) at the begin of exposure      AIRMASS =               1.1996 /airmass at the middle time of exposure          EPOCH   =           2000.00000 /epoch of RA, Dec                                MJD     =    58766.73916666667                                                  SUBBIAS = 'zero.fits'                                                           SUBDARK = 'dark-60.fits'                                                        DIVFLAT = 'nR.fits '                                                            BUNIT   = 'adu     '                                                            COMMENT Original key: \"END\"                                                     COMMENT                                                                         COMMENT --Start of Astrometry.net WCS solution--                                COMMENT --Put in by the new-wcs program--                                       COMMENT                                                                         WCSAXES =                    2 / no comment                                     CTYPE1  = 'RA---TAN-SIP' / TAN (gnomic) projection + SIP distortions            CTYPE2  = 'DEC--TAN-SIP' / TAN (gnomic) projection + SIP distortions            EQUINOX =               2000.0 / Equatorial coordinates definition (yr)         LONPOLE =                180.0 / no comment                                     LATPOLE =                  0.0 / no comment                                     CRVAL1  =        24.1297266926 / RA  of reference point                         CRVAL2  =        15.7719070284 / DEC of reference point                         CRPIX1  =        1402.32266998 / X reference pixel                              CRPIX2  =        1069.44715881 / Y reference pixel                              CUNIT1  = 'deg     ' / X pixel scale units                                      CUNIT2  = 'deg     ' / Y pixel scale units                                      CD1_1   =   -0.000122339061614 / Transformation matrix                          CD1_2   =   -2.19921516313E-07 / no comment                                     CD2_1   =    3.11014234677E-07 / no comment                                     CD2_2   =   -0.000122307248007 / no comment                                     IMAGEW  =                 2048 / Image width,  in pixels.                       IMAGEH  =                 2048 / Image height, in pixels.                       A_ORDER =                    2 / Polynomial order, axis 1                       A_0_0   =                    0 / no comment                                     A_0_1   =                    0 / no comment                                     A_0_2   =   -1.40154441391E-07 / no comment                                     A_1_0   =                    0 / no comment                                     A_1_1   =   -6.79886186219E-07 / no comment                                     A_2_0   =   -7.19546941733E-07 / no comment                                     B_ORDER =                    2 / Polynomial order, axis 2                       B_0_0   =                    0 / no comment                                     B_0_1   =                    0 / no comment                                     B_0_2   =   -1.84961540294E-07 / no comment                                     B_1_0   =                    0 / no comment                                     B_1_1   =   -5.86968164634E-07 / no comment                                     B_2_0   =   -7.97544879213E-07 / no comment                                     AP_ORDER=                    2 / Inv polynomial order, axis 1                   AP_0_0  =    0.000476184647895 / no comment                                     AP_0_1  =     5.4489572888E-07 / no comment                                     AP_0_2  =    1.39772289942E-07 / no comment                                     AP_1_0  =     6.6143612995E-07 / no comment                                     AP_1_1  =    6.78219640346E-07 / no comment                                     AP_2_0  =    7.17663202763E-07 / no comment                                     BP_ORDER=                    2 / Inv polynomial order, axis 2                   BP_0_0  =    0.000483678847376 / no comment                                     BP_0_1  =    5.60360377543E-07 / no comment                                     BP_0_2  =    1.84581114407E-07 / no comment                                     BP_1_0  =    6.66475980036E-07 / no comment                                     BP_1_1  =    5.85259722167E-07 / no comment                                     BP_2_0  =    7.95615354475E-07 / no comment                                     HISTORY Created by the Astrometry.net suite.                                    HISTORY For more details, see http://astrometry.net.                            HISTORY Git URL https://github.com/dstndstn/astrometry.net                      HISTORY Git revision                                                            HISTORY Git date                                                                HISTORY This WCS header was created by the program \"blind\".                     SEEING  =           1.90078904                                                  UL5_2   =    20.59223178675659                                                  SKYSIG  =    5.331265449523926                                                  SKYVAL  =    86.16641235351562                                                  COMMENT -- blind solver parameters: --                                          COMMENT Index(0): /usr/local/astrometry/data/index-4207-11.fits                 COMMENT Index(1): /usr/local/astrometry/data/index-4207-10.fits                 COMMENT Index(2): /usr/local/astrometry/data/index-4207-09.fits                 COMMENT Index(3): /usr/local/astrometry/data/index-4207-08.fits                 COMMENT Index(4): /usr/local/astrometry/data/index-4207-07.fits                 COMMENT Index(5): /usr/local/astrometry/data/index-4207-06.fits                 COMMENT Index(6): /usr/local/astrometry/data/index-4207-05.fits                 COMMENT Index(7): /usr/local/astrometry/data/index-4207-04.fits                 COMMENT Index(8): /usr/local/astrometry/data/index-4207-03.fits                 COMMENT Index(9): /usr/local/astrometry/data/index-4207-02.fits                 COMMENT Index(10): /usr/local/astrometry/data/index-4207-01.fits                COMMENT Index(11): /usr/local/astrometry/data/index-4207-00.fits                COMMENT Index(12): /usr/local/astrometry/data/index-4206-11.fits                COMMENT Index(13): /usr/local/astrometry/data/index-4206-10.fits                COMMENT Index(14): /usr/local/astrometry/data/index-4206-09.fits                COMMENT Index(15): /usr/local/astrometry/data/index-4206-08.fits                COMMENT Index(16): /usr/local/astrometry/data/index-4206-07.fits                COMMENT Index(17): /usr/local/astrometry/data/index-4206-06.fits                COMMENT Index(18): /usr/local/astrometry/data/index-4206-05.fits                COMMENT Index(19): /usr/local/astrometry/data/index-4206-04.fits                COMMENT Index(20): /usr/local/astrometry/data/index-4206-03.fits                COMMENT Index(21): /usr/local/astrometry/data/index-4206-02.fits                COMMENT Index(22): /usr/local/astrometry/data/index-4206-01.fits                COMMENT Index(23): /usr/local/astrometry/data/index-4206-00.fits                COMMENT Index(24): /usr/local/astrometry/data/index-4205-11.fits                COMMENT Index(25): /usr/local/astrometry/data/index-4205-10.fits                COMMENT Index(26): /usr/local/astrometry/data/index-4205-09.fits                COMMENT Index(27): /usr/local/astrometry/data/index-4205-08.fits                COMMENT Index(28): /usr/local/astrometry/data/index-4205-07.fits                COMMENT Index(29): /usr/local/astrometry/data/index-4205-06.fits                COMMENT Index(30): /usr/local/astrometry/data/index-4205-05.fits                COMMENT Index(31): /usr/local/astrometry/data/index-4205-04.fits                COMMENT Index(32): /usr/local/astrometry/data/index-4205-03.fits                COMMENT Index(33): /usr/local/astrometry/data/index-4205-02.fits                COMMENT Index(34): /usr/local/astrometry/data/index-4205-01.fits                COMMENT Index(35): /usr/local/astrometry/data/index-4205-00.fits                COMMENT Index(36): /usr/local/astrometry/data/index-4204-47.fits                COMMENT Index(37): /usr/local/astrometry/data/index-4204-46.fits                COMMENT Index(38): /usr/local/astrometry/data/index-4204-45.fits                COMMENT Index(39): /usr/local/astrometry/data/index-4204-44.fits                COMMENT Index(40): /usr/local/astrometry/data/index-4204-43.fits                COMMENT Index(41): /usr/local/astrometry/data/index-4204-42.fits                COMMENT Index(42): /usr/local/astrometry/data/index-4204-41.fits                COMMENT Index(43): /usr/local/astrometry/data/index-4204-40.fits                COMMENT Index(44): /usr/local/astrometry/data/index-4204-39.fits                COMMENT Index(45): /usr/local/astrometry/data/index-4204-38.fits                COMMENT Index(46): /usr/local/astrometry/data/index-4204-37.fits                COMMENT Index(47): /usr/local/astrometry/data/index-4204-36.fits                COMMENT Index(48): /usr/local/astrometry/data/index-4204-35.fits                COMMENT Index(49): /usr/local/astrometry/data/index-4204-34.fits                COMMENT Index(50): /usr/local/astrometry/data/index-4204-33.fits                COMMENT Index(51): /usr/local/astrometry/data/index-4204-32.fits                COMMENT Index(52): /usr/local/astrometry/data/index-4204-31.fits                COMMENT Index(53): /usr/local/astrometry/data/index-4204-30.fits                COMMENT Index(54): /usr/local/astrometry/data/index-4204-29.fits                COMMENT Index(55): /usr/local/astrometry/data/index-4204-28.fits                COMMENT Index(56): /usr/local/astrometry/data/index-4204-27.fits                COMMENT Index(57): /usr/local/astrometry/data/index-4204-26.fits                COMMENT Index(58): /usr/local/astrometry/data/index-4204-25.fits                COMMENT Index(59): /usr/local/astrometry/data/index-4204-24.fits                COMMENT Index(60): /usr/local/astrometry/data/index-4204-23.fits                COMMENT Index(61): /usr/local/astrometry/data/index-4204-22.fits                COMMENT Index(62): /usr/local/astrometry/data/index-4204-21.fits                COMMENT Index(63): /usr/local/astrometry/data/index-4204-20.fits                COMMENT Index(64): /usr/local/astrometry/data/index-4204-19.fits                COMMENT Index(65): /usr/local/astrometry/data/index-4204-18.fits                COMMENT Index(66): /usr/local/astrometry/data/index-4204-17.fits                COMMENT Index(67): /usr/local/astrometry/data/index-4204-16.fits                COMMENT Index(68): /usr/local/astrometry/data/index-4204-15.fits                COMMENT Index(69): /usr/local/astrometry/data/index-4204-14.fits                COMMENT Index(70): /usr/local/astrometry/data/index-4204-13.fits                COMMENT Index(71): /usr/local/astrometry/data/index-4204-12.fits                COMMENT Index(72): /usr/local/astrometry/data/index-4204-11.fits                COMMENT Index(73): /usr/local/astrometry/data/index-4204-10.fits                COMMENT Index(74): /usr/local/astrometry/data/index-4204-09.fits                COMMENT Index(75): /usr/local/astrometry/data/index-4204-08.fits                COMMENT Index(76): /usr/local/astrometry/data/index-4204-07.fits                COMMENT Index(77): /usr/local/astrometry/data/index-4204-06.fits                COMMENT Index(78): /usr/local/astrometry/data/index-4204-05.fits                COMMENT Index(79): /usr/local/astrometry/data/index-4204-04.fits                COMMENT Index(80): /usr/local/astrometry/data/index-4204-03.fits                COMMENT Index(81): /usr/local/astrometry/data/index-4204-02.fits                COMMENT Index(82): /usr/local/astrometry/data/index-4204-01.fits                COMMENT Index(83): /usr/local/astrometry/data/index-4204-00.fits                COMMENT Index(84): /usr/local/astrometry/data/index-4203-47.fits                COMMENT Index(85): /usr/local/astrometry/data/index-4203-46.fits                COMMENT Index(86): /usr/local/astrometry/data/index-4203-45.fits                COMMENT Index(87): /usr/local/astrometry/data/index-4203-44.fits                COMMENT Index(88): /usr/local/astrometry/data/index-4203-43.fits                COMMENT Index(89): /usr/local/astrometry/data/index-4203-42.fits                COMMENT Index(90): /usr/local/astrometry/data/index-4203-41.fits                COMMENT Index(91): /usr/local/astrometry/data/index-4203-40.fits                COMMENT Index(92): /usr/local/astrometry/data/index-4203-39.fits                COMMENT Index(93): /usr/local/astrometry/data/index-4203-38.fits                COMMENT Index(94): /usr/local/astrometry/data/index-4203-37.fits                COMMENT Index(95): /usr/local/astrometry/data/index-4203-36.fits                COMMENT Index(96): /usr/local/astrometry/data/index-4203-35.fits                COMMENT Index(97): /usr/local/astrometry/data/index-4203-34.fits                COMMENT Index(98): /usr/local/astrometry/data/index-4203-33.fits                COMMENT Index(99): /usr/local/astrometry/data/index-4203-32.fits                COMMENT Index(100): /usr/local/astrometry/data/index-4203-31.fits               COMMENT Index(101): /usr/local/astrometry/data/index-4203-30.fits               COMMENT Index(102): /usr/local/astrometry/data/index-4203-29.fits               COMMENT Index(103): /usr/local/astrometry/data/index-4203-28.fits               COMMENT Index(104): /usr/local/astrometry/data/index-4203-27.fits               COMMENT Index(105): /usr/local/astrometry/data/index-4203-26.fits               COMMENT Index(106): /usr/local/astrometry/data/index-4203-25.fits               COMMENT Index(107): /usr/local/astrometry/data/index-4203-24.fits               COMMENT Index(108): /usr/local/astrometry/data/index-4203-23.fits               COMMENT Index(109): /usr/local/astrometry/data/index-4203-22.fits               COMMENT Index(110): /usr/local/astrometry/data/index-4203-21.fits               COMMENT Index(111): /usr/local/astrometry/data/index-4203-20.fits               COMMENT Index(112): /usr/local/astrometry/data/index-4203-19.fits               COMMENT Index(113): /usr/local/astrometry/data/index-4203-18.fits               COMMENT Index(114): /usr/local/astrometry/data/index-4203-17.fits               COMMENT Index(115): /usr/local/astrometry/data/index-4203-16.fits               COMMENT Index(116): /usr/local/astrometry/data/index-4203-15.fits               COMMENT Index(117): /usr/local/astrometry/data/index-4203-14.fits               COMMENT Index(118): /usr/local/astrometry/data/index-4203-13.fits               COMMENT Index(119): /usr/local/astrometry/data/index-4203-12.fits               COMMENT Index(120): /usr/local/astrometry/data/index-4203-11.fits               COMMENT Index(121): /usr/local/astrometry/data/index-4203-10.fits               COMMENT Index(122): /usr/local/astrometry/data/index-4203-09.fits               COMMENT Index(123): /usr/local/astrometry/data/index-4203-08.fits               COMMENT Index(124): /usr/local/astrometry/data/index-4203-07.fits               COMMENT Index(125): /usr/local/astrometry/data/index-4203-06.fits               COMMENT Index(126): /usr/local/astrometry/data/index-4203-05.fits               COMMENT Index(127): /usr/local/astrometry/data/index-4203-04.fits               COMMENT Index(128): /usr/local/astrometry/data/index-4203-03.fits               COMMENT Index(129): /usr/local/astrometry/data/index-4203-02.fits               COMMENT Index(130): /usr/local/astrometry/data/index-4203-01.fits               COMMENT Index(131): /usr/local/astrometry/data/index-4203-00.fits               COMMENT Index(132): /usr/local/astrometry/data/index-4202-47.fits               COMMENT Index(133): /usr/local/astrometry/data/index-4202-46.fits               COMMENT Index(134): /usr/local/astrometry/data/index-4202-45.fits               COMMENT Index(135): /usr/local/astrometry/data/index-4202-44.fits               COMMENT Index(136): /usr/local/astrometry/data/index-4202-43.fits               COMMENT Index(137): /usr/local/astrometry/data/index-4202-42.fits               COMMENT Index(138): /usr/local/astrometry/data/index-4202-41.fits               COMMENT Index(139): /usr/local/astrometry/data/index-4202-40.fits               COMMENT Index(140): /usr/local/astrometry/data/index-4202-39.fits               COMMENT Index(141): /usr/local/astrometry/data/index-4202-38.fits               COMMENT Index(142): /usr/local/astrometry/data/index-4202-37.fits               COMMENT Index(143): /usr/local/astrometry/data/index-4202-36.fits               COMMENT Index(144): /usr/local/astrometry/data/index-4202-35.fits               COMMENT Index(145): /usr/local/astrometry/data/index-4202-34.fits               COMMENT Index(146): /usr/local/astrometry/data/index-4202-33.fits               COMMENT Index(147): /usr/local/astrometry/data/index-4202-32.fits               COMMENT Index(148): /usr/local/astrometry/data/index-4202-31.fits               COMMENT Index(149): /usr/local/astrometry/data/index-4202-30.fits               COMMENT Index(150): /usr/local/astrometry/data/index-4202-29.fits               COMMENT Index(151): /usr/local/astrometry/data/index-4202-28.fits               COMMENT Index(152): /usr/local/astrometry/data/index-4202-27.fits               COMMENT Index(153): /usr/local/astrometry/data/index-4202-26.fits               COMMENT Index(154): /usr/local/astrometry/data/index-4202-25.fits               COMMENT Index(155): /usr/local/astrometry/data/index-4202-24.fits               COMMENT Index(156): /usr/local/astrometry/data/index-4202-23.fits               COMMENT Index(157): /usr/local/astrometry/data/index-4202-22.fits               COMMENT Index(158): /usr/local/astrometry/data/index-4202-21.fits               COMMENT Index(159): /usr/local/astrometry/data/index-4202-20.fits               COMMENT Index(160): /usr/local/astrometry/data/index-4202-19.fits               COMMENT Index(161): /usr/local/astrometry/data/index-4202-18.fits               COMMENT Index(162): /usr/local/astrometry/data/index-4202-17.fits               COMMENT Index(163): /usr/local/astrometry/data/index-4202-16.fits               COMMENT Index(164): /usr/local/astrometry/data/index-4202-15.fits               COMMENT Index(165): /usr/local/astrometry/data/index-4202-14.fits               COMMENT Index(166): /usr/local/astrometry/data/index-4202-13.fits               COMMENT Index(167): /usr/local/astrometry/data/index-4202-12.fits               COMMENT Index(168): /usr/local/astrometry/data/index-4202-11.fits               COMMENT Index(169): /usr/local/astrometry/data/index-4202-10.fits               COMMENT Index(170): /usr/local/astrometry/data/index-4202-09.fits               COMMENT Index(171): /usr/local/astrometry/data/index-4202-08.fits               COMMENT Index(172): /usr/local/astrometry/data/index-4202-07.fits               COMMENT Index(173): /usr/local/astrometry/data/index-4202-06.fits               COMMENT Index(174): /usr/local/astrometry/data/index-4202-05.fits               COMMENT Index(175): /usr/local/astrometry/data/index-4202-04.fits               COMMENT Index(176): /usr/local/astrometry/data/index-4202-03.fits               COMMENT Index(177): /usr/local/astrometry/data/index-4202-02.fits               COMMENT Index(178): /usr/local/astrometry/data/index-4202-01.fits               COMMENT Index(179): /usr/local/astrometry/data/index-4202-00.fits               COMMENT Index(180): /usr/local/astrometry/data/index-4107.fits                  COMMENT Field name:                                                             COMMENT   /data3/paek/factory/soao/20191010/fzS2K342895.axy                     COMMENT Field scale lower: 0.40086 arcsec/pixel                                 COMMENT Field scale upper: 0.48994 arcsec/pixel                                 COMMENT X col name: X_IMAGE                                                     COMMENT Y col name: Y_IMAGE                                                     COMMENT Start obj: 10                                                           COMMENT End obj: 20                                                             COMMENT Solved_in: (null)                                                       COMMENT Solved_out:                                                             COMMENT   /data3/paek/factory/soao/20191010/fzS2K342895.solved                  COMMENT Solvedserver: (null)                                                    COMMENT Parity: 2                                                               COMMENT Codetol: 0.01                                                           COMMENT Verify pixels: 1 pix                                                    COMMENT Maxquads: 0                                                             COMMENT Maxmatches: 0                                                           COMMENT Cpu limit: 300.000000 s                                                 COMMENT Time limit: 0 s                                                         COMMENT Total time limit: 0 s                                                   COMMENT Total CPU limit: 300.000000 s                                           COMMENT Tweak: yes                                                              COMMENT Tweak AB order: 2                                                       COMMENT Tweak ABP order: 2                                                      COMMENT --                                                                      COMMENT -- properties of the matching quad: --                                  COMMENT index id: 4204                                                          COMMENT index healpix: 18                                                       COMMENT index hpnside: 2                                                        COMMENT log odds: 236.029                                                       COMMENT odds: 3.20653e+102                                                      COMMENT quadno: 415079                                                          COMMENT stars: 417610,417644,417604,417603                                      COMMENT field: 11,1,3,9                                                         COMMENT code error: 0.00371087                                                  COMMENT nmatch: 35                                                              COMMENT nconflict: 0                                                            COMMENT nfield: 177                                                             COMMENT nindex: 36                                                              COMMENT scale: 0.440364 arcsec/pix                                              COMMENT parity: 1                                                               COMMENT quads tried: 75                                                         COMMENT quads matched: 17                                                       COMMENT quads verified: 8                                                       COMMENT objs tried: 12                                                          COMMENT cpu time: 0.00165                                                       COMMENT --                                                                      COMMENT                                                                         COMMENT --End of Astrometry.net WCS--                                           COMMENT --(Put in by the new-wcs program)--                                     COMMENT                                                                         IMCMB001= 'scaled_aligned_Calib-SOAO-NGC0628-20191010-174424-R-60.fits'         IMCMB002= 'scaled_aligned_Calib-SOAO-NGC0628-20191010-174529-R-60.fits'         IMCMB003= 'scaled_aligned_Calib-SOAO-NGC0628-20191010-174634-R-60.fits'         IMCMB004= 'scaled_aligned_Calib-SOAO-NGC0628-20191020-175426-R-60.fits'         IMCMB005= 'scaled_aligned_Calib-SOAO-NGC0628-20201111-105920-R-60.fits'         IMCMB006= 'scaled_aligned_Calib-SOAO-NGC0628-20201111-110235-R-60.fits'         IMCMB007= 'scaled_aligned_Calib-SOAO-NGC0628-20201111-110340-R-60.fits'         IMCMB008= 'scaled_aligned_Calib-SOAO-NGC0628-20201112-115818-R-60.fits'         IMCMB009= 'scaled_aligned_Calib-SOAO-NGC0628-20201112-120133-R-60.fits'         NCOMBINE=                    9                                                  COMATHR = 'Yunyi Choi'                                                                                                                                                                                                                                                                                                                                                                                                                                                                                                                                                                                                                                                                                                                                                                                                                                                                                                                                                                                                                                                                                                                                                                                                                                                                                                                                                                                                                                                                                                                                                                                                                                                                                                                                                                                                                                                                                                                                                                                                                                                                                                                                                                                                                                                                                                                                                                                                                                                                                                                                                                                                                                                                                                                                                                                                                                                                                                                                                                                                                                                                                                                                                                                                                                                                                                                                                                                                                                                                                                                                                                                                                                                                                                                          END                                                                             \n"
     ]
    }
   ],
   "source": [
    "fits_file = '/data3/yunyi/SOAO/referenceimage/Ref-NGC0628-R-540.com.fits'\n",
    "with fits.open(fits_file, 'update') as f:\n",
    "    for hdu in f:\n",
    "        hdu.header['COMATHR'] = 'Yunyi Choi'\n",
    "        hdu.header['SEEING'] = r\n",
    "        hdu.header['UL5_2'] = dp\n",
    "        hdu.header['SKYSIG'] = std\n",
    "        hdu.header['SKYVAL'] = slv\n",
    "        print(hdu.header)"
   ]
  },
  {
   "cell_type": "code",
   "execution_count": null,
   "id": "044012c1",
   "metadata": {},
   "outputs": [],
   "source": [
    "======================================================================"
   ]
  },
  {
   "cell_type": "code",
   "execution_count": 724,
   "id": "f375f12e",
   "metadata": {},
   "outputs": [
    {
     "data": {
      "text/plain": [
       "287"
      ]
     },
     "execution_count": 724,
     "metadata": {},
     "output_type": "execute_result"
    }
   ],
   "source": [
    "len(o[flag<1])\n"
   ]
  },
  {
   "cell_type": "code",
   "execution_count": 765,
   "id": "431cfafb",
   "metadata": {},
   "outputs": [
    {
     "data": {
      "text/plain": [
       "32"
      ]
     },
     "execution_count": 765,
     "metadata": {},
     "output_type": "execute_result"
    }
   ],
   "source": [
    "qflag[26791]"
   ]
  },
  {
   "cell_type": "code",
   "execution_count": 604,
   "id": "4a3d3961",
   "metadata": {},
   "outputs": [
    {
     "data": {
      "text/plain": [
       "1"
      ]
     },
     "execution_count": 604,
     "metadata": {},
     "output_type": "execute_result"
    }
   ],
   "source": [
    "len(c[indx[sep.arcsec<0.1]])"
   ]
  },
  {
   "cell_type": "code",
   "execution_count": 436,
   "id": "247a9d66",
   "metadata": {
    "collapsed": true
   },
   "outputs": [
    {
     "data": {
      "text/plain": [
       "array([2.43911095e-02, 9.50302700e-03, 2.76425543e-01, 5.77963313e-03,\n",
       "       2.26619416e-01, 4.48341692e-03, 6.06463461e-03, 5.96160838e-03,\n",
       "       1.93769289e-01, 3.52196846e-03, 2.09783130e-01, 2.70047003e-01,\n",
       "       2.14318652e-02, 1.77738507e-01, 5.44151658e-03, 8.25531282e-02,\n",
       "       2.71452005e-01, 9.91097496e-03, 6.86742941e-03, 4.21117622e-03,\n",
       "       8.72731400e-03, 7.67166425e-03, 3.95784851e-03, 3.78158584e-03,\n",
       "       3.19133489e-03, 2.63665092e-03, 2.66418516e-01, 1.03043000e-02,\n",
       "       1.94980931e-01, 1.92501301e-02, 2.48457031e-01, 2.05113195e-01,\n",
       "       5.03275047e-03, 2.47427013e-01, 9.37715910e-03, 3.69494060e-02,\n",
       "       2.17194446e-01, 4.51062372e-03, 8.56545953e-03, 6.85347337e-02,\n",
       "       1.38971588e-02, 1.60304898e-02, 4.84450931e-03, 9.28693238e-03,\n",
       "       4.74755288e-03, 6.99742070e-03, 8.43219130e-03, 6.84609847e-03,\n",
       "       5.01782254e-03, 1.06601505e-02, 4.33535350e-03, 9.89499700e-02,\n",
       "       1.19206836e-02, 1.88494376e-02, 6.27686205e-03, 7.94731672e-02,\n",
       "       3.66301137e-02, 3.70433496e-03, 4.36208144e-03, 9.08851665e-03,\n",
       "       5.38056107e-02, 1.70007665e-01, 9.35193869e-03, 4.11324509e-03,\n",
       "       9.19110855e-02, 1.93102379e-01, 6.57181732e-01, 1.05983591e-02,\n",
       "       2.15640240e-02, 7.04034989e-03, 7.09448655e-03, 6.36017546e-03,\n",
       "       4.98953391e-03, 1.20190206e-02, 4.81827359e-03, 1.06602587e-02,\n",
       "       6.44255740e-02, 2.19751471e-02, 8.42786282e-03, 1.11192301e-01,\n",
       "       1.94183346e-02, 8.48881679e-02, 9.64817204e-03, 1.87430857e-01,\n",
       "       7.32035895e-03, 8.86563290e-03, 3.58675694e-03, 1.09105612e-02,\n",
       "       1.44671194e-02, 1.08433811e-02, 2.02639349e-02, 3.07721358e-03,\n",
       "       6.60829321e-03, 1.58895335e-02, 8.36296632e-02, 1.25737312e-02,\n",
       "       1.02067133e-02, 5.93657100e-03, 1.11233911e-02, 6.44708237e-02,\n",
       "       5.99146323e-03, 4.50886816e-03, 1.06602832e-02, 8.72136699e-02,\n",
       "       6.52236749e-03, 1.58522182e-02, 5.32108715e-02, 3.38570860e-03,\n",
       "       9.88671401e-02, 1.31328085e-02, 8.23756214e-03, 3.34454816e-03,\n",
       "       1.82387064e-03, 1.11923842e-02, 2.40100815e-02, 7.77532111e-03,\n",
       "       1.11262469e-01, 4.28824847e-03, 1.43041316e-03, 1.49055492e-02,\n",
       "       6.44038095e-03, 7.62685027e-02, 6.84347166e-03, 7.14354595e-03,\n",
       "       1.81703179e-01, 1.26429135e-02, 2.73184080e-02, 4.59211407e-03,\n",
       "       8.60199772e-03, 3.31115643e-03, 2.70514718e-03, 2.48231914e-03,\n",
       "       1.13043046e-02, 1.11805469e-02, 1.35267545e-03, 2.27303360e-03,\n",
       "       8.38338185e-03, 5.36675352e-03, 6.49370354e-02, 6.15341557e-03,\n",
       "       1.00233542e-02, 5.03933785e-03, 5.71518129e-03, 1.01454903e-02,\n",
       "       3.61275443e-03, 7.49553900e-02, 2.50208630e-01, 1.24698928e-02,\n",
       "       1.24675516e-01, 4.93149893e-02, 3.82410544e-03, 8.43911979e-03,\n",
       "       1.12408523e-02, 2.83250733e-02, 1.41455469e-02, 3.92705601e-03,\n",
       "       2.97281626e-02, 9.27644833e-02, 1.02004310e-02, 5.70761858e-02,\n",
       "       1.92274498e-02, 2.02319883e-02, 3.27619114e-03, 1.31848015e-02,\n",
       "       1.80112780e-03, 4.99817691e-03, 3.32348065e-02, 1.09133361e-02,\n",
       "       1.09536118e-02, 2.09329813e-02, 1.23291235e-02, 7.91741955e-02,\n",
       "       3.37895705e-03, 4.48063549e-03, 3.97831638e-03, 5.69425697e-03,\n",
       "       1.68295827e-03, 7.68415235e-03, 2.31415747e-03, 4.34457280e-03,\n",
       "       6.37405655e-03, 6.84685209e-03, 6.55417489e-02, 4.39165667e-03,\n",
       "       9.40379473e-03, 1.79691205e-02, 9.34568678e-03, 1.14505140e-02,\n",
       "       9.36987740e-03, 7.19049514e-02, 1.75494649e-02, 1.24061987e-02,\n",
       "       1.62766156e-03, 1.26142253e-01, 2.52744127e-03, 1.95429128e-02,\n",
       "       1.23741758e-01, 1.39892075e-02, 3.98775827e-02, 1.32233090e-03,\n",
       "       2.01376575e-02, 8.48691415e-03, 1.52522826e-02, 2.52813586e-02,\n",
       "       3.15731945e-03, 1.31575557e-02, 1.52509676e-02, 5.75329314e-03,\n",
       "       1.16319960e-01, 1.42166272e-01, 2.93703233e-02, 9.82424584e-02,\n",
       "       1.43873004e-02, 2.59904382e-01, 2.31357589e-02, 5.04190564e-02,\n",
       "       2.20774109e-03, 4.13237403e-03, 4.92212264e-02, 4.38718858e-03,\n",
       "       1.69589534e-02, 3.05228168e-02, 2.32810282e-01, 2.04670505e-02,\n",
       "       4.80280813e-03, 9.98703543e-03, 4.32040652e-02, 2.76661558e-01,\n",
       "       1.59938121e-02, 3.98138335e-02, 1.79594012e-02, 3.33108208e-03,\n",
       "       1.47171264e-02, 1.14785247e-01, 7.30191645e-02, 1.67225067e-02,\n",
       "       1.47096020e-01, 3.04544829e-03, 2.83356870e-02, 2.33399317e-03,\n",
       "       1.03954402e-02, 1.01110824e-01, 3.37642456e-03, 4.81327174e-03,\n",
       "       3.97078153e-03, 2.67801299e-03, 4.17544214e-02, 1.05810461e-02,\n",
       "       2.51498617e-03, 3.69663030e-03, 1.87455058e-01, 8.33605459e-03,\n",
       "       1.69951287e-01, 7.20325506e-03, 1.61939728e-01, 1.45242163e-01,\n",
       "       1.30723597e-01, 5.80718018e-03, 1.65832125e-01, 1.33439387e-02,\n",
       "       3.80803837e-03, 8.19662101e-03, 5.93432553e-03, 6.82989870e-03,\n",
       "       3.44562207e-03, 1.75441409e-01, 3.43602888e-03, 1.29214416e-01,\n",
       "       2.65693601e-02, 5.40939986e-03, 2.54662032e-03, 2.48744477e-03,\n",
       "       5.49994692e-03, 5.23234435e-03, 1.58681716e-03, 1.15119770e-01,\n",
       "       1.91826959e-02, 1.42357274e-02, 6.40522378e-03, 5.24954273e-03,\n",
       "       1.98734966e-03, 9.47051644e-02, 1.83335481e-01, 1.44839451e-02,\n",
       "       3.70120050e-03, 8.35407509e-03, 1.05845733e-02, 1.60448887e-01,\n",
       "       3.68385417e-03, 5.94640438e-03, 6.74837332e-03, 1.56557548e-02,\n",
       "       2.06734702e-02, 9.78223468e-03, 3.55334176e-03, 4.67899535e-03,\n",
       "       3.10712029e-02, 5.92536502e-03, 4.95894143e-03, 4.26024657e-04,\n",
       "       3.82032078e-03, 8.81477296e-03, 3.97799202e-03, 1.38882437e-02,\n",
       "       1.96679781e-02, 1.50142776e-01, 9.71002095e-03, 4.70105453e-03,\n",
       "       3.82284005e-03, 3.02113683e-03, 8.25067952e-03, 4.39334471e-03,\n",
       "       1.47736636e-01, 4.04270579e-01, 1.05827505e-04, 1.16788699e-02,\n",
       "       1.77983546e-03, 1.30520589e-02, 1.84431209e-01, 1.53904607e-02,\n",
       "       5.77818835e-03, 2.02390345e-03, 2.92729715e-01, 3.42288266e-03,\n",
       "       1.65041746e-02, 9.95860424e-03, 2.63900988e-03, 3.59767365e-03,\n",
       "       2.96775400e-01, 1.63071693e-01, 3.06717436e-01, 1.59877564e-02,\n",
       "       1.60463582e-03, 3.53655454e-03, 1.36886776e-02, 5.10316566e-02,\n",
       "       4.00062631e-01, 1.89946145e-02, 2.77122987e-03, 2.52303538e-03,\n",
       "       8.32304696e-03, 3.91756795e-03, 5.09442888e-03, 2.95717095e-03,\n",
       "       1.78702738e-03, 1.62928599e-02, 7.91355165e-03, 3.42832785e-03,\n",
       "       4.38162444e-02, 1.24772393e-02, 3.25769150e-03, 3.67252313e-03,\n",
       "       1.53614249e-02, 9.92845271e-02, 8.34412568e-03, 3.19156479e-03,\n",
       "       1.46442065e-03, 4.84865018e-02, 3.47926950e-03, 5.17707389e-03,\n",
       "       3.65431667e-03, 1.89501979e-02, 3.82695783e-03, 2.93069397e-01,\n",
       "       6.55460371e-03, 7.07978278e-03, 2.56116200e-03, 1.71735474e-01,\n",
       "       1.25419654e-02, 6.39020706e-03, 2.34714618e-02, 3.35598959e-03,\n",
       "       1.44490072e-02, 1.73628388e-02, 4.22723087e-03, 1.20807379e-02,\n",
       "       2.31729801e-02, 1.28171176e-02, 1.81643233e-03, 6.19243867e-03,\n",
       "       4.39833488e-03, 2.31565970e-02, 4.20148872e-03, 7.09576472e-03,\n",
       "       1.39590967e-03, 1.39115144e-02, 1.39989266e-02, 6.65319826e-03,\n",
       "       3.28729142e-02, 5.63262595e-02, 9.30107063e-02, 1.57092288e-01,\n",
       "       9.94969308e-03, 9.33407445e-02, 1.09835789e-02, 2.31858809e-02,\n",
       "       1.44294396e-02, 5.36220224e-03, 3.80422709e-03, 3.41415718e-04,\n",
       "       7.65060481e-01, 1.30590297e-02, 1.01941538e-02, 9.88426681e-03,\n",
       "       2.47698967e-01, 8.18845514e-03, 1.50161481e-01, 7.58610384e-03,\n",
       "       5.13230183e-02, 3.28500090e-01, 7.36148063e-03, 1.34486202e-02,\n",
       "       8.59272193e-03, 1.93802833e-02, 7.76400412e-03, 8.21841523e-03,\n",
       "       1.85103961e-03, 7.95196718e-03, 5.74978143e-03, 8.76794191e-02,\n",
       "       8.51114422e-02, 3.45179628e-03, 1.65723709e-02, 1.10884212e-02,\n",
       "       4.47563800e-02, 1.08570329e-02, 7.05193123e-03, 1.88825670e-02,\n",
       "       1.83231262e-02, 7.12218781e-03, 1.07564632e-01, 8.19861974e-03,\n",
       "       8.53762038e-03, 5.15658046e-03, 1.40222927e-01, 1.01784471e-02])"
      ]
     },
     "execution_count": 436,
     "metadata": {},
     "output_type": "execute_result"
    }
   ],
   "source": [
    "sep.arcmin"
   ]
  },
  {
   "cell_type": "code",
   "execution_count": 1004,
   "id": "944092b2",
   "metadata": {},
   "outputs": [
    {
     "name": "stdout",
     "output_type": "stream",
     "text": [
      "[2, 6, 9, 10, 11, 13, 14, 20, 22, 23, 26, 28, 32, 33, 34, 38, 39, 41, 43, 44, 49, 53, 54, 55, 56, 57, 58, 60, 61, 62, 63, 65, 66, 67, 69, 70, 80, 84, 85, 91, 94, 96, 101, 102, 105, 109, 112, 113, 119, 120, 121, 124, 126]\n"
     ]
    }
   ],
   "source": [
    "#seperation and flag restriction \n",
    "P=[]\n",
    "sep_limit=2\n",
    "\n",
    "for i in range(len(o)):\n",
    "    if sep.arcsec[i]<sep_limit:\n",
    "        if flag[i]<1:\n",
    "            if inflag[i] < 10**9:\n",
    "                if qflag[i] < 100:\n",
    "                    P.append(i)\n",
    "        \n",
    "print(P)"
   ]
  },
  {
   "cell_type": "code",
   "execution_count": 891,
   "id": "4aadde19",
   "metadata": {},
   "outputs": [
    {
     "data": {
      "text/plain": [
       "[<matplotlib.lines.Line2D at 0x7f2866685a30>]"
      ]
     },
     "execution_count": 891,
     "metadata": {},
     "output_type": "execute_result"
    },
    {
     "data": {
      "image/png": "[encoded data removed]",
      "text/plain": [
       "<Figure size 432x288 with 1 Axes>"
      ]
     },
     "metadata": {
      "needs_background": "light"
     },
     "output_type": "display_data"
    }
   ],
   "source": [
    "plt.plot(c.ra, c.dec, linestyle='none', marker='o')\n",
    "plt.plot(o.ra, o.dec, linestyle='none', marker='s')"
   ]
  },
  {
   "cell_type": "code",
   "execution_count": 752,
   "id": "b270e70a",
   "metadata": {},
   "outputs": [
    {
     "data": {
      "text/plain": [
       "<SkyCoord (ICRS): (ra, dec) in deg\n",
       "    (154.4616558, 73.4207011)>"
      ]
     },
     "execution_count": 752,
     "metadata": {},
     "output_type": "execute_result"
    }
   ],
   "source": [
    "o[43]"
   ]
  },
  {
   "cell_type": "code",
   "execution_count": 753,
   "id": "d50a4f09",
   "metadata": {},
   "outputs": [
    {
     "data": {
      "text/plain": [
       "[<matplotlib.lines.Line2D at 0x7f2865603610>]"
      ]
     },
     "execution_count": 753,
     "metadata": {},
     "output_type": "execute_result"
    },
    {
     "data": {
      "image/png": "[encoded data removed]",
      "text/plain": [
       "<Figure size 432x288 with 1 Axes>"
      ]
     },
     "metadata": {
      "needs_background": "light"
     },
     "output_type": "display_data"
    }
   ],
   "source": [
    "plt.plot(c.ra, c.dec, linestyle='none', marker='o')\n",
    "plt.plot(o.ra, o.dec, linestyle='none', marker='s')\n",
    "plt.plot(o[43].ra, o[43].dec, linestyle='none', marker='D')\n"
   ]
  },
  {
   "cell_type": "code",
   "execution_count": 1005,
   "id": "e2231a60",
   "metadata": {},
   "outputs": [],
   "source": [
    "mag_ob = np.array(ob['MAG_AUTO'])\n",
    "mag_catal = np.array(catal['R'])\n",
    "magErr = np.array(ob['MAGERR_AUTO'])\n",
    "gErr = np.array(catal['gMeanKronMagErr'])\n",
    "rErr = np.array(catal['rMeanKronMagErr'])\n",
    "\n",
    "#zero point & zero point error calculation \n",
    "zp = []\n",
    "zpE = []\n",
    "for i in range(len(mag_ob)):\n",
    "    u=indx[i]\n",
    "    x = float(mag_catal[u])-float(mag_ob[i])\n",
    "    e = np.sqrt(magErr[i]**2 + gErr[u]**2 + rErr[u]**2)\n",
    "    zp.append(x)\n",
    "    zpE.append(e)\n"
   ]
  },
  {
   "cell_type": "code",
   "execution_count": 766,
   "id": "4e649ab8",
   "metadata": {},
   "outputs": [
    {
     "data": {
      "text/plain": [
       "11.298774824142455"
      ]
     },
     "execution_count": 766,
     "metadata": {},
     "output_type": "execute_result"
    }
   ],
   "source": [
    "mag_catal[26791]"
   ]
  },
  {
   "cell_type": "code",
   "execution_count": 787,
   "id": "b84d7da5",
   "metadata": {},
   "outputs": [
    {
     "data": {
      "text/plain": [
       "[31.741428091430667,\n",
       " 26.317736287689208,\n",
       " 24.91175589828491,\n",
       " 28.372193338775627,\n",
       " 27.142487168884276,\n",
       " 28.781725785064694,\n",
       " 29.299031401824948,\n",
       " 31.12602578506469,\n",
       " 23.690787168884277,\n",
       " 25.49083047904968,\n",
       " 22.36441529006958,\n",
       " 21.56231529006958,\n",
       " 28.70372777175903,\n",
       " 25.521487168884278,\n",
       " 27.542925785064693,\n",
       " 28.10942777175903,\n",
       " 26.293082067108152,\n",
       " 25.863075843811032,\n",
       " 27.12482770614624,\n",
       " 26.846741210937502,\n",
       " 23.468680864715576,\n",
       " 30.159433772277833,\n",
       " 30.309868398284912,\n",
       " 29.73301079559326,\n",
       " 26.80241079559326,\n",
       " 28.530461174774167,\n",
       " 31.972332395172117,\n",
       " 26.898126319122312,\n",
       " 29.027148465728764,\n",
       " 30.436959465026852,\n",
       " 28.32459474105835,\n",
       " 27.914838410949706,\n",
       " 28.118283342742913,\n",
       " 26.610926319122314,\n",
       " 22.10891738204956,\n",
       " 22.906534284210203,\n",
       " 27.092590731811523,\n",
       " 25.4227366065979,\n",
       " 26.114659465026854,\n",
       " 22.592452519607544,\n",
       " 28.01506812362671,\n",
       " 26.018894741058347,\n",
       " 25.390530253601078,\n",
       " 27.293259465026857,\n",
       " 29.159068425750732,\n",
       " 29.002985991668705,\n",
       " 28.403613397216795,\n",
       " 28.57593727264404,\n",
       " 28.177212268829344,\n",
       " 26.94106856994629,\n",
       " 25.320291410064694,\n",
       " 27.951390190887455,\n",
       " 26.501212268829345,\n",
       " 26.430968569946288,\n",
       " 27.806257276916497,\n",
       " 27.771190190887452,\n",
       " 26.652851179504392,\n",
       " 27.700768569946288,\n",
       " 30.23169771118164,\n",
       " 28.87331786880493,\n",
       " 27.73071786880493,\n",
       " 22.172204051971434,\n",
       " 27.576917868804927,\n",
       " 24.24958080444336,\n",
       " 29.692717868804927,\n",
       " 22.109104051971435,\n",
       " 27.941270117950438,\n",
       " 28.92211786880493,\n",
       " 26.39266011047363,\n",
       " 23.186791234588625,\n",
       " 30.755261573028562,\n",
       " 28.55521786880493,\n",
       " 24.055891234588625,\n",
       " 29.42958943786621,\n",
       " 26.418689202880856,\n",
       " 28.020217868804927,\n",
       " 21.988104051971437,\n",
       " 29.052489437866207,\n",
       " 29.13981786880493,\n",
       " 30.270890357208252,\n",
       " 29.07678943786621,\n",
       " 27.95947784576416,\n",
       " 28.826889437866207,\n",
       " 29.366720855712884,\n",
       " 28.77778943786621,\n",
       " 26.669817868804927,\n",
       " 30.24593681259155,\n",
       " 28.25288943786621,\n",
       " 28.158561573028564,\n",
       " 25.858852644348143,\n",
       " 28.891566243743895,\n",
       " 28.473447249603268,\n",
       " 29.03306157302856,\n",
       " 28.414561573028564,\n",
       " 29.179666243743895,\n",
       " 28.717089437866207,\n",
       " 26.678461573028564,\n",
       " 25.69594724960327,\n",
       " 29.626479059600825,\n",
       " 27.346452347564696,\n",
       " 27.168752559661865,\n",
       " 30.61166537017822,\n",
       " 27.614266243743895,\n",
       " 28.510166243743896,\n",
       " 26.582052559661868,\n",
       " 27.690566243743895,\n",
       " 26.245652559661867,\n",
       " 28.42762401809692,\n",
       " 29.105779059600827,\n",
       " 28.71265601348877,\n",
       " 27.89851738967895,\n",
       " 29.258779059600826,\n",
       " 28.04745264434814,\n",
       " 25.00015673904419,\n",
       " 28.022079059600827,\n",
       " 27.57981738967895,\n",
       " 27.771124018096923,\n",
       " 27.54493681259155,\n",
       " 26.01499949874878,\n",
       " 31.34426537017822,\n",
       " 31.833269258880613,\n",
       " 24.36309949874878,\n",
       " 27.51527905960083,\n",
       " 24.55145673904419,\n",
       " 23.84344724960327,\n",
       " 29.847478411865225,\n",
       " 28.04325601348877,\n",
       " 28.784158039093015,\n",
       " 29.266958039093012,\n",
       " 34.28883120727539,\n",
       " 30.417132093811034,\n",
       " 30.85035510940552,\n",
       " 24.49405673904419,\n",
       " 30.52336537017822,\n",
       " 28.20830905609131,\n",
       " 27.576126274108887,\n",
       " 26.19630905609131,\n",
       " 25.884652644348144,\n",
       " 27.086124018096925,\n",
       " 27.647445132446286,\n",
       " 25.88520905609131,\n",
       " 29.410202721405028,\n",
       " 30.57566537017822,\n",
       " 29.83780272140503,\n",
       " 27.52629068527222,\n",
       " 27.408858039093015,\n",
       " 31.275862024688717,\n",
       " 28.358602721405028,\n",
       " 27.90757421569824,\n",
       " 24.57969068527222,\n",
       " 27.07189068527222,\n",
       " 30.026765370178218,\n",
       " 28.757802721405028,\n",
       " 26.512890685272218,\n",
       " 24.58679068527222,\n",
       " 31.727559349060055,\n",
       " 27.59910272140503,\n",
       " 27.84774609069824,\n",
       " 25.78994609069824,\n",
       " 27.55785287399292,\n",
       " 23.233733973693845,\n",
       " 24.267946090698242,\n",
       " 30.971759349060058,\n",
       " 25.91694609069824,\n",
       " 27.16136537017822,\n",
       " 26.54785761871338,\n",
       " 26.88505287399292,\n",
       " 25.96760272140503,\n",
       " 27.061655109405518,\n",
       " 26.723753366088864,\n",
       " 30.978545949554437,\n",
       " 29.454165876007078,\n",
       " 30.375220523071285,\n",
       " 25.285770069122314,\n",
       " 29.95410609436035,\n",
       " 28.36402512283325,\n",
       " 28.53926537017822,\n",
       " 29.922285945892337,\n",
       " 27.19653058242798,\n",
       " 25.48191098213196,\n",
       " 24.82746125564575,\n",
       " 26.290978173065188,\n",
       " 26.363361255645753,\n",
       " 26.482578173065185,\n",
       " 23.49621098213196,\n",
       " 26.88362512283325,\n",
       " 25.415208788681028,\n",
       " 26.726561255645752,\n",
       " 26.905120523071286,\n",
       " 26.15986537017822,\n",
       " 22.74621098213196,\n",
       " 25.92866125564575,\n",
       " 29.63533631210327,\n",
       " 27.042636312103273,\n",
       " 26.30509498901367,\n",
       " 23.19241098213196,\n",
       " 28.22996125564575,\n",
       " 26.26133058242798,\n",
       " 26.595706094360352,\n",
       " 26.44093058242798,\n",
       " 25.67293058242798,\n",
       " 24.93951504898071,\n",
       " 26.107835188293457,\n",
       " 26.23370609436035,\n",
       " 28.10123031311035,\n",
       " 29.5471294090271,\n",
       " 26.57587306900024,\n",
       " 32.16752173538208,\n",
       " 27.05945120239258,\n",
       " 27.899451202392576,\n",
       " 24.139914087677,\n",
       " 23.08460614242554,\n",
       " 24.428214087677002,\n",
       " 29.221956528472905,\n",
       " 22.630045442962647,\n",
       " 20.98551463508606,\n",
       " 30.651686362457273,\n",
       " 24.374577772140505,\n",
       " 26.632851240539548,\n",
       " 22.535414635086056,\n",
       " 26.390338374328614,\n",
       " 21.818830418777466,\n",
       " 22.591314517974855,\n",
       " 24.016838374328614,\n",
       " 27.787734878540043,\n",
       " 26.52521739196777,\n",
       " 30.209724105072016,\n",
       " 21.769114517974856,\n",
       " 22.58135984573364,\n",
       " 31.62504866867065,\n",
       " 24.55345120239258,\n",
       " 29.704851240539547,\n",
       " 29.314923476409916,\n",
       " 22.143787170410157,\n",
       " 22.937487170410158,\n",
       " 23.04035646324158,\n",
       " 26.17855120239258,\n",
       " 26.644150837707517,\n",
       " 22.5878777721405,\n",
       " 32.67904070205688,\n",
       " 25.26919460144043,\n",
       " 22.604387170410156,\n",
       " 26.97818455886841,\n",
       " 25.214456528472905,\n",
       " 30.339145949554442,\n",
       " 27.342450984954837,\n",
       " 28.92057310791015,\n",
       " 24.114959604644778,\n",
       " 30.558751240539547,\n",
       " 28.647968795776364,\n",
       " 21.244243643188476,\n",
       " 28.58923530578613,\n",
       " 25.888323476409916,\n",
       " 27.364190440368652,\n",
       " 23.701271556854245,\n",
       " 28.747156528472907,\n",
       " 27.184735591125495,\n",
       " 29.733650978851323,\n",
       " 26.77139103164673,\n",
       " 28.354086362457274,\n",
       " 32.43974866867065,\n",
       " 26.050676210021976,\n",
       " 28.4366932434082,\n",
       " 23.40248136291504,\n",
       " 28.64908378601074,\n",
       " 28.618490748596194,\n",
       " 28.033951940155028,\n",
       " 22.774587170410157,\n",
       " 28.35744594955444,\n",
       " 29.001790748596193,\n",
       " 27.949174755096433,\n",
       " 24.813623476409916,\n",
       " 27.552745949554442,\n",
       " 27.935550984954837,\n",
       " 28.660550837707518,\n",
       " 25.788483261108393,\n",
       " 26.17019460144043,\n",
       " 24.904476210021976,\n",
       " 30.046672626495365,\n",
       " 29.527589669036864,\n",
       " 24.743581362915037,\n",
       " 29.25883193054199,\n",
       " 31.773774081420903,\n",
       " 29.22404594955444,\n",
       " 25.77876733474731,\n",
       " 27.531238274383547,\n",
       " 28.78166326217651,\n",
       " 26.231502320098876,\n",
       " 27.906491902160646,\n",
       " 27.398974755096432,\n",
       " 27.356238169860838,\n",
       " 26.297038169860837,\n",
       " 26.14295194015503,\n",
       " 28.317289669036864,\n",
       " 26.07896733474731,\n",
       " 29.03983871536255,\n",
       " 23.028506142425538,\n",
       " 23.20605984573364,\n",
       " 29.630493243408196,\n",
       " 25.536765131378175,\n",
       " 30.1408830039978,\n",
       " 27.552138274383545,\n",
       " 30.939233966064453,\n",
       " 26.896234240722656,\n",
       " 28.38457475509643,\n",
       " 28.1086669380188,\n",
       " 26.092416589355473,\n",
       " 26.968316589355474,\n",
       " 29.16281646881103,\n",
       " 30.97463193054199,\n",
       " 30.39682543563843,\n",
       " 30.82155194015503,\n",
       " 28.49863790512085,\n",
       " 29.520131930541993,\n",
       " 25.3007310043335,\n",
       " 24.639165131378174,\n",
       " 27.250165131378175,\n",
       " 29.28595194015503,\n",
       " 27.02395194015503,\n",
       " 25.283334240722656,\n",
       " 26.108634240722655,\n",
       " 30.733855963897703,\n",
       " 23.702468859100343,\n",
       " 33.53515596389771,\n",
       " 27.71544594955444,\n",
       " 21.949501476287843,\n",
       " 26.344873353576663,\n",
       " 27.716992848205564,\n",
       " 24.959768859100343,\n",
       " 26.491868859100343,\n",
       " 24.755768859100343,\n",
       " 27.633368859100344,\n",
       " 29.44350852508545,\n",
       " 26.476861260986325,\n",
       " 26.226305216979977,\n",
       " 28.0793830039978,\n",
       " 31.25072667388916,\n",
       " 30.31728203277588,\n",
       " 26.360461260986327,\n",
       " 32.52003914260864,\n",
       " 30.844182032775876,\n",
       " 26.893644592285156,\n",
       " 26.157424472808835,\n",
       " 27.654261260986324,\n",
       " 28.75324698791504,\n",
       " 22.467089836120607,\n",
       " 25.594368859100342,\n",
       " 27.047168859100346,\n",
       " 26.7091851020813,\n",
       " 22.872370513916014,\n",
       " 30.47331364746094,\n",
       " 27.064968859100343,\n",
       " 30.059185102081297,\n",
       " 25.68779921188354,\n",
       " 27.80115313339233,\n",
       " 26.931041146850585,\n",
       " 32.66290716629028,\n",
       " 28.94432315444946,\n",
       " 29.67304312133789,\n",
       " 27.513367494964598,\n",
       " 29.92333942184448,\n",
       " 22.394175550460815,\n",
       " 30.58370716629028,\n",
       " 27.613268871307366,\n",
       " 28.473107166290283,\n",
       " 25.432312749481202,\n",
       " 32.43314114685059,\n",
       " 23.468375550460816,\n",
       " 22.891875550460817,\n",
       " 28.02121080627441,\n",
       " 28.474505216979978,\n",
       " 26.378411381530764,\n",
       " 28.151005216979975,\n",
       " 22.38067555046082,\n",
       " 27.003811381530763,\n",
       " 28.273882032775877,\n",
       " 27.06692451400757,\n",
       " 28.200657960510252,\n",
       " 23.548189836120606,\n",
       " 23.271575550460817,\n",
       " 29.084882032775877,\n",
       " 25.581805216979976,\n",
       " 31.4822851020813,\n",
       " 29.503382032775875,\n",
       " 28.479308525085447,\n",
       " 26.262405216979978,\n",
       " 28.431674714660648,\n",
       " 25.603711381530765,\n",
       " 26.207324204254153,\n",
       " 28.435382032775877,\n",
       " 26.276024472808835,\n",
       " 24.898324472808838,\n",
       " 29.600889669036864,\n",
       " 30.197885102081298,\n",
       " 29.99221646881103,\n",
       " 27.953685102081298,\n",
       " 26.267434240722654,\n",
       " 30.253989669036862,\n",
       " 30.620689669036864,\n",
       " 32.03024356842041,\n",
       " 28.5407669380188,\n",
       " 25.559544592285157,\n",
       " 26.751192848205562,\n",
       " 24.780565131378175,\n",
       " 29.03349284820556,\n",
       " 28.35291646881103,\n",
       " 29.86693193054199,\n",
       " 27.36325097885132,\n",
       " 29.052231930541993,\n",
       " 28.248154383850096,\n",
       " 28.96315194015503,\n",
       " 26.64393816986084,\n",
       " 30.413490748596193,\n",
       " 25.742456528472903,\n",
       " 27.719723476409918,\n",
       " 29.08894119796752,\n",
       " 29.605831369781495,\n",
       " 27.288651240539547,\n",
       " 27.950541197967524,\n",
       " 26.435120991516108,\n",
       " 20.923243643188474,\n",
       " 25.8725016746521,\n",
       " 20.900230418777465,\n",
       " 21.696830418777466,\n",
       " 26.37691739196777,\n",
       " 28.27170003356933,\n",
       " 26.02838455886841,\n",
       " 25.307638374328615,\n",
       " 29.435745949554438,\n",
       " 25.032038374328614,\n",
       " 27.655886362457274,\n",
       " 28.815851240539544,\n",
       " 30.630286362457273,\n",
       " 26.05906125564575,\n",
       " 25.32612347640992,\n",
       " 29.523241197967522]"
      ]
     },
     "execution_count": 787,
     "metadata": {},
     "output_type": "execute_result"
    }
   ],
   "source": [
    "zp"
   ]
  },
  {
   "cell_type": "code",
   "execution_count": 751,
   "id": "f778f89d",
   "metadata": {},
   "outputs": [
    {
     "data": {
      "text/plain": [
       "43"
      ]
     },
     "execution_count": 751,
     "metadata": {},
     "output_type": "execute_result"
    }
   ],
   "source": [
    "zp.index(26.985674824142457)"
   ]
  },
  {
   "cell_type": "code",
   "execution_count": null,
   "id": "a7874353",
   "metadata": {},
   "outputs": [],
   "source": [
    "#zp versus mag auto\n",
    "'''    \n",
    "#weird zp exclusion \n",
    "mag_ob_new=[]\n",
    "zp_new=[]\n",
    "zpE_new=[]\n",
    "for i in P:\n",
    "    if 100>zp[i]>0:\n",
    "        mag_ob_new.append(mag_ob[i])\n",
    "        zpE_new.append(zpE[i])\n",
    "        zp_new.append(zp[i])\n",
    "\n",
    "print(zpE_new)\n",
    "'''"
   ]
  },
  {
   "cell_type": "code",
   "execution_count": 1006,
   "id": "6067f5f2",
   "metadata": {},
   "outputs": [],
   "source": [
    "#zp versus ref mag\n",
    "mag_c_new=[]\n",
    "zp_new=[]\n",
    "zpE_new=[]\n",
    "for i in P:\n",
    "    u=indx[i]\n",
    "    if 27.5>zp[i]>0:\n",
    "        if zpE[i]<0.1:\n",
    "            if mag_catal[u]>13:\n",
    "                mag_c_new.append(mag_catal[u])\n",
    "                zpE_new.append(zpE[i])\n",
    "                zp_new.append(zp[i])"
   ]
  },
  {
   "cell_type": "code",
   "execution_count": 799,
   "id": "c5447769",
   "metadata": {
    "collapsed": true
   },
   "outputs": [
    {
     "data": {
      "text/plain": [
       "[25.90211876602173,\n",
       " 25.869587168884276,\n",
       " 25.73985959663391,\n",
       " 25.73936252212524,\n",
       " 25.736913981628415,\n",
       " 25.73210147628784,\n",
       " 25.727378771209715,\n",
       " 25.712458454132083,\n",
       " 25.708452519607544,\n",
       " 25.705651490783694,\n",
       " 25.700417382049558,\n",
       " 25.700284072494508,\n",
       " 25.69411098213196,\n",
       " 25.692275550460817,\n",
       " 25.689869109344485,\n",
       " 25.687173107910155,\n",
       " 25.684004051971435,\n",
       " 25.678932003021238,\n",
       " 25.671578159332274,\n",
       " 25.665370513916017,\n",
       " 25.66445673904419,\n",
       " 25.662105702590942,\n",
       " 25.617634284210204,\n",
       " 25.612210896301267,\n",
       " 25.601415290069582,\n",
       " 25.598224472808838,\n",
       " 25.589015132904052,\n",
       " 25.579293775177,\n",
       " 25.578876210021974,\n",
       " 25.567381464385985,\n",
       " 25.555801674652095,\n",
       " 25.530414373779294,\n",
       " 25.517968859100343,\n",
       " 25.51091719970703,\n",
       " 25.47857155685425,\n",
       " 25.469433319091795,\n",
       " 25.46576298294067]"
      ]
     },
     "execution_count": 799,
     "metadata": {},
     "output_type": "execute_result"
    }
   ],
   "source": [
    "sorted(zp_new, reverse=True)"
   ]
  },
  {
   "cell_type": "code",
   "execution_count": 1007,
   "id": "711ba72d",
   "metadata": {},
   "outputs": [
    {
     "data": {
      "text/plain": [
       "25.65831312976028"
      ]
     },
     "execution_count": 1007,
     "metadata": {},
     "output_type": "execute_result"
    }
   ],
   "source": [
    "np.mean(zp_new)\n",
    "#np.mean(zpE_new)"
   ]
  },
  {
   "cell_type": "code",
   "execution_count": 966,
   "id": "45f79a1d",
   "metadata": {
    "scrolled": false
   },
   "outputs": [
    {
     "data": {
      "image/png": "[encoded data removed]",
      "text/plain": [
       "<Figure size 432x288 with 1 Axes>"
      ]
     },
     "metadata": {
      "needs_background": "light"
     },
     "output_type": "display_data"
    },
    {
     "data": {
      "text/plain": [
       "<Figure size 1080x1080 with 0 Axes>"
      ]
     },
     "metadata": {},
     "output_type": "display_data"
    }
   ],
   "source": [
    "#zp versus mag plotting \n",
    "plt.plot(mag_c_new, zp_new, 'ro')\n",
    "plt.axis([13, 19, 24, 28])\n",
    "plt.title('NGC3147_mean')\n",
    "plt.xlabel('REF_MAG')\n",
    "plt.ylabel('zp')\n",
    "plt.errorbar(mag_c_new, zp_new, yerr=zpE_new, linestyle=\"None\")\n",
    "plt.figure(figsize=(15,15))\n",
    "plt.show()\n",
    "\n",
    "#error bar \n",
    "\n",
    "\n"
   ]
  },
  {
   "cell_type": "code",
   "execution_count": 748,
   "id": "91f1530f",
   "metadata": {},
   "outputs": [
    {
     "data": {
      "text/plain": [
       "(array([ 1., 11., 31.,  7.,  0.,  0.,  0.,  0.,  0.,  1.]),\n",
       " array([25.2265593 , 25.40247085, 25.57838241, 25.75429396, 25.93020551,\n",
       "        26.10611706, 26.28202862, 26.45794017, 26.63385172, 26.80976327,\n",
       "        26.98567482]),\n",
       " <BarContainer object of 10 artists>)"
      ]
     },
     "execution_count": 748,
     "metadata": {},
     "output_type": "execute_result"
    },
    {
     "data": {
      "image/png": "[encoded data removed]",
      "text/plain": [
       "<Figure size 432x288 with 1 Axes>"
      ]
     },
     "metadata": {
      "needs_background": "light"
     },
     "output_type": "display_data"
    }
   ],
   "source": [
    "plt.hist(zp_new)"
   ]
  },
  {
   "cell_type": "code",
   "execution_count": 530,
   "id": "39b0adee",
   "metadata": {},
   "outputs": [],
   "source": [
    "testa = [1,2,3]\n",
    "testb = [4,5,6]\n",
    "testc = []\n",
    "testc.append(testa)\n",
    "testc.append(testb)"
   ]
  },
  {
   "cell_type": "code",
   "execution_count": 531,
   "id": "99146679",
   "metadata": {},
   "outputs": [
    {
     "data": {
      "text/plain": [
       "[[1, 2, 3], [4, 5, 6]]"
      ]
     },
     "execution_count": 531,
     "metadata": {},
     "output_type": "execute_result"
    }
   ],
   "source": [
    "testc\n"
   ]
  },
  {
   "cell_type": "code",
   "execution_count": 535,
   "id": "2f321182",
   "metadata": {},
   "outputs": [
    {
     "data": {
      "text/plain": [
       "6"
      ]
     },
     "execution_count": 535,
     "metadata": {},
     "output_type": "execute_result"
    }
   ],
   "source": [
    "testc[1][2]"
   ]
  },
  {
   "cell_type": "code",
   "execution_count": null,
   "id": "a510633e",
   "metadata": {},
   "outputs": [],
   "source": []
  }
 ],
 "metadata": {
  "kernelspec": {
   "display_name": "Python 3",
   "language": "python",
   "name": "python3"
  },
  "language_info": {
   "codemirror_mode": {
    "name": "ipython",
    "version": 3
   },
   "file_extension": ".py",
   "mimetype": "text/x-python",
   "name": "python",
   "nbconvert_exporter": "python",
   "pygments_lexer": "ipython3",
   "version": "3.8.10"
  }
 },
 "nbformat": 4,
 "nbformat_minor": 5
}
