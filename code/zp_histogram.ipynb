{
 "cells": [
  {
   "cell_type": "code",
   "execution_count": 19,
   "id": "fb479617",
   "metadata": {},
   "outputs": [],
   "source": [
    "from astropy.coordinates import match_coordinates_sky\n",
    "from astropy.coordinates import SkyCoord\n",
    "from astropy.io import ascii\n",
    "import csv\n",
    "import pandas as pd\n",
    "import numpy as np\n",
    "import matplotlib.pyplot as plt\n",
    "\n",
    "\n",
    "catal=ascii.read('/data3/yunyi/SOAO/code/M101_PS1_trial_R.csv')\n",
    "ra = catal['raMean']\n",
    "dec = catal['decMean']\n",
    "c = SkyCoord(ra, dec, frame='icrs', unit='deg')\n",
    "\n",
    "ob = ascii.read('/data3/yunyi/SOAO/code/M101_SOAO_mean_trial_2.cat')    \n",
    "ALPHA_J2000 = ob['ALPHA_J2000']\n",
    "DELTA_J2000 = ob['DELTA_J2000']\n",
    "flag=ob['FLAGS']\n",
    "o = SkyCoord(ALPHA_J2000, DELTA_J2000, frame='icrs', unit='deg')\n",
    "\n",
    "\n",
    "indx, sep, _ = o.match_to_catalog_sky(c)\n",
    "\n",
    "P=[]\n",
    "\n",
    "for i in range(len(o)):\n",
    "    if sep.arcsec[i]<1:\n",
    "        if flag[i]<10:\n",
    "            P.append(i)\n",
    "            \n",
    "mag_ob = np.array(ob['MAG_AUTO'])\n",
    "mag_catal = np.array(catal['R1'])\n",
    "magErr = np.array(ob['MAGERR_AUTO'])\n",
    "gErr = np.array(catal['gMeanKronMagErr'])\n",
    "rErr = np.array(catal['rMeanKronMagErr'])\n",
    "\n",
    "#zero point & zero point error calculation \n",
    "zp = []\n",
    "zpE = []\n",
    "for i in range(len(mag_ob)):\n",
    "    u=indx[i]\n",
    "    x = float(mag_catal[u])-float(mag_ob[i])\n",
    "    e = np.sqrt(magErr[i]**2 + gErr[u]**2 + rErr[u]**2)\n",
    "    zp.append(x)\n",
    "    zpE.append(e)\n",
    "    \n",
    "    \n",
    "mag_c_new=[]\n",
    "zp_new=[]\n",
    "zpE_new=[]\n",
    "for i in P:\n",
    "    u=indx[i]\n",
    "    if 100>zp[i]>0:\n",
    "        #if zpE[i]<0.1:\n",
    "            mag_c_new.append(mag_catal[u])\n",
    "            zpE_new.append(zpE[i])\n",
    "            zp_new.append(zp[i])\n",
    "            \n",
    "\n"
   ]
  },
  {
   "cell_type": "code",
   "execution_count": 20,
   "id": "0ce6708f",
   "metadata": {},
   "outputs": [
    {
     "data": {
      "text/plain": [
       "(array([  1.,   0.,   2.,   2.,  13.,  47., 157.,  26.,  11.,   3.]),\n",
       " array([20.76604317, 21.54484309, 22.323643  , 23.10244292, 23.88124283,\n",
       "        24.66004275, 25.43884266, 26.21764258, 26.99644249, 27.77524241,\n",
       "        28.55404232]),\n",
       " <BarContainer object of 10 artists>)"
      ]
     },
     "execution_count": 20,
     "metadata": {},
     "output_type": "execute_result"
    },
    {
     "data": {
      "image/png": "[encoded data removed]",
      "text/plain": [
       "<Figure size 432x288 with 1 Axes>"
      ]
     },
     "metadata": {
      "needs_background": "light"
     },
     "output_type": "display_data"
    }
   ],
   "source": [
    "plt.hist(zp_new)"
   ]
  },
  {
   "cell_type": "code",
   "execution_count": 16,
   "id": "5c8994dd",
   "metadata": {},
   "outputs": [],
   "source": [
    "a=zp_new"
   ]
  },
  {
   "cell_type": "code",
   "execution_count": 9,
   "id": "6f37052e",
   "metadata": {},
   "outputs": [],
   "source": [
    "b=zp_new"
   ]
  },
  {
   "cell_type": "code",
   "execution_count": 21,
   "id": "8b63957b",
   "metadata": {},
   "outputs": [],
   "source": [
    "c=zp_new"
   ]
  },
  {
   "cell_type": "code",
   "execution_count": 34,
   "id": "ebd512da",
   "metadata": {},
   "outputs": [
    {
     "data": {
      "image/png": "[encoded data removed]",
      "text/plain": [
       "<Figure size 432x288 with 1 Axes>"
      ]
     },
     "metadata": {
      "needs_background": "light"
     },
     "output_type": "display_data"
    }
   ],
   "source": [
    "plt.hist(a, bins=50, alpha=0.3, histtype='stepfilled')\n",
    "plt.hist(b, bins=50, alpha=0.8, histtype='step')\n",
    "plt.hist(c, bins=50,  alpha=0.8, histtype='step')\n",
    "plt.show()"
   ]
  },
  {
   "cell_type": "code",
   "execution_count": null,
   "id": "0c73bef7",
   "metadata": {},
   "outputs": [],
   "source": []
  }
 ],
 "metadata": {
  "kernelspec": {
   "display_name": "Python 3",
   "language": "python",
   "name": "python3"
  },
  "language_info": {
   "codemirror_mode": {
    "name": "ipython",
    "version": 3
   },
   "file_extension": ".py",
   "mimetype": "text/x-python",
   "name": "python",
   "nbconvert_exporter": "python",
   "pygments_lexer": "ipython3",
   "version": "3.8.10"
  }
 },
 "nbformat": 4,
 "nbformat_minor": 5
}
