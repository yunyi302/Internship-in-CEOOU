{
 "cells": [
  {
   "cell_type": "code",
   "execution_count": 27,
   "id": "43592172",
   "metadata": {},
   "outputs": [],
   "source": [
    "def filter_conv(orloca, name):\n",
    "    import csv\n",
    "    import pandas as pd\n",
    "    import numpy as np\n",
    "    import csv\n",
    "\n",
    "    print(pd.read_csv(orloca))\n",
    "    df = pd.read_csv(orloca, sep=' ', usecols = ['gMeanKronMag', 'rMeanKronMag'])\n",
    "    data = np.array(df)\n",
    "    \n",
    "    R=[]\n",
    "    x=0\n",
    "    for i in range(len(data)):\n",
    "        x = 1.166*data[i][1] - 0.166*data[i][0] - 0.142\n",
    "        R.append(x)\n",
    "    \n",
    "    R.insert(0, 'R')\n",
    "    \n",
    "    with open(orloca, 'r') as ifile:\n",
    "        with open(name, 'w') as ofile:\n",
    "            for line, new in zip(ifile, R):\n",
    "                new_line = line.rstrip('\\n')+' '+str(new)+'\\n'\n",
    "                ofile.write(new_line)\n",
    "    \n",
    "    \n",
    "                \n",
    "    \n",
    "            "
   ]
  },
  {
   "cell_type": "code",
   "execution_count": 59,
   "id": "0d92ece3",
   "metadata": {},
   "outputs": [
    {
     "name": "stdout",
     "output_type": "stream",
     "text": [
      "     raMean decMean objInfoFlag qualityFlag gMeanKronMag gMeanKronMagErr gMeanApMag gMeanApMagErr rMeanKronMag rMeanKronMagErr rMeanApMag rMeanApMagErr iMeanKronMag iMeanKronMagErr iMeanApMag iMeanApMagErr zMeanKronMag zMeanKronMagErr zMeanApMag zMeanApMagErr yMeanKronMag yMeanKronMagErr yMeanApMag yMeanApMagErr\n",
      "0     210.82717444 -6.15122294 268959744 32 nan nan ...                                                                                                                                                                                                                                                                  \n",
      "1     210.83771586 -6.15234446 302067712 36 nan nan ...                                                                                                                                                                                                                                                                  \n",
      "2     210.8743794 -6.12687915 436285440 52 20.4895 0...                                                                                                                                                                                                                                                                  \n",
      "3     210.87810657 -6.12630957 503635968 60 18.4204 ...                                                                                                                                                                                                                                                                  \n",
      "4     210.88057394 -6.12558077 302067712 36 21.1903 ...                                                                                                                                                                                                                                                                  \n",
      "...                                                 ...                                                                                                                                                                                                                                                                  \n",
      "2280  210.80952332 -6.05494174 302067712 36 nan nan ...                                                                                                                                                                                                                                                                  \n",
      "2281  210.80951659 -6.05490351 436527104 52 nan nan ...                                                                                                                                                                                                                                                                  \n",
      "2282  210.81240134 -6.05687123 436285440 52 nan nan ...                                                                                                                                                                                                                                                                  \n",
      "2283  210.81741893 -6.05458739 436363264 52 nan nan ...                                                                                                                                                                                                                                                                  \n",
      "2284  210.8312175 -6.05360056 436527104 52 nan nan n...                                                                                                                                                                                                                                                                  \n",
      "\n",
      "[2285 rows x 1 columns]\n"
     ]
    }
   ],
   "source": [
    "orloca = '/data3/yunyi/SOAO/code/NGC5427.csv'\n",
    "loca = '/data3/yunyi/SOAO/code/NGC5427_R.csv'\n",
    "name = 'NGC5427_R.csv'\n",
    "filter_conv(orloca, name)\n"
   ]
  },
  {
   "cell_type": "code",
   "execution_count": 54,
   "id": "adf765e8",
   "metadata": {},
   "outputs": [],
   "source": [
    "import csv\n",
    "import pandas as pd\n",
    "import numpy as np\n",
    "import csv\n",
    "import matplotlib.pyplot as plt\n",
    "from astropy.io import ascii"
   ]
  },
  {
   "cell_type": "code",
   "execution_count": 55,
   "id": "259311b0",
   "metadata": {},
   "outputs": [
    {
     "data": {
      "image/png": "[encoded data removed]",
      "text/plain": [
       "<Figure size 432x288 with 1 Axes>"
      ]
     },
     "metadata": {
      "needs_background": "light"
     },
     "output_type": "display_data"
    }
   ],
   "source": [
    "#r versus R plotting \n",
    "G=ascii.read(loca)\n",
    "R1 = np.array(G['R'])\n",
    "rMeanKronMag = np.array(G['rMeanKronMag'])\n",
    "\n",
    "\n",
    "plt.plot(R1, rMeanKronMag, linestyle='none', marker='s',alpha=0.5)\n",
    "plt.xlim(10,25)\n",
    "plt.ylim(10,25)\n",
    "plt.show()"
   ]
  },
  {
   "cell_type": "code",
   "execution_count": 56,
   "id": "556a72e7",
   "metadata": {},
   "outputs": [
    {
     "data": {
      "text/html": [
       "<i>Table length=2456</i>\n",
       "<table id=\"table140460065635584\" class=\"table-striped table-bordered table-condensed\">\n",
       "<thead><tr><th>raMean</th><th>decMean</th><th>objInfoFlag</th><th>qualityFlag</th><th>gMeanKronMag</th><th>gMeanKronMagErr</th><th>gMeanApMag</th><th>gMeanApMagErr</th><th>rMeanKronMag</th><th>rMeanKronMagErr</th><th>rMeanApMag</th><th>rMeanApMagErr</th><th>iMeanKronMag</th><th>iMeanKronMagErr</th><th>iMeanApMag</th><th>iMeanApMagErr</th><th>zMeanKronMag</th><th>zMeanKronMagErr</th><th>zMeanApMag</th><th>zMeanApMagErr</th><th>yMeanKronMag</th><th>yMeanKronMagErr</th><th>yMeanApMag</th><th>yMeanApMagErr</th><th>R</th></tr></thead>\n",
       "<thead><tr><th>float64</th><th>float64</th><th>int64</th><th>int64</th><th>float64</th><th>float64</th><th>float64</th><th>float64</th><th>float64</th><th>float64</th><th>float64</th><th>float64</th><th>float64</th><th>float64</th><th>float64</th><th>float64</th><th>float64</th><th>float64</th><th>float64</th><th>float64</th><th>float64</th><th>float64</th><th>float64</th><th>float64</th><th>float64</th></tr></thead>\n",
       "<tr><td>154.09076941</td><td>73.28197666</td><td>268959744</td><td>32</td><td>nan</td><td>nan</td><td>nan</td><td>nan</td><td>nan</td><td>nan</td><td>nan</td><td>nan</td><td>nan</td><td>nan</td><td>nan</td><td>nan</td><td>nan</td><td>nan</td><td>21.7747</td><td>0.2781</td><td>18.5637</td><td>0.1789</td><td>18.6335</td><td>0.1886</td><td>nan</td></tr>\n",
       "<tr><td>154.11328587</td><td>73.28171474</td><td>310456320</td><td>37</td><td>20.6827</td><td>0.1614</td><td>20.6752</td><td>0.1505</td><td>nan</td><td>nan</td><td>nan</td><td>nan</td><td>nan</td><td>nan</td><td>nan</td><td>nan</td><td>nan</td><td>nan</td><td>nan</td><td>nan</td><td>nan</td><td>nan</td><td>nan</td><td>nan</td><td>nan</td></tr>\n",
       "<tr><td>154.12123085</td><td>73.30584075</td><td>436527104</td><td>52</td><td>nan</td><td>nan</td><td>nan</td><td>nan</td><td>21.1699</td><td>0.244</td><td>21.0981</td><td>0.1827</td><td>20.9335</td><td>0.2055</td><td>21.0922</td><td>0.1903</td><td>20.7451</td><td>0.0612</td><td>20.7125</td><td>0.0231</td><td>nan</td><td>nan</td><td>nan</td><td>nan</td><td>nan</td></tr>\n",
       "<tr><td>154.13416662</td><td>73.29976388</td><td>310456320</td><td>37</td><td>nan</td><td>nan</td><td>nan</td><td>nan</td><td>17.8498</td><td>0.0202</td><td>17.8217</td><td>0.0161</td><td>17.7379</td><td>0.0</td><td>17.6538</td><td>0.0</td><td>nan</td><td>nan</td><td>nan</td><td>nan</td><td>nan</td><td>nan</td><td>nan</td><td>nan</td><td>nan</td></tr>\n",
       "<tr><td>154.13477793</td><td>73.3028744</td><td>436285440</td><td>52</td><td>nan</td><td>nan</td><td>nan</td><td>nan</td><td>21.4314</td><td>0.1175</td><td>21.3226</td><td>0.1199</td><td>20.5413</td><td>0.0979</td><td>20.4257</td><td>0.1796</td><td>nan</td><td>nan</td><td>nan</td><td>nan</td><td>nan</td><td>nan</td><td>nan</td><td>nan</td><td>nan</td></tr>\n",
       "<tr><td>154.13515887</td><td>73.30291563</td><td>310456320</td><td>37</td><td>nan</td><td>nan</td><td>nan</td><td>nan</td><td>nan</td><td>nan</td><td>nan</td><td>nan</td><td>20.4726</td><td>0.0154</td><td>20.3969</td><td>0.1723</td><td>20.6537</td><td>0.2763</td><td>20.6315</td><td>0.1838</td><td>nan</td><td>nan</td><td>nan</td><td>nan</td><td>nan</td></tr>\n",
       "<tr><td>154.13798741</td><td>73.30209159</td><td>444674048</td><td>53</td><td>nan</td><td>nan</td><td>nan</td><td>nan</td><td>21.3463</td><td>0.2854</td><td>21.1175</td><td>0.1567</td><td>20.3629</td><td>0.1814</td><td>20.1503</td><td>0.1532</td><td>20.0312</td><td>0.2003</td><td>20.0556</td><td>0.1655</td><td>nan</td><td>nan</td><td>nan</td><td>nan</td><td>nan</td></tr>\n",
       "<tr><td>154.20177899</td><td>73.30318196</td><td>444915712</td><td>53</td><td>21.2082</td><td>0.2811</td><td>21.0752</td><td>0.1752</td><td>20.8678</td><td>0.1637</td><td>20.8201</td><td>0.1444</td><td>20.3466</td><td>0.0771</td><td>20.3345</td><td>0.0767</td><td>20.503</td><td>0.2735</td><td>20.4253</td><td>0.1945</td><td>nan</td><td>nan</td><td>nan</td><td>nan</td><td>20.6692936</td></tr>\n",
       "<tr><td>154.22281783</td><td>73.30028235</td><td>302067712</td><td>36</td><td>nan</td><td>nan</td><td>nan</td><td>nan</td><td>nan</td><td>nan</td><td>nan</td><td>nan</td><td>nan</td><td>nan</td><td>nan</td><td>nan</td><td>nan</td><td>nan</td><td>nan</td><td>nan</td><td>16.8555</td><td>0.1029</td><td>17.1593</td><td>0.1503</td><td>nan</td></tr>\n",
       "<tr><td>154.23515679</td><td>73.30242332</td><td>436527104</td><td>52</td><td>nan</td><td>nan</td><td>nan</td><td>nan</td><td>nan</td><td>nan</td><td>nan</td><td>nan</td><td>20.793</td><td>0.1378</td><td>20.6682</td><td>0.1194</td><td>20.083</td><td>0.0833</td><td>20.0767</td><td>0.1045</td><td>19.3516</td><td>0.1499</td><td>19.4667</td><td>0.1687</td><td>nan</td></tr>\n",
       "<tr><td>...</td><td>...</td><td>...</td><td>...</td><td>...</td><td>...</td><td>...</td><td>...</td><td>...</td><td>...</td><td>...</td><td>...</td><td>...</td><td>...</td><td>...</td><td>...</td><td>...</td><td>...</td><td>...</td><td>...</td><td>...</td><td>...</td><td>...</td><td>...</td><td>...</td></tr>\n",
       "<tr><td>154.25501962</td><td>73.43074085</td><td>302067712</td><td>36</td><td>nan</td><td>nan</td><td>nan</td><td>nan</td><td>nan</td><td>nan</td><td>nan</td><td>nan</td><td>20.1281</td><td>0.1918</td><td>20.0303</td><td>0.1837</td><td>20.3965</td><td>0.2186</td><td>20.4216</td><td>0.155</td><td>nan</td><td>nan</td><td>nan</td><td>nan</td><td>nan</td></tr>\n",
       "<tr><td>154.25970259</td><td>73.43025782</td><td>302067712</td><td>36</td><td>nan</td><td>nan</td><td>nan</td><td>nan</td><td>nan</td><td>nan</td><td>nan</td><td>nan</td><td>nan</td><td>nan</td><td>25.0073</td><td>0.2041</td><td>nan</td><td>nan</td><td>20.7364</td><td>0.1457</td><td>nan</td><td>nan</td><td>nan</td><td>nan</td><td>nan</td></tr>\n",
       "<tr><td>154.26685062</td><td>73.42493358</td><td>436527104</td><td>52</td><td>20.6062</td><td>0.1456</td><td>20.4152</td><td>0.1582</td><td>20.4918</td><td>0.0634</td><td>20.3716</td><td>0.0843</td><td>19.3813</td><td>0.1291</td><td>19.4276</td><td>0.1143</td><td>19.9888</td><td>0.0814</td><td>20.0661</td><td>0.1487</td><td>20.3637</td><td>0.3279</td><td>20.0095</td><td>0.2452</td><td>20.3308096</td></tr>\n",
       "<tr><td>154.26843227</td><td>73.42462676</td><td>268513280</td><td>32</td><td>nan</td><td>nan</td><td>nan</td><td>nan</td><td>nan</td><td>nan</td><td>20.113</td><td>0.193</td><td>nan</td><td>nan</td><td>nan</td><td>nan</td><td>19.4313</td><td>0.2115</td><td>19.3949</td><td>0.1169</td><td>nan</td><td>nan</td><td>nan</td><td>nan</td><td>nan</td></tr>\n",
       "<tr><td>154.26884776</td><td>73.43193009</td><td>268959744</td><td>32</td><td>nan</td><td>nan</td><td>nan</td><td>nan</td><td>nan</td><td>nan</td><td>nan</td><td>nan</td><td>nan</td><td>nan</td><td>21.2428</td><td>0.1343</td><td>nan</td><td>nan</td><td>nan</td><td>nan</td><td>nan</td><td>nan</td><td>nan</td><td>nan</td><td>nan</td></tr>\n",
       "<tr><td>154.26935372</td><td>73.43106292</td><td>302067712</td><td>36</td><td>nan</td><td>nan</td><td>nan</td><td>nan</td><td>nan</td><td>nan</td><td>nan</td><td>nan</td><td>nan</td><td>nan</td><td>21.1146</td><td>0.1886</td><td>nan</td><td>nan</td><td>nan</td><td>nan</td><td>nan</td><td>nan</td><td>nan</td><td>nan</td><td>nan</td></tr>\n",
       "<tr><td>154.27024283</td><td>73.42951823</td><td>268959744</td><td>32</td><td>nan</td><td>nan</td><td>nan</td><td>nan</td><td>nan</td><td>nan</td><td>nan</td><td>nan</td><td>20.7628</td><td>0.1701</td><td>20.9088</td><td>0.3025</td><td>nan</td><td>nan</td><td>nan</td><td>nan</td><td>nan</td><td>nan</td><td>nan</td><td>nan</td><td>nan</td></tr>\n",
       "<tr><td>154.2727057</td><td>73.42593971</td><td>268959744</td><td>32</td><td>nan</td><td>nan</td><td>nan</td><td>nan</td><td>nan</td><td>nan</td><td>nan</td><td>nan</td><td>nan</td><td>nan</td><td>21.5307</td><td>0.0006</td><td>nan</td><td>nan</td><td>nan</td><td>nan</td><td>nan</td><td>nan</td><td>nan</td><td>nan</td><td>nan</td></tr>\n",
       "<tr><td>154.27369156</td><td>73.42469416</td><td>310456320</td><td>37</td><td>nan</td><td>nan</td><td>nan</td><td>nan</td><td>nan</td><td>nan</td><td>nan</td><td>nan</td><td>nan</td><td>nan</td><td>20.9978</td><td>0.1252</td><td>nan</td><td>nan</td><td>nan</td><td>nan</td><td>nan</td><td>nan</td><td>nan</td><td>nan</td><td>nan</td></tr>\n",
       "<tr><td>154.2838344</td><td>73.42498684</td><td>277348352</td><td>33</td><td>21.3431</td><td>0.1687</td><td>20.9303</td><td>0.2226</td><td>nan</td><td>nan</td><td>nan</td><td>nan</td><td>nan</td><td>nan</td><td>nan</td><td>nan</td><td>nan</td><td>nan</td><td>nan</td><td>nan</td><td>nan</td><td>nan</td><td>nan</td><td>nan</td><td>nan</td></tr>\n",
       "</table>"
      ],
      "text/plain": [
       "<Table length=2456>\n",
       "   raMean      decMean   objInfoFlag ... yMeanApMag yMeanApMagErr     R     \n",
       "  float64      float64      int64    ...  float64      float64     float64  \n",
       "------------ ----------- ----------- ... ---------- ------------- ----------\n",
       "154.09076941 73.28197666   268959744 ...    18.6335        0.1886        nan\n",
       "154.11328587 73.28171474   310456320 ...        nan           nan        nan\n",
       "154.12123085 73.30584075   436527104 ...        nan           nan        nan\n",
       "154.13416662 73.29976388   310456320 ...        nan           nan        nan\n",
       "154.13477793  73.3028744   436285440 ...        nan           nan        nan\n",
       "154.13515887 73.30291563   310456320 ...        nan           nan        nan\n",
       "154.13798741 73.30209159   444674048 ...        nan           nan        nan\n",
       "154.20177899 73.30318196   444915712 ...        nan           nan 20.6692936\n",
       "154.22281783 73.30028235   302067712 ...    17.1593        0.1503        nan\n",
       "154.23515679 73.30242332   436527104 ...    19.4667        0.1687        nan\n",
       "         ...         ...         ... ...        ...           ...        ...\n",
       "154.25501962 73.43074085   302067712 ...        nan           nan        nan\n",
       "154.25970259 73.43025782   302067712 ...        nan           nan        nan\n",
       "154.26685062 73.42493358   436527104 ...    20.0095        0.2452 20.3308096\n",
       "154.26843227 73.42462676   268513280 ...        nan           nan        nan\n",
       "154.26884776 73.43193009   268959744 ...        nan           nan        nan\n",
       "154.26935372 73.43106292   302067712 ...        nan           nan        nan\n",
       "154.27024283 73.42951823   268959744 ...        nan           nan        nan\n",
       " 154.2727057 73.42593971   268959744 ...        nan           nan        nan\n",
       "154.27369156 73.42469416   310456320 ...        nan           nan        nan\n",
       " 154.2838344 73.42498684   277348352 ...        nan           nan        nan"
      ]
     },
     "execution_count": 56,
     "metadata": {},
     "output_type": "execute_result"
    }
   ],
   "source": [
    "G"
   ]
  },
  {
   "cell_type": "code",
   "execution_count": null,
   "id": "5830adc2",
   "metadata": {},
   "outputs": [],
   "source": []
  }
 ],
 "metadata": {
  "kernelspec": {
   "display_name": "Python 3",
   "language": "python",
   "name": "python3"
  },
  "language_info": {
   "codemirror_mode": {
    "name": "ipython",
    "version": 3
   },
   "file_extension": ".py",
   "mimetype": "text/x-python",
   "name": "python",
   "nbconvert_exporter": "python",
   "pygments_lexer": "ipython3",
   "version": "3.8.10"
  }
 },
 "nbformat": 4,
 "nbformat_minor": 5
}
