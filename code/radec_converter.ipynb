{
 "cells": [
  {
   "cell_type": "code",
   "execution_count": 21,
   "id": "5cd21ae1",
   "metadata": {},
   "outputs": [],
   "source": [
    "import numpy as np"
   ]
  },
  {
   "cell_type": "code",
   "execution_count": 25,
   "id": "0bde1050",
   "metadata": {},
   "outputs": [],
   "source": [
    "def raconverter(ra):\n",
    "    d=ra/15\n",
    "    dd=int(d)\n",
    "    mm=int((d-dd)*60)\n",
    "    ss=(((d-dd)*60-mm)*60)\n",
    "    \n",
    "    return dd, mm, ss\n",
    "        "
   ]
  },
  {
   "cell_type": "code",
   "execution_count": 26,
   "id": "39fffd4c",
   "metadata": {},
   "outputs": [
    {
     "data": {
      "text/plain": [
       "(10, 16, 32.84515439999552)"
      ]
     },
     "execution_count": 26,
     "metadata": {},
     "output_type": "execute_result"
    }
   ],
   "source": [
    "raconverter(154.13685481)"
   ]
  },
  {
   "cell_type": "code",
   "execution_count": 27,
   "id": "eb9522bb",
   "metadata": {},
   "outputs": [],
   "source": [
    "def decconverter(dec):\n",
    "    dd=int(dec)\n",
    "    mm=int((dec-dd)*60)\n",
    "    ss=(((dec-dd)*60-mm)*60)\n",
    "    \n",
    "    return dd, mm, ss"
   ]
  },
  {
   "cell_type": "code",
   "execution_count": 28,
   "id": "ba67fc9f",
   "metadata": {},
   "outputs": [
    {
     "data": {
      "text/plain": [
       "(73, 12, 47.5383960000147)"
      ]
     },
     "execution_count": 28,
     "metadata": {},
     "output_type": "execute_result"
    }
   ],
   "source": [
    "decconverter(73.21320511)"
   ]
  },
  {
   "cell_type": "code",
   "execution_count": 22,
   "id": "884f5f30",
   "metadata": {},
   "outputs": [],
   "source": [
    "def dist(radis, decdis):\n",
    "    dist = np.sqrt(radis**2 + decdis**2)\n",
    "    dd=int(dist)\n",
    "    mm=int((dist-dd)*60)\n",
    "    ss=(((dist-dd)*60-mm)*60)\n",
    "    \n",
    "    return dd, mm, ss"
   ]
  },
  {
   "cell_type": "code",
   "execution_count": 30,
   "id": "fd22bf50",
   "metadata": {},
   "outputs": [
    {
     "data": {
      "text/plain": [
       "(0, 0, 6.792466415080755)"
      ]
     },
     "execution_count": 30,
     "metadata": {},
     "output_type": "execute_result"
    }
   ],
   "source": [
    "dist(0.0016, 0.001)"
   ]
  },
  {
   "cell_type": "code",
   "execution_count": 32,
   "id": "1f1abdef",
   "metadata": {},
   "outputs": [
    {
     "data": {
      "text/plain": [
       "31.11111111111111"
      ]
     },
     "execution_count": 32,
     "metadata": {},
     "output_type": "execute_result"
    }
   ],
   "source": [
    "14/0.45"
   ]
  },
  {
   "cell_type": "code",
   "execution_count": null,
   "id": "2a24d3ee",
   "metadata": {},
   "outputs": [],
   "source": []
  }
 ],
 "metadata": {
  "kernelspec": {
   "display_name": "Python 3",
   "language": "python",
   "name": "python3"
  },
  "language_info": {
   "codemirror_mode": {
    "name": "ipython",
    "version": 3
   },
   "file_extension": ".py",
   "mimetype": "text/x-python",
   "name": "python",
   "nbconvert_exporter": "python",
   "pygments_lexer": "ipython3",
   "version": "3.8.10"
  }
 },
 "nbformat": 4,
 "nbformat_minor": 5
}
