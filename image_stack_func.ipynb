{
 "cells": [
  {
   "cell_type": "code",
   "execution_count": 113,
   "id": "233acae6",
   "metadata": {},
   "outputs": [],
   "source": [
    "def make_filelist(path):\n",
    "    import os\n",
    "\n",
    "    file=[]\n",
    "    for root, directories, files in os.walk(path, topdown=False):  \n",
    "        for name in files:\n",
    "            file.append(os.path.join(root,name))\n",
    "        \n",
    "    return file"
   ]
  },
  {
   "cell_type": "code",
   "execution_count": 124,
   "id": "c1fec55d",
   "metadata": {},
   "outputs": [],
   "source": [
    "filelist=make_filelist('/data3/yunyi/SOAO/select/NGC3147/aligned')\n",
    "reference = filelist[0]"
   ]
  },
  {
   "cell_type": "code",
   "execution_count": 126,
   "id": "18fad97f",
   "metadata": {},
   "outputs": [
    {
     "data": {
      "text/plain": [
       "['/data3/yunyi/SOAO/select/NGC3147/aligned/aligned_Calib-SOAO-NGC3147-20210507-113743-R-60.fits',\n",
       " '/data3/yunyi/SOAO/select/NGC3147/aligned/aligned_Calib-SOAO-NGC3147-20210507-114128-R-60.fits',\n",
       " '/data3/yunyi/SOAO/select/NGC3147/aligned/aligned_Calib-SOAO-NGC3147-20210507-114512-R-60.fits',\n",
       " '/data3/yunyi/SOAO/select/NGC3147/aligned/aligned_Calib-SOAO-NGC3147-20210507-114856-R-60.fits',\n",
       " '/data3/yunyi/SOAO/select/NGC3147/aligned/aligned_Calib-SOAO-NGC3147-20210507-115240-R-60.fits',\n",
       " '/data3/yunyi/SOAO/select/NGC3147/aligned/aligned_Calib-SOAO-NGC3147-20210507-115628-R-60.fits',\n",
       " '/data3/yunyi/SOAO/select/NGC3147/aligned/aligned_Calib-SOAO-NGC3147-20210507-120015-R-60.fits',\n",
       " '/data3/yunyi/SOAO/select/NGC3147/aligned/aligned_Calib-SOAO-NGC3147-20210507-120359-R-60.fits',\n",
       " '/data3/yunyi/SOAO/select/NGC3147/aligned/aligned_Calib-SOAO-NGC3147-20210507-120744-R-60.fits',\n",
       " '/data3/yunyi/SOAO/select/NGC3147/aligned/aligned_Calib-SOAO-NGC3147-20210507-121128-R-60.fits',\n",
       " '/data3/yunyi/SOAO/select/NGC3147/aligned/aligned_Calib-SOAO-NGC3147-20210507-121512-R-60.fits',\n",
       " '/data3/yunyi/SOAO/select/NGC3147/aligned/aligned_Calib-SOAO-NGC3147-20210507-121857-R-60.fits',\n",
       " '/data3/yunyi/SOAO/select/NGC3147/aligned/aligned_Calib-SOAO-NGC3147-20210507-122241-R-60.fits',\n",
       " '/data3/yunyi/SOAO/select/NGC3147/aligned/aligned_Calib-SOAO-NGC3147-20210507-122626-R-60.fits',\n",
       " '/data3/yunyi/SOAO/select/NGC3147/aligned/aligned_Calib-SOAO-NGC3147-20210507-123012-R-60.fits']"
      ]
     },
     "execution_count": 126,
     "metadata": {},
     "output_type": "execute_result"
    }
   ],
   "source": [
    "filelist"
   ]
  },
  {
   "cell_type": "code",
   "execution_count": 116,
   "id": "9e207fe2",
   "metadata": {},
   "outputs": [],
   "source": [
    "import numpy as np\n",
    "import matplotlib.pyplot as plt\n",
    "import os \n",
    "import glob\n",
    "import astropy.units as u\n",
    "from astropy.nddata import CCDData\n",
    "from ccdproc import Combiner\n",
    "from astropy.io import fits\n",
    "from astropy.io import ascii\n",
    "from astropy.coordinates import SkyCoord\n",
    "from astropy.time import Time"
   ]
  },
  {
   "cell_type": "code",
   "execution_count": 127,
   "id": "534473dd",
   "metadata": {},
   "outputs": [],
   "source": [
    "images=[]\n",
    "\n",
    "for i in range(len(filelist)):\n",
    "    image_data=fits.open(x[i])\n",
    "    data=image_data[0].data\n",
    "    images.append(data)\n",
    "    \n",
    "header_data = fits.open(reference)\n",
    "ref_header = header_data[0].header"
   ]
  },
  {
   "cell_type": "code",
   "execution_count": 128,
   "id": "8b89476c",
   "metadata": {},
   "outputs": [],
   "source": [
    "final_image=[]\n",
    "final_image=np.median(images, axis=0)\n"
   ]
  },
  {
   "cell_type": "code",
   "execution_count": 129,
   "id": "b788053a",
   "metadata": {},
   "outputs": [],
   "source": [
    "fits.writeto(\"median_NGC3147.fits\", final_image, ref_header)"
   ]
  },
  {
   "cell_type": "code",
   "execution_count": 71,
   "id": "a9957e8d",
   "metadata": {},
   "outputs": [],
   "source": []
  },
  {
   "cell_type": "code",
   "execution_count": null,
   "id": "746aba88",
   "metadata": {},
   "outputs": [],
   "source": []
  },
  {
   "cell_type": "code",
   "execution_count": null,
   "id": "c293a5ac",
   "metadata": {},
   "outputs": [],
   "source": []
  },
  {
   "cell_type": "code",
   "execution_count": null,
   "id": "f2f18110",
   "metadata": {},
   "outputs": [],
   "source": []
  }
 ],
 "metadata": {
  "kernelspec": {
   "display_name": "Python 3",
   "language": "python",
   "name": "python3"
  },
  "language_info": {
   "codemirror_mode": {
    "name": "ipython",
    "version": 3
   },
   "file_extension": ".py",
   "mimetype": "text/x-python",
   "name": "python",
   "nbconvert_exporter": "python",
   "pygments_lexer": "ipython3",
   "version": "3.8.10"
  }
 },
 "nbformat": 4,
 "nbformat_minor": 5
}
